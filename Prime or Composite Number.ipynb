{
 "cells": [
  {
   "cell_type": "markdown",
   "id": "be342622",
   "metadata": {},
   "source": [
    "# Prime or Composite Number"
   ]
  },
  {
   "cell_type": "code",
   "execution_count": 2,
   "id": "19952901",
   "metadata": {},
   "outputs": [
    {
     "name": "stdout",
     "output_type": "stream",
     "text": [
      "Enter the number : 11\n",
      "11 is a prime number\n"
     ]
    }
   ],
   "source": [
    "num = int(input(\"Enter the number : \"))\n",
    "  \n",
    "\n",
    "if num > 1:\n",
    "  \n",
    "   \n",
    "    for i in range(2, int(num/2)+1):\n",
    "  \n",
    "        if (num % i) == 0:\n",
    "            print(num, \"is a composite number\")\n",
    "            break\n",
    "    else:\n",
    "        print(num, \"is a prime number\")"
   ]
  },
  {
   "cell_type": "code",
   "execution_count": null,
   "id": "f2b88b59",
   "metadata": {},
   "outputs": [],
   "source": []
  },
  {
   "cell_type": "code",
   "execution_count": null,
   "id": "54dd9a9f",
   "metadata": {},
   "outputs": [],
   "source": []
  }
 ],
 "metadata": {
  "kernelspec": {
   "display_name": "Python 3",
   "language": "python",
   "name": "python3"
  },
  "language_info": {
   "codemirror_mode": {
    "name": "ipython",
    "version": 3
   },
   "file_extension": ".py",
   "mimetype": "text/x-python",
   "name": "python",
   "nbconvert_exporter": "python",
   "pygments_lexer": "ipython3",
   "version": "3.8.8"
  }
 },
 "nbformat": 4,
 "nbformat_minor": 5
}
