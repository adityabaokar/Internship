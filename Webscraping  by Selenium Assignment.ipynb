{
 "cells": [
  {
   "cell_type": "markdown",
   "id": "fa1ce76d",
   "metadata": {},
   "source": [
    "# Q1. Python program to scrape data for “Data Analyst” Job position in “Bangalore” location"
   ]
  },
  {
   "cell_type": "code",
   "execution_count": 2,
   "id": "4348d7e9",
   "metadata": {},
   "outputs": [],
   "source": [
    "import selenium\n",
    "import pandas as pd\n",
    "from selenium import webdriver\n",
    "import warnings\n",
    "warnings.filterwarnings(\"ignore\")\n",
    "import time"
   ]
  },
  {
   "cell_type": "code",
   "execution_count": 3,
   "id": "9cc78604",
   "metadata": {},
   "outputs": [],
   "source": [
    "driver=webdriver.Chrome(\"chromedriver.exe\") #Connecting to chrome driver\n",
    "time.sleep(2)"
   ]
  },
  {
   "cell_type": "code",
   "execution_count": 4,
   "id": "8f054a49",
   "metadata": {},
   "outputs": [],
   "source": [
    "driver.get(\"https://www.naukri.com\") #specifying the url to connect"
   ]
  },
  {
   "cell_type": "code",
   "execution_count": 5,
   "id": "0dde9191",
   "metadata": {},
   "outputs": [],
   "source": [
    "search_field_designation=driver.find_element_by_class_name(\"suggestor-input\") #job search\n",
    "search_field_designation.send_keys(\"Data Analyst\")\n",
    "search_field_location=driver.find_element_by_xpath(\"/html/body/div/div[2]/div[3]/div/div/div[3]/div/div/div/input\")#location search bar\n",
    "search_field_location.send_keys(\"Bangalore\")"
   ]
  },
  {
   "cell_type": "code",
   "execution_count": 6,
   "id": "dd13dc0d",
   "metadata": {},
   "outputs": [],
   "source": [
    "search_button=driver.find_element_by_xpath(\"/html/body/div/div[2]/div[3]/div/div/div[6]\") #search button\n",
    "search_button.click()  "
   ]
  },
  {
   "cell_type": "code",
   "execution_count": 7,
   "id": "63122ede",
   "metadata": {},
   "outputs": [],
   "source": [
    "#list we want to create\n",
    "\n",
    "job_titles=[]\n",
    "company_names=[]\n",
    "location_list=[]\n",
    "experience_list=[]"
   ]
  },
  {
   "cell_type": "code",
   "execution_count": 39,
   "id": "063f3d4d",
   "metadata": {},
   "outputs": [
    {
     "data": {
      "text/plain": [
       "[<selenium.webdriver.remote.webelement.WebElement (session=\"78015a206c0a740cf77ec56d52bcf3a1\", element=\"a87fa2b4-6e5a-447c-8bac-7a81891b9c25\")>,\n",
       " <selenium.webdriver.remote.webelement.WebElement (session=\"78015a206c0a740cf77ec56d52bcf3a1\", element=\"4bca2d1d-1a95-47d5-aa56-e74816369930\")>,\n",
       " <selenium.webdriver.remote.webelement.WebElement (session=\"78015a206c0a740cf77ec56d52bcf3a1\", element=\"d17a616f-0d59-4a42-bb42-6e25beb41fa4\")>,\n",
       " <selenium.webdriver.remote.webelement.WebElement (session=\"78015a206c0a740cf77ec56d52bcf3a1\", element=\"ec8c7564-6e43-4c5f-a3e9-b38fbab49684\")>,\n",
       " <selenium.webdriver.remote.webelement.WebElement (session=\"78015a206c0a740cf77ec56d52bcf3a1\", element=\"14f5ca8f-80b4-44c5-a0da-b188479e616e\")>,\n",
       " <selenium.webdriver.remote.webelement.WebElement (session=\"78015a206c0a740cf77ec56d52bcf3a1\", element=\"dba21f0a-9215-4378-9c29-70657c553eea\")>,\n",
       " <selenium.webdriver.remote.webelement.WebElement (session=\"78015a206c0a740cf77ec56d52bcf3a1\", element=\"9d3afdee-d6ce-44a9-b365-2fef5600eb5b\")>,\n",
       " <selenium.webdriver.remote.webelement.WebElement (session=\"78015a206c0a740cf77ec56d52bcf3a1\", element=\"3c95a5bf-6008-413a-8672-75aba7ca42a6\")>,\n",
       " <selenium.webdriver.remote.webelement.WebElement (session=\"78015a206c0a740cf77ec56d52bcf3a1\", element=\"e906322f-2511-426d-836d-960cdda53c9f\")>,\n",
       " <selenium.webdriver.remote.webelement.WebElement (session=\"78015a206c0a740cf77ec56d52bcf3a1\", element=\"c248d4d7-b281-4aff-8fe9-d203e8b9d9ed\")>]"
      ]
     },
     "execution_count": 39,
     "metadata": {},
     "output_type": "execute_result"
    }
   ],
   "source": [
    "titles_tags=driver.find_elements_by_xpath(\"//a[@class='title fw500 ellipsis']\") #extracting title tags\n",
    "titles_tags[0:10]"
   ]
  },
  {
   "cell_type": "code",
   "execution_count": 40,
   "id": "f807227d",
   "metadata": {},
   "outputs": [
    {
     "data": {
      "text/plain": [
       "['Data Scientist & Machine Learning Engineer',\n",
       " 'Data Scientist - Immediate Joiners',\n",
       " 'Data Scientist/Engineer - Global Telecom Setup',\n",
       " 'Immediate Hiring Freshers/Exp Folks For Data Engineer/ Data Scientist',\n",
       " 'Data Scientist',\n",
       " 'Lead Engineer Data Engineer/Scientist _III',\n",
       " 'Lead Engineer Python Data Engineer/Scientist III',\n",
       " 'Senior Data Scientist',\n",
       " 'Senior Software Engineer - Python Data Engineer/Scientist',\n",
       " 'Senior Software Engineer -Data Engineer/Scientist II']"
      ]
     },
     "execution_count": 40,
     "metadata": {},
     "output_type": "execute_result"
    }
   ],
   "source": [
    "for i in titles_tags:\n",
    "    title=i.text\n",
    "    job_titles.append(title)\n",
    "job_titles[0:10]  "
   ]
  },
  {
   "cell_type": "code",
   "execution_count": 41,
   "id": "8e47fdaa",
   "metadata": {},
   "outputs": [
    {
     "data": {
      "text/plain": [
       "[<selenium.webdriver.remote.webelement.WebElement (session=\"78015a206c0a740cf77ec56d52bcf3a1\", element=\"d2196814-d26e-4e05-ad89-269b19bd4b64\")>,\n",
       " <selenium.webdriver.remote.webelement.WebElement (session=\"78015a206c0a740cf77ec56d52bcf3a1\", element=\"6ffe8a05-256f-4717-abef-d0119cd69bc0\")>,\n",
       " <selenium.webdriver.remote.webelement.WebElement (session=\"78015a206c0a740cf77ec56d52bcf3a1\", element=\"b9917c3d-2a27-471f-8569-582e1ef75b6f\")>,\n",
       " <selenium.webdriver.remote.webelement.WebElement (session=\"78015a206c0a740cf77ec56d52bcf3a1\", element=\"611d30b1-0450-43ae-981a-4ff754d2f374\")>,\n",
       " <selenium.webdriver.remote.webelement.WebElement (session=\"78015a206c0a740cf77ec56d52bcf3a1\", element=\"0b3e22d8-942f-4894-b2a1-1993e8dc57b8\")>,\n",
       " <selenium.webdriver.remote.webelement.WebElement (session=\"78015a206c0a740cf77ec56d52bcf3a1\", element=\"ccd1fef1-39b6-4a27-9f6a-d25da8486643\")>,\n",
       " <selenium.webdriver.remote.webelement.WebElement (session=\"78015a206c0a740cf77ec56d52bcf3a1\", element=\"1a5ec392-2ccf-4011-bb80-b6db221e70a6\")>,\n",
       " <selenium.webdriver.remote.webelement.WebElement (session=\"78015a206c0a740cf77ec56d52bcf3a1\", element=\"9680f323-2db5-4594-819d-0e46c4138283\")>,\n",
       " <selenium.webdriver.remote.webelement.WebElement (session=\"78015a206c0a740cf77ec56d52bcf3a1\", element=\"f894333d-9c29-4126-abad-96016149e699\")>,\n",
       " <selenium.webdriver.remote.webelement.WebElement (session=\"78015a206c0a740cf77ec56d52bcf3a1\", element=\"8e4c6d5b-6dce-4df6-8d38-4a1d7351f3d3\")>]"
      ]
     },
     "execution_count": 41,
     "metadata": {},
     "output_type": "execute_result"
    }
   ],
   "source": [
    "companies_tags=driver.find_elements_by_xpath(\"//a[@class='subTitle ellipsis fleft']\") #extracting company tags\n",
    "companies_tags[0:10]"
   ]
  },
  {
   "cell_type": "code",
   "execution_count": 42,
   "id": "71a331d7",
   "metadata": {},
   "outputs": [
    {
     "data": {
      "text/plain": [
       "['ASCENT TECHNOSYSTEMS PRIVATE LIMITED',\n",
       " 'Bristlecone',\n",
       " 'Global Telecom Setup',\n",
       " 'RANDOMTREES PRIVATE LIMITED',\n",
       " 'Applied Materials',\n",
       " 'Deutsche Bank',\n",
       " 'Deutsche Bank',\n",
       " 'Michelin',\n",
       " 'Deutsche Bank',\n",
       " 'Deutsche Bank']"
      ]
     },
     "execution_count": 42,
     "metadata": {},
     "output_type": "execute_result"
    }
   ],
   "source": [
    "for i in companies_tags:\n",
    "    company_name=i.text\n",
    "    company_names.append(company_name) \n",
    "    \n",
    "company_names[0:10]"
   ]
  },
  {
   "cell_type": "code",
   "execution_count": 43,
   "id": "e0d15ae3",
   "metadata": {},
   "outputs": [
    {
     "data": {
      "text/plain": [
       "[<selenium.webdriver.remote.webelement.WebElement (session=\"78015a206c0a740cf77ec56d52bcf3a1\", element=\"1b24f5eb-aec3-4947-8d48-4fe12bb2d480\")>,\n",
       " <selenium.webdriver.remote.webelement.WebElement (session=\"78015a206c0a740cf77ec56d52bcf3a1\", element=\"6b5f325c-0bec-43a5-9549-31b869882b1a\")>,\n",
       " <selenium.webdriver.remote.webelement.WebElement (session=\"78015a206c0a740cf77ec56d52bcf3a1\", element=\"34b2ea37-fd2e-4f17-ab9f-7e30e01f0b44\")>,\n",
       " <selenium.webdriver.remote.webelement.WebElement (session=\"78015a206c0a740cf77ec56d52bcf3a1\", element=\"97759d8f-a3f7-43f6-afd5-b0653fddad8d\")>,\n",
       " <selenium.webdriver.remote.webelement.WebElement (session=\"78015a206c0a740cf77ec56d52bcf3a1\", element=\"46938674-a099-4f1c-9cac-5dac81c3f6c0\")>,\n",
       " <selenium.webdriver.remote.webelement.WebElement (session=\"78015a206c0a740cf77ec56d52bcf3a1\", element=\"8889e2b7-2238-437a-8755-0371db118450\")>,\n",
       " <selenium.webdriver.remote.webelement.WebElement (session=\"78015a206c0a740cf77ec56d52bcf3a1\", element=\"e7c35283-1446-41e1-80d9-7e110e91f716\")>,\n",
       " <selenium.webdriver.remote.webelement.WebElement (session=\"78015a206c0a740cf77ec56d52bcf3a1\", element=\"4e3e1293-1f67-47e2-8487-8806a60e7fd2\")>,\n",
       " <selenium.webdriver.remote.webelement.WebElement (session=\"78015a206c0a740cf77ec56d52bcf3a1\", element=\"b43db1a0-bd42-4c10-8397-536ce1a2c1d4\")>,\n",
       " <selenium.webdriver.remote.webelement.WebElement (session=\"78015a206c0a740cf77ec56d52bcf3a1\", element=\"b8ca1468-ddbd-4ff9-b14d-7fa0d4a69752\")>]"
      ]
     },
     "execution_count": 43,
     "metadata": {},
     "output_type": "execute_result"
    }
   ],
   "source": [
    "experience_tags=driver.find_elements_by_xpath(\"//li[@class='fleft grey-text br2 placeHolderLi experience']/span[1] \") \n",
    "#extracting experience tags\n",
    "experience_tags[0:10]"
   ]
  },
  {
   "cell_type": "code",
   "execution_count": 44,
   "id": "a0a9ecdd",
   "metadata": {},
   "outputs": [
    {
     "data": {
      "text/plain": [
       "['0-5 Yrs',\n",
       " '5-8 Yrs',\n",
       " '3-8 Yrs',\n",
       " '0-3 Yrs',\n",
       " '0-3 Yrs',\n",
       " '4-13 Yrs',\n",
       " '5-10 Yrs',\n",
       " '3-7 Yrs',\n",
       " '3-8 Yrs',\n",
       " '3-10 Yrs']"
      ]
     },
     "execution_count": 44,
     "metadata": {},
     "output_type": "execute_result"
    }
   ],
   "source": [
    "for i in experience_tags:\n",
    "    experience=i.text\n",
    "    experience_list.append(experience) \n",
    "    \n",
    "experience_list[0:10]"
   ]
  },
  {
   "cell_type": "code",
   "execution_count": 45,
   "id": "bf13a8ef",
   "metadata": {},
   "outputs": [
    {
     "data": {
      "text/plain": [
       "[<selenium.webdriver.remote.webelement.WebElement (session=\"78015a206c0a740cf77ec56d52bcf3a1\", element=\"3f62fd29-625d-4b75-8e53-6cddfd884f73\")>,\n",
       " <selenium.webdriver.remote.webelement.WebElement (session=\"78015a206c0a740cf77ec56d52bcf3a1\", element=\"14e7133e-fe55-4add-9753-0c2663b5daa3\")>,\n",
       " <selenium.webdriver.remote.webelement.WebElement (session=\"78015a206c0a740cf77ec56d52bcf3a1\", element=\"786ec0b2-b087-4f6d-a54d-d7d4399eb788\")>,\n",
       " <selenium.webdriver.remote.webelement.WebElement (session=\"78015a206c0a740cf77ec56d52bcf3a1\", element=\"b31585ef-2912-4197-be6a-9d97f6221179\")>,\n",
       " <selenium.webdriver.remote.webelement.WebElement (session=\"78015a206c0a740cf77ec56d52bcf3a1\", element=\"35d0226e-7eff-4079-85e4-fc945f9eb265\")>,\n",
       " <selenium.webdriver.remote.webelement.WebElement (session=\"78015a206c0a740cf77ec56d52bcf3a1\", element=\"71e2c9d4-009f-4cf4-bb32-6dffc51b3f03\")>,\n",
       " <selenium.webdriver.remote.webelement.WebElement (session=\"78015a206c0a740cf77ec56d52bcf3a1\", element=\"13b5cad3-f138-4afe-9d79-d7e99ef9b1a2\")>,\n",
       " <selenium.webdriver.remote.webelement.WebElement (session=\"78015a206c0a740cf77ec56d52bcf3a1\", element=\"b3c9e85a-656a-416c-88cf-2bde7ba20de1\")>,\n",
       " <selenium.webdriver.remote.webelement.WebElement (session=\"78015a206c0a740cf77ec56d52bcf3a1\", element=\"a5e955e0-4cd0-4267-b846-7420e5a9b12a\")>,\n",
       " <selenium.webdriver.remote.webelement.WebElement (session=\"78015a206c0a740cf77ec56d52bcf3a1\", element=\"ec1d965a-cf95-4fb3-931b-816dbc456bbc\")>]"
      ]
     },
     "execution_count": 45,
     "metadata": {},
     "output_type": "execute_result"
    }
   ],
   "source": [
    "location_tags=driver.find_elements_by_xpath(\"//li[@class='fleft grey-text br2 placeHolderLi location']/span[1] \")\n",
    "#extracting location tags\n",
    "location_tags[0:10]"
   ]
  },
  {
   "cell_type": "code",
   "execution_count": 46,
   "id": "8db2253d",
   "metadata": {},
   "outputs": [
    {
     "data": {
      "text/plain": [
       "['Pune(Kalyani Nagar)',\n",
       " 'Noida, Mumbai, Pune, Bangalore/Bengaluru',\n",
       " 'Hyderabad/Secunderabad, Pune, Bangalore/Bengaluru',\n",
       " 'Hyderabad/Secunderabad',\n",
       " 'Bangalore/Bengaluru',\n",
       " 'Pune',\n",
       " 'Pune',\n",
       " 'Pune',\n",
       " 'Pune',\n",
       " 'Pune']"
      ]
     },
     "execution_count": 46,
     "metadata": {},
     "output_type": "execute_result"
    }
   ],
   "source": [
    "for i in location_tags:\n",
    "    location=i.text\n",
    "    location_list.append(location) \n",
    "    \n",
    "location_list[0:10]"
   ]
  },
  {
   "cell_type": "code",
   "execution_count": 48,
   "id": "4992f027",
   "metadata": {},
   "outputs": [
    {
     "name": "stdout",
     "output_type": "stream",
     "text": [
      "10 10 10 10\n"
     ]
    }
   ],
   "source": [
    "print(len(job_titles[0:10]),len(company_names[0:10]),len(location_list[0:10]),len(experience_list[0:10]))"
   ]
  },
  {
   "cell_type": "code",
   "execution_count": 49,
   "id": "442aa3ab",
   "metadata": {},
   "outputs": [],
   "source": [
    "#creating the Data Frame\n",
    "\n",
    "jobs=pd.DataFrame({'Job Title':job_titles[0:10],'Company':company_names[0:10], 'Location':location_list[0:10], 'Experience':experience_list[0:10]})"
   ]
  },
  {
   "cell_type": "code",
   "execution_count": 50,
   "id": "9fb7c442",
   "metadata": {},
   "outputs": [
    {
     "data": {
      "text/html": [
       "<div>\n",
       "<style scoped>\n",
       "    .dataframe tbody tr th:only-of-type {\n",
       "        vertical-align: middle;\n",
       "    }\n",
       "\n",
       "    .dataframe tbody tr th {\n",
       "        vertical-align: top;\n",
       "    }\n",
       "\n",
       "    .dataframe thead th {\n",
       "        text-align: right;\n",
       "    }\n",
       "</style>\n",
       "<table border=\"1\" class=\"dataframe\">\n",
       "  <thead>\n",
       "    <tr style=\"text-align: right;\">\n",
       "      <th></th>\n",
       "      <th>Job Title</th>\n",
       "      <th>Company</th>\n",
       "      <th>Location</th>\n",
       "      <th>Experience</th>\n",
       "    </tr>\n",
       "  </thead>\n",
       "  <tbody>\n",
       "    <tr>\n",
       "      <th>0</th>\n",
       "      <td>Data Scientist &amp; Machine Learning Engineer</td>\n",
       "      <td>ASCENT TECHNOSYSTEMS PRIVATE LIMITED</td>\n",
       "      <td>Pune(Kalyani Nagar)</td>\n",
       "      <td>0-5 Yrs</td>\n",
       "    </tr>\n",
       "    <tr>\n",
       "      <th>1</th>\n",
       "      <td>Data Scientist - Immediate Joiners</td>\n",
       "      <td>Bristlecone</td>\n",
       "      <td>Noida, Mumbai, Pune, Bangalore/Bengaluru</td>\n",
       "      <td>5-8 Yrs</td>\n",
       "    </tr>\n",
       "    <tr>\n",
       "      <th>2</th>\n",
       "      <td>Data Scientist/Engineer - Global Telecom Setup</td>\n",
       "      <td>Global Telecom Setup</td>\n",
       "      <td>Hyderabad/Secunderabad, Pune, Bangalore/Bengaluru</td>\n",
       "      <td>3-8 Yrs</td>\n",
       "    </tr>\n",
       "    <tr>\n",
       "      <th>3</th>\n",
       "      <td>Immediate Hiring Freshers/Exp Folks For Data E...</td>\n",
       "      <td>RANDOMTREES PRIVATE LIMITED</td>\n",
       "      <td>Hyderabad/Secunderabad</td>\n",
       "      <td>0-3 Yrs</td>\n",
       "    </tr>\n",
       "    <tr>\n",
       "      <th>4</th>\n",
       "      <td>Data Scientist</td>\n",
       "      <td>Applied Materials</td>\n",
       "      <td>Bangalore/Bengaluru</td>\n",
       "      <td>0-3 Yrs</td>\n",
       "    </tr>\n",
       "    <tr>\n",
       "      <th>5</th>\n",
       "      <td>Lead Engineer Data Engineer/Scientist _III</td>\n",
       "      <td>Deutsche Bank</td>\n",
       "      <td>Pune</td>\n",
       "      <td>4-13 Yrs</td>\n",
       "    </tr>\n",
       "    <tr>\n",
       "      <th>6</th>\n",
       "      <td>Lead Engineer Python Data Engineer/Scientist III</td>\n",
       "      <td>Deutsche Bank</td>\n",
       "      <td>Pune</td>\n",
       "      <td>5-10 Yrs</td>\n",
       "    </tr>\n",
       "    <tr>\n",
       "      <th>7</th>\n",
       "      <td>Senior Data Scientist</td>\n",
       "      <td>Michelin</td>\n",
       "      <td>Pune</td>\n",
       "      <td>3-7 Yrs</td>\n",
       "    </tr>\n",
       "    <tr>\n",
       "      <th>8</th>\n",
       "      <td>Senior Software Engineer - Python Data Enginee...</td>\n",
       "      <td>Deutsche Bank</td>\n",
       "      <td>Pune</td>\n",
       "      <td>3-8 Yrs</td>\n",
       "    </tr>\n",
       "    <tr>\n",
       "      <th>9</th>\n",
       "      <td>Senior Software Engineer -Data Engineer/Scient...</td>\n",
       "      <td>Deutsche Bank</td>\n",
       "      <td>Pune</td>\n",
       "      <td>3-10 Yrs</td>\n",
       "    </tr>\n",
       "  </tbody>\n",
       "</table>\n",
       "</div>"
      ],
      "text/plain": [
       "                                           Job Title  \\\n",
       "0         Data Scientist & Machine Learning Engineer   \n",
       "1                 Data Scientist - Immediate Joiners   \n",
       "2     Data Scientist/Engineer - Global Telecom Setup   \n",
       "3  Immediate Hiring Freshers/Exp Folks For Data E...   \n",
       "4                                     Data Scientist   \n",
       "5         Lead Engineer Data Engineer/Scientist _III   \n",
       "6   Lead Engineer Python Data Engineer/Scientist III   \n",
       "7                              Senior Data Scientist   \n",
       "8  Senior Software Engineer - Python Data Enginee...   \n",
       "9  Senior Software Engineer -Data Engineer/Scient...   \n",
       "\n",
       "                                Company  \\\n",
       "0  ASCENT TECHNOSYSTEMS PRIVATE LIMITED   \n",
       "1                           Bristlecone   \n",
       "2                  Global Telecom Setup   \n",
       "3           RANDOMTREES PRIVATE LIMITED   \n",
       "4                     Applied Materials   \n",
       "5                         Deutsche Bank   \n",
       "6                         Deutsche Bank   \n",
       "7                              Michelin   \n",
       "8                         Deutsche Bank   \n",
       "9                         Deutsche Bank   \n",
       "\n",
       "                                            Location Experience  \n",
       "0                                Pune(Kalyani Nagar)    0-5 Yrs  \n",
       "1           Noida, Mumbai, Pune, Bangalore/Bengaluru    5-8 Yrs  \n",
       "2  Hyderabad/Secunderabad, Pune, Bangalore/Bengaluru    3-8 Yrs  \n",
       "3                             Hyderabad/Secunderabad    0-3 Yrs  \n",
       "4                                Bangalore/Bengaluru    0-3 Yrs  \n",
       "5                                               Pune   4-13 Yrs  \n",
       "6                                               Pune   5-10 Yrs  \n",
       "7                                               Pune    3-7 Yrs  \n",
       "8                                               Pune    3-8 Yrs  \n",
       "9                                               Pune   3-10 Yrs  "
      ]
     },
     "execution_count": 50,
     "metadata": {},
     "output_type": "execute_result"
    }
   ],
   "source": [
    "jobs"
   ]
  },
  {
   "cell_type": "markdown",
   "id": "56265f45",
   "metadata": {},
   "source": [
    "# Q2. Python program to scrape data for “Data Scientist” Job position in “Bangalore” location"
   ]
  },
  {
   "cell_type": "code",
   "execution_count": 19,
   "id": "549cb9ab",
   "metadata": {},
   "outputs": [],
   "source": [
    "driver=webdriver.Chrome(\"chromedriver.exe\") #connecting to chrome driver\n",
    "time.sleep(2)"
   ]
  },
  {
   "cell_type": "code",
   "execution_count": 20,
   "id": "967adfa2",
   "metadata": {},
   "outputs": [],
   "source": [
    "driver.get(\"https://www.naukri.com\") #specifying the url"
   ]
  },
  {
   "cell_type": "code",
   "execution_count": 21,
   "id": "855ccadf",
   "metadata": {},
   "outputs": [],
   "source": [
    "search_field_designation=driver.find_element_by_class_name(\"suggestor-input\") #job search\n",
    "search_field_designation.send_keys(\"Data Scientist\")\n",
    "search_field_location=driver.find_element_by_xpath(\"/html/body/div/div[2]/div[3]/div/div/div[3]/div/div/div/input\")#location search bar\n",
    "search_field_location.send_keys(\"Bangalore\")"
   ]
  },
  {
   "cell_type": "code",
   "execution_count": 22,
   "id": "4045bb49",
   "metadata": {},
   "outputs": [],
   "source": [
    "search_button=driver.find_element_by_xpath(\"/html/body/div/div[2]/div[3]/div/div/div[6]\") #search button\n",
    "search_button.click()"
   ]
  },
  {
   "cell_type": "code",
   "execution_count": 23,
   "id": "878e7bc1",
   "metadata": {},
   "outputs": [],
   "source": [
    "#creating lists\n",
    "\n",
    "job_titles=[]\n",
    "company_names=[]\n",
    "location_list=[]\n",
    "experience_list=[]"
   ]
  },
  {
   "cell_type": "code",
   "execution_count": 51,
   "id": "6359723f",
   "metadata": {},
   "outputs": [
    {
     "data": {
      "text/plain": [
       "[<selenium.webdriver.remote.webelement.WebElement (session=\"78015a206c0a740cf77ec56d52bcf3a1\", element=\"a87fa2b4-6e5a-447c-8bac-7a81891b9c25\")>,\n",
       " <selenium.webdriver.remote.webelement.WebElement (session=\"78015a206c0a740cf77ec56d52bcf3a1\", element=\"4bca2d1d-1a95-47d5-aa56-e74816369930\")>,\n",
       " <selenium.webdriver.remote.webelement.WebElement (session=\"78015a206c0a740cf77ec56d52bcf3a1\", element=\"d17a616f-0d59-4a42-bb42-6e25beb41fa4\")>,\n",
       " <selenium.webdriver.remote.webelement.WebElement (session=\"78015a206c0a740cf77ec56d52bcf3a1\", element=\"ec8c7564-6e43-4c5f-a3e9-b38fbab49684\")>,\n",
       " <selenium.webdriver.remote.webelement.WebElement (session=\"78015a206c0a740cf77ec56d52bcf3a1\", element=\"14f5ca8f-80b4-44c5-a0da-b188479e616e\")>,\n",
       " <selenium.webdriver.remote.webelement.WebElement (session=\"78015a206c0a740cf77ec56d52bcf3a1\", element=\"dba21f0a-9215-4378-9c29-70657c553eea\")>,\n",
       " <selenium.webdriver.remote.webelement.WebElement (session=\"78015a206c0a740cf77ec56d52bcf3a1\", element=\"9d3afdee-d6ce-44a9-b365-2fef5600eb5b\")>,\n",
       " <selenium.webdriver.remote.webelement.WebElement (session=\"78015a206c0a740cf77ec56d52bcf3a1\", element=\"3c95a5bf-6008-413a-8672-75aba7ca42a6\")>,\n",
       " <selenium.webdriver.remote.webelement.WebElement (session=\"78015a206c0a740cf77ec56d52bcf3a1\", element=\"e906322f-2511-426d-836d-960cdda53c9f\")>,\n",
       " <selenium.webdriver.remote.webelement.WebElement (session=\"78015a206c0a740cf77ec56d52bcf3a1\", element=\"c248d4d7-b281-4aff-8fe9-d203e8b9d9ed\")>]"
      ]
     },
     "execution_count": 51,
     "metadata": {},
     "output_type": "execute_result"
    }
   ],
   "source": [
    "titles_tags=driver.find_elements_by_xpath(\"//a[@class='title fw500 ellipsis']\") #title tags\n",
    "titles_tags[0:10]"
   ]
  },
  {
   "cell_type": "code",
   "execution_count": 52,
   "id": "f095a44d",
   "metadata": {},
   "outputs": [
    {
     "data": {
      "text/plain": [
       "['Data Scientist & Machine Learning Engineer',\n",
       " 'Data Scientist - Immediate Joiners',\n",
       " 'Data Scientist/Engineer - Global Telecom Setup',\n",
       " 'Immediate Hiring Freshers/Exp Folks For Data Engineer/ Data Scientist',\n",
       " 'Data Scientist',\n",
       " 'Lead Engineer Data Engineer/Scientist _III',\n",
       " 'Lead Engineer Python Data Engineer/Scientist III',\n",
       " 'Senior Data Scientist',\n",
       " 'Senior Software Engineer - Python Data Engineer/Scientist',\n",
       " 'Senior Software Engineer -Data Engineer/Scientist II']"
      ]
     },
     "execution_count": 52,
     "metadata": {},
     "output_type": "execute_result"
    }
   ],
   "source": [
    "for i in titles_tags:\n",
    "    title=i.text\n",
    "    job_titles.append(title)\n",
    "job_titles[0:10]"
   ]
  },
  {
   "cell_type": "code",
   "execution_count": 53,
   "id": "091ff728",
   "metadata": {},
   "outputs": [
    {
     "data": {
      "text/plain": [
       "[<selenium.webdriver.remote.webelement.WebElement (session=\"78015a206c0a740cf77ec56d52bcf3a1\", element=\"d2196814-d26e-4e05-ad89-269b19bd4b64\")>,\n",
       " <selenium.webdriver.remote.webelement.WebElement (session=\"78015a206c0a740cf77ec56d52bcf3a1\", element=\"6ffe8a05-256f-4717-abef-d0119cd69bc0\")>,\n",
       " <selenium.webdriver.remote.webelement.WebElement (session=\"78015a206c0a740cf77ec56d52bcf3a1\", element=\"b9917c3d-2a27-471f-8569-582e1ef75b6f\")>,\n",
       " <selenium.webdriver.remote.webelement.WebElement (session=\"78015a206c0a740cf77ec56d52bcf3a1\", element=\"611d30b1-0450-43ae-981a-4ff754d2f374\")>,\n",
       " <selenium.webdriver.remote.webelement.WebElement (session=\"78015a206c0a740cf77ec56d52bcf3a1\", element=\"0b3e22d8-942f-4894-b2a1-1993e8dc57b8\")>,\n",
       " <selenium.webdriver.remote.webelement.WebElement (session=\"78015a206c0a740cf77ec56d52bcf3a1\", element=\"ccd1fef1-39b6-4a27-9f6a-d25da8486643\")>,\n",
       " <selenium.webdriver.remote.webelement.WebElement (session=\"78015a206c0a740cf77ec56d52bcf3a1\", element=\"1a5ec392-2ccf-4011-bb80-b6db221e70a6\")>,\n",
       " <selenium.webdriver.remote.webelement.WebElement (session=\"78015a206c0a740cf77ec56d52bcf3a1\", element=\"9680f323-2db5-4594-819d-0e46c4138283\")>,\n",
       " <selenium.webdriver.remote.webelement.WebElement (session=\"78015a206c0a740cf77ec56d52bcf3a1\", element=\"f894333d-9c29-4126-abad-96016149e699\")>,\n",
       " <selenium.webdriver.remote.webelement.WebElement (session=\"78015a206c0a740cf77ec56d52bcf3a1\", element=\"8e4c6d5b-6dce-4df6-8d38-4a1d7351f3d3\")>]"
      ]
     },
     "execution_count": 53,
     "metadata": {},
     "output_type": "execute_result"
    }
   ],
   "source": [
    "companies_tags=driver.find_elements_by_xpath(\"//a[@class='subTitle ellipsis fleft']\") #company tags\n",
    "companies_tags[0:10]"
   ]
  },
  {
   "cell_type": "code",
   "execution_count": 54,
   "id": "2e48cdac",
   "metadata": {},
   "outputs": [
    {
     "data": {
      "text/plain": [
       "['ASCENT TECHNOSYSTEMS PRIVATE LIMITED',\n",
       " 'Bristlecone',\n",
       " 'Global Telecom Setup',\n",
       " 'RANDOMTREES PRIVATE LIMITED',\n",
       " 'Applied Materials',\n",
       " 'Deutsche Bank',\n",
       " 'Deutsche Bank',\n",
       " 'Michelin',\n",
       " 'Deutsche Bank',\n",
       " 'Deutsche Bank']"
      ]
     },
     "execution_count": 54,
     "metadata": {},
     "output_type": "execute_result"
    }
   ],
   "source": [
    "for i in companies_tags:\n",
    "    company_name=i.text\n",
    "    company_names.append(company_name) \n",
    "    \n",
    "company_names[0:10]"
   ]
  },
  {
   "cell_type": "code",
   "execution_count": 55,
   "id": "9f2f6f84",
   "metadata": {},
   "outputs": [
    {
     "data": {
      "text/plain": [
       "[<selenium.webdriver.remote.webelement.WebElement (session=\"78015a206c0a740cf77ec56d52bcf3a1\", element=\"3f62fd29-625d-4b75-8e53-6cddfd884f73\")>,\n",
       " <selenium.webdriver.remote.webelement.WebElement (session=\"78015a206c0a740cf77ec56d52bcf3a1\", element=\"14e7133e-fe55-4add-9753-0c2663b5daa3\")>,\n",
       " <selenium.webdriver.remote.webelement.WebElement (session=\"78015a206c0a740cf77ec56d52bcf3a1\", element=\"786ec0b2-b087-4f6d-a54d-d7d4399eb788\")>,\n",
       " <selenium.webdriver.remote.webelement.WebElement (session=\"78015a206c0a740cf77ec56d52bcf3a1\", element=\"b31585ef-2912-4197-be6a-9d97f6221179\")>,\n",
       " <selenium.webdriver.remote.webelement.WebElement (session=\"78015a206c0a740cf77ec56d52bcf3a1\", element=\"35d0226e-7eff-4079-85e4-fc945f9eb265\")>,\n",
       " <selenium.webdriver.remote.webelement.WebElement (session=\"78015a206c0a740cf77ec56d52bcf3a1\", element=\"71e2c9d4-009f-4cf4-bb32-6dffc51b3f03\")>,\n",
       " <selenium.webdriver.remote.webelement.WebElement (session=\"78015a206c0a740cf77ec56d52bcf3a1\", element=\"13b5cad3-f138-4afe-9d79-d7e99ef9b1a2\")>,\n",
       " <selenium.webdriver.remote.webelement.WebElement (session=\"78015a206c0a740cf77ec56d52bcf3a1\", element=\"b3c9e85a-656a-416c-88cf-2bde7ba20de1\")>,\n",
       " <selenium.webdriver.remote.webelement.WebElement (session=\"78015a206c0a740cf77ec56d52bcf3a1\", element=\"a5e955e0-4cd0-4267-b846-7420e5a9b12a\")>,\n",
       " <selenium.webdriver.remote.webelement.WebElement (session=\"78015a206c0a740cf77ec56d52bcf3a1\", element=\"ec1d965a-cf95-4fb3-931b-816dbc456bbc\")>]"
      ]
     },
     "execution_count": 55,
     "metadata": {},
     "output_type": "execute_result"
    }
   ],
   "source": [
    "location_tags=driver.find_elements_by_xpath(\"//li[@class='fleft grey-text br2 placeHolderLi location']/span[1]\")  #location tags\n",
    "location_tags[0:10]"
   ]
  },
  {
   "cell_type": "code",
   "execution_count": 56,
   "id": "35ff56ca",
   "metadata": {},
   "outputs": [
    {
     "data": {
      "text/plain": [
       "[<selenium.webdriver.remote.webelement.WebElement (session=\"78015a206c0a740cf77ec56d52bcf3a1\", element=\"1b24f5eb-aec3-4947-8d48-4fe12bb2d480\")>,\n",
       " <selenium.webdriver.remote.webelement.WebElement (session=\"78015a206c0a740cf77ec56d52bcf3a1\", element=\"6b5f325c-0bec-43a5-9549-31b869882b1a\")>,\n",
       " <selenium.webdriver.remote.webelement.WebElement (session=\"78015a206c0a740cf77ec56d52bcf3a1\", element=\"34b2ea37-fd2e-4f17-ab9f-7e30e01f0b44\")>,\n",
       " <selenium.webdriver.remote.webelement.WebElement (session=\"78015a206c0a740cf77ec56d52bcf3a1\", element=\"97759d8f-a3f7-43f6-afd5-b0653fddad8d\")>,\n",
       " <selenium.webdriver.remote.webelement.WebElement (session=\"78015a206c0a740cf77ec56d52bcf3a1\", element=\"46938674-a099-4f1c-9cac-5dac81c3f6c0\")>,\n",
       " <selenium.webdriver.remote.webelement.WebElement (session=\"78015a206c0a740cf77ec56d52bcf3a1\", element=\"8889e2b7-2238-437a-8755-0371db118450\")>,\n",
       " <selenium.webdriver.remote.webelement.WebElement (session=\"78015a206c0a740cf77ec56d52bcf3a1\", element=\"e7c35283-1446-41e1-80d9-7e110e91f716\")>,\n",
       " <selenium.webdriver.remote.webelement.WebElement (session=\"78015a206c0a740cf77ec56d52bcf3a1\", element=\"4e3e1293-1f67-47e2-8487-8806a60e7fd2\")>,\n",
       " <selenium.webdriver.remote.webelement.WebElement (session=\"78015a206c0a740cf77ec56d52bcf3a1\", element=\"b43db1a0-bd42-4c10-8397-536ce1a2c1d4\")>,\n",
       " <selenium.webdriver.remote.webelement.WebElement (session=\"78015a206c0a740cf77ec56d52bcf3a1\", element=\"b8ca1468-ddbd-4ff9-b14d-7fa0d4a69752\")>]"
      ]
     },
     "execution_count": 56,
     "metadata": {},
     "output_type": "execute_result"
    }
   ],
   "source": [
    "experience_tags=driver.find_elements_by_xpath(\"//li[@class='fleft grey-text br2 placeHolderLi experience']/span[1]\")\n",
    "experience_tags[0:10]"
   ]
  },
  {
   "cell_type": "code",
   "execution_count": 57,
   "id": "00aced3e",
   "metadata": {},
   "outputs": [
    {
     "data": {
      "text/plain": [
       "['Pune(Kalyani Nagar)',\n",
       " 'Noida, Mumbai, Pune, Bangalore/Bengaluru',\n",
       " 'Hyderabad/Secunderabad, Pune, Bangalore/Bengaluru',\n",
       " 'Hyderabad/Secunderabad',\n",
       " 'Bangalore/Bengaluru',\n",
       " 'Pune',\n",
       " 'Pune',\n",
       " 'Pune',\n",
       " 'Pune',\n",
       " 'Pune']"
      ]
     },
     "execution_count": 57,
     "metadata": {},
     "output_type": "execute_result"
    }
   ],
   "source": [
    "for i in location_tags:\n",
    "    location=i.text\n",
    "    location_list.append(location)\n",
    "    \n",
    "location_list[0:10]"
   ]
  },
  {
   "cell_type": "code",
   "execution_count": 58,
   "id": "aa65440e",
   "metadata": {},
   "outputs": [
    {
     "data": {
      "text/plain": [
       "['0-5 Yrs',\n",
       " '5-8 Yrs',\n",
       " '3-8 Yrs',\n",
       " '0-3 Yrs',\n",
       " '0-3 Yrs',\n",
       " '4-13 Yrs',\n",
       " '5-10 Yrs',\n",
       " '3-7 Yrs',\n",
       " '3-8 Yrs',\n",
       " '3-10 Yrs']"
      ]
     },
     "execution_count": 58,
     "metadata": {},
     "output_type": "execute_result"
    }
   ],
   "source": [
    "for i in experience_tags:\n",
    "    experience=i.text\n",
    "    experience_list.append(experience) \n",
    "    \n",
    "experience_list[0:10]"
   ]
  },
  {
   "cell_type": "markdown",
   "id": "8fc4462b",
   "metadata": {},
   "source": [
    "Putting all the scraped data into the dataframe."
   ]
  },
  {
   "cell_type": "code",
   "execution_count": 59,
   "id": "08492726",
   "metadata": {},
   "outputs": [],
   "source": [
    "#creating the data frame\n",
    "\n",
    "\n",
    "job1=pd.DataFrame({'Job Titles':job_titles[0:10],'Company':company_names[0:10], 'Location':location_list[0:10], 'Experience':experience_list[0:10]})"
   ]
  },
  {
   "cell_type": "code",
   "execution_count": 60,
   "id": "8f9b1ba9",
   "metadata": {},
   "outputs": [
    {
     "data": {
      "text/html": [
       "<div>\n",
       "<style scoped>\n",
       "    .dataframe tbody tr th:only-of-type {\n",
       "        vertical-align: middle;\n",
       "    }\n",
       "\n",
       "    .dataframe tbody tr th {\n",
       "        vertical-align: top;\n",
       "    }\n",
       "\n",
       "    .dataframe thead th {\n",
       "        text-align: right;\n",
       "    }\n",
       "</style>\n",
       "<table border=\"1\" class=\"dataframe\">\n",
       "  <thead>\n",
       "    <tr style=\"text-align: right;\">\n",
       "      <th></th>\n",
       "      <th>Job Titles</th>\n",
       "      <th>Company</th>\n",
       "      <th>Location</th>\n",
       "      <th>Experience</th>\n",
       "    </tr>\n",
       "  </thead>\n",
       "  <tbody>\n",
       "    <tr>\n",
       "      <th>0</th>\n",
       "      <td>Data Scientist &amp; Machine Learning Engineer</td>\n",
       "      <td>ASCENT TECHNOSYSTEMS PRIVATE LIMITED</td>\n",
       "      <td>Pune(Kalyani Nagar)</td>\n",
       "      <td>0-5 Yrs</td>\n",
       "    </tr>\n",
       "    <tr>\n",
       "      <th>1</th>\n",
       "      <td>Data Scientist - Immediate Joiners</td>\n",
       "      <td>Bristlecone</td>\n",
       "      <td>Noida, Mumbai, Pune, Bangalore/Bengaluru</td>\n",
       "      <td>5-8 Yrs</td>\n",
       "    </tr>\n",
       "    <tr>\n",
       "      <th>2</th>\n",
       "      <td>Data Scientist/Engineer - Global Telecom Setup</td>\n",
       "      <td>Global Telecom Setup</td>\n",
       "      <td>Hyderabad/Secunderabad, Pune, Bangalore/Bengaluru</td>\n",
       "      <td>3-8 Yrs</td>\n",
       "    </tr>\n",
       "    <tr>\n",
       "      <th>3</th>\n",
       "      <td>Immediate Hiring Freshers/Exp Folks For Data E...</td>\n",
       "      <td>RANDOMTREES PRIVATE LIMITED</td>\n",
       "      <td>Hyderabad/Secunderabad</td>\n",
       "      <td>0-3 Yrs</td>\n",
       "    </tr>\n",
       "    <tr>\n",
       "      <th>4</th>\n",
       "      <td>Data Scientist</td>\n",
       "      <td>Applied Materials</td>\n",
       "      <td>Bangalore/Bengaluru</td>\n",
       "      <td>0-3 Yrs</td>\n",
       "    </tr>\n",
       "    <tr>\n",
       "      <th>5</th>\n",
       "      <td>Lead Engineer Data Engineer/Scientist _III</td>\n",
       "      <td>Deutsche Bank</td>\n",
       "      <td>Pune</td>\n",
       "      <td>4-13 Yrs</td>\n",
       "    </tr>\n",
       "    <tr>\n",
       "      <th>6</th>\n",
       "      <td>Lead Engineer Python Data Engineer/Scientist III</td>\n",
       "      <td>Deutsche Bank</td>\n",
       "      <td>Pune</td>\n",
       "      <td>5-10 Yrs</td>\n",
       "    </tr>\n",
       "    <tr>\n",
       "      <th>7</th>\n",
       "      <td>Senior Data Scientist</td>\n",
       "      <td>Michelin</td>\n",
       "      <td>Pune</td>\n",
       "      <td>3-7 Yrs</td>\n",
       "    </tr>\n",
       "    <tr>\n",
       "      <th>8</th>\n",
       "      <td>Senior Software Engineer - Python Data Enginee...</td>\n",
       "      <td>Deutsche Bank</td>\n",
       "      <td>Pune</td>\n",
       "      <td>3-8 Yrs</td>\n",
       "    </tr>\n",
       "    <tr>\n",
       "      <th>9</th>\n",
       "      <td>Senior Software Engineer -Data Engineer/Scient...</td>\n",
       "      <td>Deutsche Bank</td>\n",
       "      <td>Pune</td>\n",
       "      <td>3-10 Yrs</td>\n",
       "    </tr>\n",
       "  </tbody>\n",
       "</table>\n",
       "</div>"
      ],
      "text/plain": [
       "                                          Job Titles  \\\n",
       "0         Data Scientist & Machine Learning Engineer   \n",
       "1                 Data Scientist - Immediate Joiners   \n",
       "2     Data Scientist/Engineer - Global Telecom Setup   \n",
       "3  Immediate Hiring Freshers/Exp Folks For Data E...   \n",
       "4                                     Data Scientist   \n",
       "5         Lead Engineer Data Engineer/Scientist _III   \n",
       "6   Lead Engineer Python Data Engineer/Scientist III   \n",
       "7                              Senior Data Scientist   \n",
       "8  Senior Software Engineer - Python Data Enginee...   \n",
       "9  Senior Software Engineer -Data Engineer/Scient...   \n",
       "\n",
       "                                Company  \\\n",
       "0  ASCENT TECHNOSYSTEMS PRIVATE LIMITED   \n",
       "1                           Bristlecone   \n",
       "2                  Global Telecom Setup   \n",
       "3           RANDOMTREES PRIVATE LIMITED   \n",
       "4                     Applied Materials   \n",
       "5                         Deutsche Bank   \n",
       "6                         Deutsche Bank   \n",
       "7                              Michelin   \n",
       "8                         Deutsche Bank   \n",
       "9                         Deutsche Bank   \n",
       "\n",
       "                                            Location Experience  \n",
       "0                                Pune(Kalyani Nagar)    0-5 Yrs  \n",
       "1           Noida, Mumbai, Pune, Bangalore/Bengaluru    5-8 Yrs  \n",
       "2  Hyderabad/Secunderabad, Pune, Bangalore/Bengaluru    3-8 Yrs  \n",
       "3                             Hyderabad/Secunderabad    0-3 Yrs  \n",
       "4                                Bangalore/Bengaluru    0-3 Yrs  \n",
       "5                                               Pune   4-13 Yrs  \n",
       "6                                               Pune   5-10 Yrs  \n",
       "7                                               Pune    3-7 Yrs  \n",
       "8                                               Pune    3-8 Yrs  \n",
       "9                                               Pune   3-10 Yrs  "
      ]
     },
     "execution_count": 60,
     "metadata": {},
     "output_type": "execute_result"
    }
   ],
   "source": [
    "job1"
   ]
  },
  {
   "cell_type": "markdown",
   "id": "e2c35e5c",
   "metadata": {},
   "source": [
    "# Q3.Scrape data using the filters available on the webpage"
   ]
  },
  {
   "cell_type": "code",
   "execution_count": 3,
   "id": "7193f57b",
   "metadata": {},
   "outputs": [],
   "source": [
    "driver=webdriver.Chrome(\"chromedriver.exe\") #Connecting to chrome driver\n",
    "time.sleep(2)"
   ]
  },
  {
   "cell_type": "code",
   "execution_count": 4,
   "id": "4271f723",
   "metadata": {},
   "outputs": [],
   "source": [
    "driver.get(\"https://www.naukri.com\") #connecting to desired url"
   ]
  },
  {
   "cell_type": "code",
   "execution_count": 5,
   "id": "689703cc",
   "metadata": {},
   "outputs": [],
   "source": [
    "search_field_designation=driver.find_element_by_class_name(\"suggestor-input\") #job search\n",
    "search_field_designation.send_keys(\"Data Scientist\")"
   ]
  },
  {
   "cell_type": "code",
   "execution_count": 7,
   "id": "c9f395e5",
   "metadata": {},
   "outputs": [],
   "source": [
    "search_button=driver.find_element_by_xpath(\"/html/body/div/div[2]/div[3]/div/div/div[6]\") #search\n",
    "search_button.click()"
   ]
  },
  {
   "cell_type": "code",
   "execution_count": 8,
   "id": "59ab16cb",
   "metadata": {
    "scrolled": true
   },
   "outputs": [],
   "source": [
    "location_checkbox=driver.find_element_by_xpath(\"/html/body/div[1]/div[3]/div[2]/section[1]/div[2]/div[4]/div[2]/div[3]/label/i\") #location button\n",
    "location_checkbox.click()"
   ]
  },
  {
   "cell_type": "code",
   "execution_count": 9,
   "id": "861f06fc",
   "metadata": {},
   "outputs": [],
   "source": [
    "salary_checkbox=driver.find_element_by_xpath(\"/html/body/div[1]/div[3]/div[2]/section[1]/div[2]/div[5]/div[2]/div[2]/label/i\")\n",
    "salary_checkbox.click()"
   ]
  },
  {
   "cell_type": "code",
   "execution_count": 22,
   "id": "69c0b6d1",
   "metadata": {},
   "outputs": [],
   "source": [
    "job_titles=[]\n",
    "company_names=[]\n",
    "location_list=[]\n",
    "experience_list=[]"
   ]
  },
  {
   "cell_type": "code",
   "execution_count": 11,
   "id": "bdcd9c09",
   "metadata": {},
   "outputs": [
    {
     "data": {
      "text/plain": [
       "[<selenium.webdriver.remote.webelement.WebElement (session=\"6aa0b16cc56beb8164921e11ac78e9d5\", element=\"f1cf57a2-ddd8-498c-b3a4-951c8df3e81c\")>,\n",
       " <selenium.webdriver.remote.webelement.WebElement (session=\"6aa0b16cc56beb8164921e11ac78e9d5\", element=\"8b1db18c-7793-48c0-add8-6c218cc3d3ae\")>,\n",
       " <selenium.webdriver.remote.webelement.WebElement (session=\"6aa0b16cc56beb8164921e11ac78e9d5\", element=\"2bb0d9eb-dc04-4dbd-a2c1-0ad1473ff39e\")>,\n",
       " <selenium.webdriver.remote.webelement.WebElement (session=\"6aa0b16cc56beb8164921e11ac78e9d5\", element=\"64d62843-3dd4-4376-b557-aad419e4da18\")>,\n",
       " <selenium.webdriver.remote.webelement.WebElement (session=\"6aa0b16cc56beb8164921e11ac78e9d5\", element=\"9a3e65be-6b79-4c45-9529-a7189a35c407\")>,\n",
       " <selenium.webdriver.remote.webelement.WebElement (session=\"6aa0b16cc56beb8164921e11ac78e9d5\", element=\"4ec4dca5-7df1-46d6-b478-312d52351ceb\")>,\n",
       " <selenium.webdriver.remote.webelement.WebElement (session=\"6aa0b16cc56beb8164921e11ac78e9d5\", element=\"0b9ab2f0-8913-428c-9602-f509f518b095\")>,\n",
       " <selenium.webdriver.remote.webelement.WebElement (session=\"6aa0b16cc56beb8164921e11ac78e9d5\", element=\"ea1aea9a-55c0-4c48-b892-5e87f834637c\")>,\n",
       " <selenium.webdriver.remote.webelement.WebElement (session=\"6aa0b16cc56beb8164921e11ac78e9d5\", element=\"25febe1f-2582-41dd-8bdc-620ecbdffb4d\")>,\n",
       " <selenium.webdriver.remote.webelement.WebElement (session=\"6aa0b16cc56beb8164921e11ac78e9d5\", element=\"3ac4dc36-b24d-40c8-9dd2-82c6aaa8e589\")>]"
      ]
     },
     "execution_count": 11,
     "metadata": {},
     "output_type": "execute_result"
    }
   ],
   "source": [
    "titles_tags=driver.find_elements_by_xpath(\"//a[@class='title fw500 ellipsis']\")\n",
    "titles_tags[0:10]"
   ]
  },
  {
   "cell_type": "code",
   "execution_count": 31,
   "id": "80a72aa7",
   "metadata": {},
   "outputs": [
    {
     "data": {
      "text/plain": [
       "['Associate Data Scientist',\n",
       " 'Opening For Data Scientist',\n",
       " 'Hiring For Senior Data Scientist-Noida',\n",
       " 'Data Scientist/ Machine Learning, 2022 Passout Can also apply',\n",
       " 'Data Scientist (freelance)',\n",
       " 'Data Scientist',\n",
       " 'Data Scientist',\n",
       " 'Urgent Requirement || Data Scientist || Noida',\n",
       " 'AM Data Scientist - Goods & Service Tax Network, Delhi',\n",
       " 'Data Scientist - MIND Infotech']"
      ]
     },
     "execution_count": 31,
     "metadata": {},
     "output_type": "execute_result"
    }
   ],
   "source": [
    "for i in titles_tags:\n",
    "    title=i.text\n",
    "    job_titles.append(title)\n",
    "job_titles[0:10]"
   ]
  },
  {
   "cell_type": "code",
   "execution_count": 13,
   "id": "17cf39b5",
   "metadata": {},
   "outputs": [
    {
     "data": {
      "text/plain": [
       "[<selenium.webdriver.remote.webelement.WebElement (session=\"6aa0b16cc56beb8164921e11ac78e9d5\", element=\"a2c6e5d5-989d-465b-af45-a9b0c31ecb42\")>,\n",
       " <selenium.webdriver.remote.webelement.WebElement (session=\"6aa0b16cc56beb8164921e11ac78e9d5\", element=\"1df1e379-0dd6-472a-93b1-5a70d5ccac02\")>,\n",
       " <selenium.webdriver.remote.webelement.WebElement (session=\"6aa0b16cc56beb8164921e11ac78e9d5\", element=\"f8612cd3-c1d9-42fe-bdd5-492b5d80b2d7\")>,\n",
       " <selenium.webdriver.remote.webelement.WebElement (session=\"6aa0b16cc56beb8164921e11ac78e9d5\", element=\"a82bec99-843a-4830-b78c-eb9853ba11de\")>,\n",
       " <selenium.webdriver.remote.webelement.WebElement (session=\"6aa0b16cc56beb8164921e11ac78e9d5\", element=\"0b76d254-31e6-431e-8182-8d0b6d3e8641\")>,\n",
       " <selenium.webdriver.remote.webelement.WebElement (session=\"6aa0b16cc56beb8164921e11ac78e9d5\", element=\"24c41d67-9d30-4fe4-9086-912277d9e232\")>,\n",
       " <selenium.webdriver.remote.webelement.WebElement (session=\"6aa0b16cc56beb8164921e11ac78e9d5\", element=\"1e25a592-dafe-4a1d-9883-d7789a9e3a9e\")>,\n",
       " <selenium.webdriver.remote.webelement.WebElement (session=\"6aa0b16cc56beb8164921e11ac78e9d5\", element=\"9578267e-6f21-4603-8660-12019a6bdb28\")>,\n",
       " <selenium.webdriver.remote.webelement.WebElement (session=\"6aa0b16cc56beb8164921e11ac78e9d5\", element=\"2b30d1a7-4d6c-4bee-a593-eb6f9b7289e9\")>,\n",
       " <selenium.webdriver.remote.webelement.WebElement (session=\"6aa0b16cc56beb8164921e11ac78e9d5\", element=\"70b8e928-a90e-4e7d-bbe4-d46376e99ace\")>]"
      ]
     },
     "execution_count": 13,
     "metadata": {},
     "output_type": "execute_result"
    }
   ],
   "source": [
    "companies_tags=driver.find_elements_by_xpath(\"//a[@class='subTitle ellipsis fleft']\")\n",
    "companies_tags[0:10]"
   ]
  },
  {
   "cell_type": "code",
   "execution_count": 30,
   "id": "cfd652fb",
   "metadata": {},
   "outputs": [
    {
     "data": {
      "text/plain": [
       "['Optum',\n",
       " 'Care Health Insurance',\n",
       " 'Lumiq.ai',\n",
       " 'Creative Hands HR Consultancy',\n",
       " '2Coms',\n",
       " 'BlackBuck',\n",
       " 'Boston Consulting Group',\n",
       " 'HCL Technologies',\n",
       " 'NISG (National Institute for Smart Government)',\n",
       " 'MOTHERSONSUMI INFOTECH & DESIGNS LIMITED']"
      ]
     },
     "execution_count": 30,
     "metadata": {},
     "output_type": "execute_result"
    }
   ],
   "source": [
    "for i in companies_tags:\n",
    "    company_name=i.text\n",
    "    company_names.append(company_name) \n",
    "    \n",
    "company_names[0:10]"
   ]
  },
  {
   "cell_type": "code",
   "execution_count": 14,
   "id": "207761c6",
   "metadata": {},
   "outputs": [
    {
     "data": {
      "text/plain": [
       "[<selenium.webdriver.remote.webelement.WebElement (session=\"6aa0b16cc56beb8164921e11ac78e9d5\", element=\"4412a603-424a-4ff6-a538-68b8cb93ccb8\")>,\n",
       " <selenium.webdriver.remote.webelement.WebElement (session=\"6aa0b16cc56beb8164921e11ac78e9d5\", element=\"d87f2a68-febf-40fd-baff-f6f22fce8a3b\")>,\n",
       " <selenium.webdriver.remote.webelement.WebElement (session=\"6aa0b16cc56beb8164921e11ac78e9d5\", element=\"0810a043-7af0-4188-aba0-c69a6e4be355\")>,\n",
       " <selenium.webdriver.remote.webelement.WebElement (session=\"6aa0b16cc56beb8164921e11ac78e9d5\", element=\"423b353e-5996-4859-b80d-cce90854e250\")>,\n",
       " <selenium.webdriver.remote.webelement.WebElement (session=\"6aa0b16cc56beb8164921e11ac78e9d5\", element=\"4abb0f35-2cba-4703-8901-5b78ee3ae7fc\")>,\n",
       " <selenium.webdriver.remote.webelement.WebElement (session=\"6aa0b16cc56beb8164921e11ac78e9d5\", element=\"fb37682c-4466-40da-a5f6-44158d3d51c8\")>,\n",
       " <selenium.webdriver.remote.webelement.WebElement (session=\"6aa0b16cc56beb8164921e11ac78e9d5\", element=\"a907a2a1-5b30-423b-9bfe-6c7d011517da\")>,\n",
       " <selenium.webdriver.remote.webelement.WebElement (session=\"6aa0b16cc56beb8164921e11ac78e9d5\", element=\"265abf93-c42e-43ff-b028-9931144c8e03\")>,\n",
       " <selenium.webdriver.remote.webelement.WebElement (session=\"6aa0b16cc56beb8164921e11ac78e9d5\", element=\"d781daca-949d-4884-a1a1-59fd3065953c\")>,\n",
       " <selenium.webdriver.remote.webelement.WebElement (session=\"6aa0b16cc56beb8164921e11ac78e9d5\", element=\"9f61bc55-9a60-4618-aeb5-fa3aec5ff6a4\")>]"
      ]
     },
     "execution_count": 14,
     "metadata": {},
     "output_type": "execute_result"
    }
   ],
   "source": [
    "location_tags=driver.find_elements_by_xpath(\"//li[@class='fleft grey-text br2 placeHolderLi location']/span[1]\")\n",
    "location_tags[0:10]"
   ]
  },
  {
   "cell_type": "code",
   "execution_count": 29,
   "id": "599f17a2",
   "metadata": {},
   "outputs": [
    {
     "data": {
      "text/plain": [
       "['Gurgaon/Gurugram',\n",
       " 'Gurgaon/Gurugram',\n",
       " 'Noida, Greater Noida, Delhi / NCR',\n",
       " 'Hyderabad/Secunderabad, Ahmedabad, Chennai, Bangalore/Bengaluru, Delhi / NCR, Mumbai (All Areas)',\n",
       " 'New Delhi, Delhi',\n",
       " 'Gurgaon, Bengaluru',\n",
       " 'New Delhi',\n",
       " 'Noida, Delhi / NCR',\n",
       " 'Delhi / NCR',\n",
       " 'Noida']"
      ]
     },
     "execution_count": 29,
     "metadata": {},
     "output_type": "execute_result"
    }
   ],
   "source": [
    "for i in location_tags:\n",
    "    location=i.text\n",
    "    location_list.append(location)\n",
    "    \n",
    "location_list[0:10]"
   ]
  },
  {
   "cell_type": "code",
   "execution_count": 16,
   "id": "2d0a9327",
   "metadata": {},
   "outputs": [
    {
     "data": {
      "text/plain": [
       "[<selenium.webdriver.remote.webelement.WebElement (session=\"6aa0b16cc56beb8164921e11ac78e9d5\", element=\"9f3bf773-0118-4097-b395-c3c865af187b\")>,\n",
       " <selenium.webdriver.remote.webelement.WebElement (session=\"6aa0b16cc56beb8164921e11ac78e9d5\", element=\"47985fc1-e189-4576-bdfc-ff84f19c1a29\")>,\n",
       " <selenium.webdriver.remote.webelement.WebElement (session=\"6aa0b16cc56beb8164921e11ac78e9d5\", element=\"6ade6e27-dc33-401c-a059-1629038950b7\")>,\n",
       " <selenium.webdriver.remote.webelement.WebElement (session=\"6aa0b16cc56beb8164921e11ac78e9d5\", element=\"7b974510-5ef9-4da3-b3ae-83e312c20c68\")>,\n",
       " <selenium.webdriver.remote.webelement.WebElement (session=\"6aa0b16cc56beb8164921e11ac78e9d5\", element=\"82dea077-1628-49ed-bd57-d3b6358888e7\")>,\n",
       " <selenium.webdriver.remote.webelement.WebElement (session=\"6aa0b16cc56beb8164921e11ac78e9d5\", element=\"4d1b4e4e-7cc6-4cc4-9013-a64fb9aa4cb2\")>,\n",
       " <selenium.webdriver.remote.webelement.WebElement (session=\"6aa0b16cc56beb8164921e11ac78e9d5\", element=\"e886a6e8-48de-44fa-b905-8dba985c6823\")>,\n",
       " <selenium.webdriver.remote.webelement.WebElement (session=\"6aa0b16cc56beb8164921e11ac78e9d5\", element=\"4d6d885e-07ba-40b9-934e-0f883feb5414\")>,\n",
       " <selenium.webdriver.remote.webelement.WebElement (session=\"6aa0b16cc56beb8164921e11ac78e9d5\", element=\"494da54d-b3e5-4875-88d0-d99bc1ef3202\")>,\n",
       " <selenium.webdriver.remote.webelement.WebElement (session=\"6aa0b16cc56beb8164921e11ac78e9d5\", element=\"2cf65cbe-b3ba-4656-bcd2-43dd4037b866\")>]"
      ]
     },
     "execution_count": 16,
     "metadata": {},
     "output_type": "execute_result"
    }
   ],
   "source": [
    "experience_tags=driver.find_elements_by_xpath(\"//li[@class='fleft grey-text br2 placeHolderLi experience']/span[1]\")\n",
    "experience_tags[0:10]"
   ]
  },
  {
   "cell_type": "code",
   "execution_count": 28,
   "id": "620dd671",
   "metadata": {},
   "outputs": [
    {
     "data": {
      "text/plain": [
       "['1-5 Yrs',\n",
       " '1-5 Yrs',\n",
       " '2-6 Yrs',\n",
       " '0-4 Yrs',\n",
       " '2-7 Yrs',\n",
       " '3-7 Yrs',\n",
       " '2-5 Yrs',\n",
       " '3-8 Yrs',\n",
       " '3-8 Yrs',\n",
       " '4-8 Yrs']"
      ]
     },
     "execution_count": 28,
     "metadata": {},
     "output_type": "execute_result"
    }
   ],
   "source": [
    "for i in experience_tags:\n",
    "    experience=i.text\n",
    "    experience_list.append(experience) \n",
    "    \n",
    "experience_list[0:10]"
   ]
  },
  {
   "cell_type": "code",
   "execution_count": 32,
   "id": "cf572825",
   "metadata": {},
   "outputs": [],
   "source": [
    "\n",
    "\n",
    "\n",
    "job2=pd.DataFrame({'Job Titles':job_titles[0:10],'Company':company_names[0:10], 'Location':location_list[0:10], 'Experience':experience_list[0:10]})"
   ]
  },
  {
   "cell_type": "code",
   "execution_count": 33,
   "id": "e80eb3fd",
   "metadata": {},
   "outputs": [
    {
     "data": {
      "text/html": [
       "<div>\n",
       "<style scoped>\n",
       "    .dataframe tbody tr th:only-of-type {\n",
       "        vertical-align: middle;\n",
       "    }\n",
       "\n",
       "    .dataframe tbody tr th {\n",
       "        vertical-align: top;\n",
       "    }\n",
       "\n",
       "    .dataframe thead th {\n",
       "        text-align: right;\n",
       "    }\n",
       "</style>\n",
       "<table border=\"1\" class=\"dataframe\">\n",
       "  <thead>\n",
       "    <tr style=\"text-align: right;\">\n",
       "      <th></th>\n",
       "      <th>Job Titles</th>\n",
       "      <th>Company</th>\n",
       "      <th>Location</th>\n",
       "      <th>Experience</th>\n",
       "    </tr>\n",
       "  </thead>\n",
       "  <tbody>\n",
       "    <tr>\n",
       "      <th>0</th>\n",
       "      <td>Associate Data Scientist</td>\n",
       "      <td>Optum</td>\n",
       "      <td>Gurgaon/Gurugram</td>\n",
       "      <td>1-5 Yrs</td>\n",
       "    </tr>\n",
       "    <tr>\n",
       "      <th>1</th>\n",
       "      <td>Opening For Data Scientist</td>\n",
       "      <td>Care Health Insurance</td>\n",
       "      <td>Gurgaon/Gurugram</td>\n",
       "      <td>1-5 Yrs</td>\n",
       "    </tr>\n",
       "    <tr>\n",
       "      <th>2</th>\n",
       "      <td>Hiring For Senior Data Scientist-Noida</td>\n",
       "      <td>Lumiq.ai</td>\n",
       "      <td>Noida, Greater Noida, Delhi / NCR</td>\n",
       "      <td>2-6 Yrs</td>\n",
       "    </tr>\n",
       "    <tr>\n",
       "      <th>3</th>\n",
       "      <td>Data Scientist/ Machine Learning, 2022 Passout...</td>\n",
       "      <td>Creative Hands HR Consultancy</td>\n",
       "      <td>Hyderabad/Secunderabad, Ahmedabad, Chennai, Ba...</td>\n",
       "      <td>0-4 Yrs</td>\n",
       "    </tr>\n",
       "    <tr>\n",
       "      <th>4</th>\n",
       "      <td>Data Scientist (freelance)</td>\n",
       "      <td>2Coms</td>\n",
       "      <td>New Delhi, Delhi</td>\n",
       "      <td>2-7 Yrs</td>\n",
       "    </tr>\n",
       "    <tr>\n",
       "      <th>5</th>\n",
       "      <td>Data Scientist</td>\n",
       "      <td>BlackBuck</td>\n",
       "      <td>Gurgaon, Bengaluru</td>\n",
       "      <td>3-7 Yrs</td>\n",
       "    </tr>\n",
       "    <tr>\n",
       "      <th>6</th>\n",
       "      <td>Data Scientist</td>\n",
       "      <td>Boston Consulting Group</td>\n",
       "      <td>New Delhi</td>\n",
       "      <td>2-5 Yrs</td>\n",
       "    </tr>\n",
       "    <tr>\n",
       "      <th>7</th>\n",
       "      <td>Urgent Requirement || Data Scientist || Noida</td>\n",
       "      <td>HCL Technologies</td>\n",
       "      <td>Noida, Delhi / NCR</td>\n",
       "      <td>3-8 Yrs</td>\n",
       "    </tr>\n",
       "    <tr>\n",
       "      <th>8</th>\n",
       "      <td>AM Data Scientist - Goods &amp; Service Tax Networ...</td>\n",
       "      <td>NISG (National Institute for Smart Government)</td>\n",
       "      <td>Delhi / NCR</td>\n",
       "      <td>3-8 Yrs</td>\n",
       "    </tr>\n",
       "    <tr>\n",
       "      <th>9</th>\n",
       "      <td>Data Scientist - MIND Infotech</td>\n",
       "      <td>MOTHERSONSUMI INFOTECH &amp; DESIGNS LIMITED</td>\n",
       "      <td>Noida</td>\n",
       "      <td>4-8 Yrs</td>\n",
       "    </tr>\n",
       "  </tbody>\n",
       "</table>\n",
       "</div>"
      ],
      "text/plain": [
       "                                          Job Titles  \\\n",
       "0                           Associate Data Scientist   \n",
       "1                         Opening For Data Scientist   \n",
       "2             Hiring For Senior Data Scientist-Noida   \n",
       "3  Data Scientist/ Machine Learning, 2022 Passout...   \n",
       "4                         Data Scientist (freelance)   \n",
       "5                                     Data Scientist   \n",
       "6                                     Data Scientist   \n",
       "7      Urgent Requirement || Data Scientist || Noida   \n",
       "8  AM Data Scientist - Goods & Service Tax Networ...   \n",
       "9                     Data Scientist - MIND Infotech   \n",
       "\n",
       "                                          Company  \\\n",
       "0                                           Optum   \n",
       "1                           Care Health Insurance   \n",
       "2                                        Lumiq.ai   \n",
       "3                   Creative Hands HR Consultancy   \n",
       "4                                           2Coms   \n",
       "5                                       BlackBuck   \n",
       "6                         Boston Consulting Group   \n",
       "7                                HCL Technologies   \n",
       "8  NISG (National Institute for Smart Government)   \n",
       "9        MOTHERSONSUMI INFOTECH & DESIGNS LIMITED   \n",
       "\n",
       "                                            Location Experience  \n",
       "0                                   Gurgaon/Gurugram    1-5 Yrs  \n",
       "1                                   Gurgaon/Gurugram    1-5 Yrs  \n",
       "2                  Noida, Greater Noida, Delhi / NCR    2-6 Yrs  \n",
       "3  Hyderabad/Secunderabad, Ahmedabad, Chennai, Ba...    0-4 Yrs  \n",
       "4                                   New Delhi, Delhi    2-7 Yrs  \n",
       "5                                 Gurgaon, Bengaluru    3-7 Yrs  \n",
       "6                                          New Delhi    2-5 Yrs  \n",
       "7                                 Noida, Delhi / NCR    3-8 Yrs  \n",
       "8                                        Delhi / NCR    3-8 Yrs  \n",
       "9                                              Noida    4-8 Yrs  "
      ]
     },
     "execution_count": 33,
     "metadata": {},
     "output_type": "execute_result"
    }
   ],
   "source": [
    "job2\n"
   ]
  },
  {
   "cell_type": "markdown",
   "id": "3b728b68",
   "metadata": {},
   "source": [
    "# Q4: Scrape data of first 100 sunglasses listings on flipkart.com."
   ]
  },
  {
   "cell_type": "code",
   "execution_count": 34,
   "id": "302ee84d",
   "metadata": {},
   "outputs": [],
   "source": [
    "driver=webdriver.Chrome(\"chromedriver.exe\")\n",
    "time.sleep(2)"
   ]
  },
  {
   "cell_type": "code",
   "execution_count": 35,
   "id": "b18cfb19",
   "metadata": {},
   "outputs": [],
   "source": [
    "driver.get(\"https://www.flipkart.com\")"
   ]
  },
  {
   "cell_type": "code",
   "execution_count": 38,
   "id": "5b1a44c2",
   "metadata": {},
   "outputs": [],
   "source": [
    "search_field_designation=driver.find_element_by_class_name(\"_3704LK\") \n",
    "search_field_designation.send_keys(\"Sunglasses\")"
   ]
  },
  {
   "cell_type": "code",
   "execution_count": 39,
   "id": "3dd10401",
   "metadata": {},
   "outputs": [],
   "source": [
    "search_button=driver.find_element_by_class_name(\"L0Z3Pu\")\n",
    "search_button.click()"
   ]
  },
  {
   "cell_type": "markdown",
   "id": "6930a849",
   "metadata": {},
   "source": [
    "To create loop for pages we will connect directly to the url above."
   ]
  },
  {
   "cell_type": "code",
   "execution_count": 41,
   "id": "18ca0bd6",
   "metadata": {},
   "outputs": [],
   "source": [
    "driver.get=(\"https://www.flipkart.com/search?q=Sunglasses&otracker=search&otracker1=search&marketplace=FLIPKART&as-show=on&as=off/page/1/\")"
   ]
  },
  {
   "cell_type": "code",
   "execution_count": 42,
   "id": "d8f7e9e0",
   "metadata": {},
   "outputs": [],
   "source": [
    "brand=[]\n",
    "product_description=[]\n",
    "price_list=[]\n"
   ]
  },
  {
   "cell_type": "code",
   "execution_count": 64,
   "id": "c4a00722",
   "metadata": {},
   "outputs": [
    {
     "data": {
      "text/plain": [
       "[<selenium.webdriver.remote.webelement.WebElement (session=\"4f41e175abc82dd7c9f8f8b0f3f57e38\", element=\"9c62b65f-ac5f-43d1-8e2b-4bddf4dcc2c0\")>,\n",
       " <selenium.webdriver.remote.webelement.WebElement (session=\"4f41e175abc82dd7c9f8f8b0f3f57e38\", element=\"20015f76-836e-4563-bc8a-aaae6818e97a\")>,\n",
       " <selenium.webdriver.remote.webelement.WebElement (session=\"4f41e175abc82dd7c9f8f8b0f3f57e38\", element=\"b0a24200-2702-4047-8d0d-495360dbb852\")>,\n",
       " <selenium.webdriver.remote.webelement.WebElement (session=\"4f41e175abc82dd7c9f8f8b0f3f57e38\", element=\"65ffc56c-3fa6-427a-a8e6-fae2c6bbfe6a\")>,\n",
       " <selenium.webdriver.remote.webelement.WebElement (session=\"4f41e175abc82dd7c9f8f8b0f3f57e38\", element=\"6fa1c8de-fc48-4be7-8d5d-30874287d7af\")>,\n",
       " <selenium.webdriver.remote.webelement.WebElement (session=\"4f41e175abc82dd7c9f8f8b0f3f57e38\", element=\"3585dcc0-3c83-4833-8061-9a65fcb7c137\")>,\n",
       " <selenium.webdriver.remote.webelement.WebElement (session=\"4f41e175abc82dd7c9f8f8b0f3f57e38\", element=\"8c86a7d6-6bfb-4e62-8732-5aaa62a1ceae\")>,\n",
       " <selenium.webdriver.remote.webelement.WebElement (session=\"4f41e175abc82dd7c9f8f8b0f3f57e38\", element=\"8821b760-fdba-4cd0-8e03-efe9f96386e8\")>,\n",
       " <selenium.webdriver.remote.webelement.WebElement (session=\"4f41e175abc82dd7c9f8f8b0f3f57e38\", element=\"c6595028-f98c-4dec-af3d-7d46d614f4ec\")>,\n",
       " <selenium.webdriver.remote.webelement.WebElement (session=\"4f41e175abc82dd7c9f8f8b0f3f57e38\", element=\"0daa1565-08fc-4648-b88e-562e2e3394b4\")>,\n",
       " <selenium.webdriver.remote.webelement.WebElement (session=\"4f41e175abc82dd7c9f8f8b0f3f57e38\", element=\"67e02c84-55de-4aeb-8b77-63e8d6098dfe\")>,\n",
       " <selenium.webdriver.remote.webelement.WebElement (session=\"4f41e175abc82dd7c9f8f8b0f3f57e38\", element=\"02213cc9-0c8c-48c0-bc77-e811c938511e\")>,\n",
       " <selenium.webdriver.remote.webelement.WebElement (session=\"4f41e175abc82dd7c9f8f8b0f3f57e38\", element=\"61db8c86-3371-4f75-80e7-21dd6d3e7f72\")>,\n",
       " <selenium.webdriver.remote.webelement.WebElement (session=\"4f41e175abc82dd7c9f8f8b0f3f57e38\", element=\"20d0b9f5-0c2f-4523-a8c9-323b83b4faeb\")>,\n",
       " <selenium.webdriver.remote.webelement.WebElement (session=\"4f41e175abc82dd7c9f8f8b0f3f57e38\", element=\"7973929b-798a-41ac-ac4f-7cd91a24185a\")>,\n",
       " <selenium.webdriver.remote.webelement.WebElement (session=\"4f41e175abc82dd7c9f8f8b0f3f57e38\", element=\"a22e7c6e-cddc-41f5-82d0-7c514de2eecf\")>,\n",
       " <selenium.webdriver.remote.webelement.WebElement (session=\"4f41e175abc82dd7c9f8f8b0f3f57e38\", element=\"fa28d829-5ce4-460d-869b-14535c5410e5\")>,\n",
       " <selenium.webdriver.remote.webelement.WebElement (session=\"4f41e175abc82dd7c9f8f8b0f3f57e38\", element=\"54848ff5-3df9-4060-923b-400d7c5ad5a8\")>,\n",
       " <selenium.webdriver.remote.webelement.WebElement (session=\"4f41e175abc82dd7c9f8f8b0f3f57e38\", element=\"eeb271dc-4125-441f-b03d-469d83fb56ac\")>,\n",
       " <selenium.webdriver.remote.webelement.WebElement (session=\"4f41e175abc82dd7c9f8f8b0f3f57e38\", element=\"9057e6e3-ef61-4216-bee2-60115bc9b44b\")>,\n",
       " <selenium.webdriver.remote.webelement.WebElement (session=\"4f41e175abc82dd7c9f8f8b0f3f57e38\", element=\"8e71a027-6df6-4715-b496-c4f2f07aae10\")>,\n",
       " <selenium.webdriver.remote.webelement.WebElement (session=\"4f41e175abc82dd7c9f8f8b0f3f57e38\", element=\"6ea4f86f-44ac-49a0-a1e2-849f01f8d1be\")>,\n",
       " <selenium.webdriver.remote.webelement.WebElement (session=\"4f41e175abc82dd7c9f8f8b0f3f57e38\", element=\"6033c5a6-9aa2-445a-9a26-ea979b97feca\")>,\n",
       " <selenium.webdriver.remote.webelement.WebElement (session=\"4f41e175abc82dd7c9f8f8b0f3f57e38\", element=\"42fe7c07-99c5-42f4-8e9b-81ea909240ce\")>,\n",
       " <selenium.webdriver.remote.webelement.WebElement (session=\"4f41e175abc82dd7c9f8f8b0f3f57e38\", element=\"6ee50ec8-108e-4a03-a69d-0895bc6c2ef5\")>,\n",
       " <selenium.webdriver.remote.webelement.WebElement (session=\"4f41e175abc82dd7c9f8f8b0f3f57e38\", element=\"74f8f668-bc6c-4a69-b68f-f8bb86da9dc8\")>,\n",
       " <selenium.webdriver.remote.webelement.WebElement (session=\"4f41e175abc82dd7c9f8f8b0f3f57e38\", element=\"af7e12c3-686b-4d52-b698-18a604ab86e3\")>,\n",
       " <selenium.webdriver.remote.webelement.WebElement (session=\"4f41e175abc82dd7c9f8f8b0f3f57e38\", element=\"71ddd6f8-4e7b-41b9-b334-ec5732cdc97c\")>,\n",
       " <selenium.webdriver.remote.webelement.WebElement (session=\"4f41e175abc82dd7c9f8f8b0f3f57e38\", element=\"5c488aa7-56ff-4395-93e1-20edd4011411\")>,\n",
       " <selenium.webdriver.remote.webelement.WebElement (session=\"4f41e175abc82dd7c9f8f8b0f3f57e38\", element=\"aa46ecb9-43b1-4b81-9510-55de0b70ba1e\")>,\n",
       " <selenium.webdriver.remote.webelement.WebElement (session=\"4f41e175abc82dd7c9f8f8b0f3f57e38\", element=\"2bd42cbd-7971-4480-bca2-fb87623524e6\")>,\n",
       " <selenium.webdriver.remote.webelement.WebElement (session=\"4f41e175abc82dd7c9f8f8b0f3f57e38\", element=\"47703a1c-6f8f-422d-ad0d-ef712ceb6a97\")>,\n",
       " <selenium.webdriver.remote.webelement.WebElement (session=\"4f41e175abc82dd7c9f8f8b0f3f57e38\", element=\"df388b3f-3899-496c-a205-fd0426f6ab1a\")>,\n",
       " <selenium.webdriver.remote.webelement.WebElement (session=\"4f41e175abc82dd7c9f8f8b0f3f57e38\", element=\"09a08d43-9dd2-4219-b548-40ea34b03ee8\")>,\n",
       " <selenium.webdriver.remote.webelement.WebElement (session=\"4f41e175abc82dd7c9f8f8b0f3f57e38\", element=\"1a420fd2-896e-4d78-beca-bddec5052e1b\")>,\n",
       " <selenium.webdriver.remote.webelement.WebElement (session=\"4f41e175abc82dd7c9f8f8b0f3f57e38\", element=\"68eb381f-aed1-4fe0-aed5-6f202f26449f\")>,\n",
       " <selenium.webdriver.remote.webelement.WebElement (session=\"4f41e175abc82dd7c9f8f8b0f3f57e38\", element=\"0c9dcb79-0a7e-4e7b-9ad8-48162f46a8a3\")>,\n",
       " <selenium.webdriver.remote.webelement.WebElement (session=\"4f41e175abc82dd7c9f8f8b0f3f57e38\", element=\"12a963c9-bc84-4d99-a76d-e919af9e33a2\")>,\n",
       " <selenium.webdriver.remote.webelement.WebElement (session=\"4f41e175abc82dd7c9f8f8b0f3f57e38\", element=\"9e58434c-fa88-4754-bb8c-6ad4f9e62d77\")>,\n",
       " <selenium.webdriver.remote.webelement.WebElement (session=\"4f41e175abc82dd7c9f8f8b0f3f57e38\", element=\"d53d8313-1820-4c8e-850f-c6be4c88821c\")>]"
      ]
     },
     "execution_count": 64,
     "metadata": {},
     "output_type": "execute_result"
    }
   ],
   "source": [
    "brand_tags=driver.find_elements_by_xpath(\"//div[@class='_2WkVRV']\")\n",
    "brand_tags[0:100]"
   ]
  },
  {
   "cell_type": "code",
   "execution_count": 65,
   "id": "2b2bf703",
   "metadata": {},
   "outputs": [
    {
     "data": {
      "text/plain": [
       "['LOUIS KOUROS',\n",
       " 'SKYZA INDIA',\n",
       " 'Roadster',\n",
       " 'Elligator',\n",
       " 'PIRASO',\n",
       " 'New Specs',\n",
       " 'Fastrack',\n",
       " 'hipe',\n",
       " 'SRPM',\n",
       " 'Lee Topper',\n",
       " 'ROZZETTA CRAFT',\n",
       " 'VINCENT CHASE',\n",
       " 'SUNBEE',\n",
       " 'Lee Topper',\n",
       " 'SUNBEE',\n",
       " 'ROZZETTA CRAFT',\n",
       " 'PIRASO',\n",
       " 'PIRASO',\n",
       " 'Fastrack',\n",
       " 'VINCENT CHASE',\n",
       " 'PIRASO',\n",
       " 'hipe',\n",
       " 'SUNBEE',\n",
       " 'NuVew',\n",
       " 'kingsunglasses',\n",
       " 'Fastrack',\n",
       " 'Roadster',\n",
       " 'AISLIN',\n",
       " 'kingsunglasses',\n",
       " 'hipe',\n",
       " 'kingsunglasses',\n",
       " 'VINCENT CHASE',\n",
       " 'PHENOMENAL',\n",
       " 'SRPM',\n",
       " 'SHAAH COLLECTIONS',\n",
       " 'VINCENT CHASE',\n",
       " 'hipe',\n",
       " 'GANSTA',\n",
       " 'Singco India',\n",
       " 'VINCENT CHASE',\n",
       " 'LOUIS KOUROS',\n",
       " 'SKYZA INDIA',\n",
       " 'Roadster',\n",
       " 'Elligator',\n",
       " 'PIRASO',\n",
       " 'New Specs',\n",
       " 'Fastrack',\n",
       " 'hipe',\n",
       " 'SRPM',\n",
       " 'Lee Topper',\n",
       " 'ROZZETTA CRAFT',\n",
       " 'VINCENT CHASE',\n",
       " 'SUNBEE',\n",
       " 'Lee Topper',\n",
       " 'SUNBEE',\n",
       " 'ROZZETTA CRAFT',\n",
       " 'PIRASO',\n",
       " 'PIRASO',\n",
       " 'Fastrack',\n",
       " 'VINCENT CHASE',\n",
       " 'PIRASO',\n",
       " 'hipe',\n",
       " 'SUNBEE',\n",
       " 'NuVew',\n",
       " 'kingsunglasses',\n",
       " 'Fastrack',\n",
       " 'Roadster',\n",
       " 'AISLIN',\n",
       " 'kingsunglasses',\n",
       " 'hipe',\n",
       " 'kingsunglasses',\n",
       " 'VINCENT CHASE',\n",
       " 'PHENOMENAL',\n",
       " 'SRPM',\n",
       " 'SHAAH COLLECTIONS',\n",
       " 'VINCENT CHASE',\n",
       " 'hipe',\n",
       " 'GANSTA',\n",
       " 'Singco India',\n",
       " 'VINCENT CHASE',\n",
       " 'LOUIS KOUROS',\n",
       " 'SKYZA INDIA',\n",
       " 'Roadster',\n",
       " 'Elligator',\n",
       " 'PIRASO',\n",
       " 'New Specs',\n",
       " 'Fastrack',\n",
       " 'hipe',\n",
       " 'SRPM',\n",
       " 'Lee Topper',\n",
       " 'ROZZETTA CRAFT',\n",
       " 'VINCENT CHASE',\n",
       " 'SUNBEE',\n",
       " 'Lee Topper',\n",
       " 'SUNBEE',\n",
       " 'ROZZETTA CRAFT',\n",
       " 'PIRASO',\n",
       " 'PIRASO',\n",
       " 'Fastrack',\n",
       " 'VINCENT CHASE']"
      ]
     },
     "execution_count": 65,
     "metadata": {},
     "output_type": "execute_result"
    }
   ],
   "source": [
    "for i in brand_tags :\n",
    "    brands=i.text\n",
    "    brand.append(brands)\n",
    "brand[0:100]"
   ]
  },
  {
   "cell_type": "code",
   "execution_count": 66,
   "id": "4143b6d1",
   "metadata": {},
   "outputs": [
    {
     "data": {
      "text/plain": [
       "[<selenium.webdriver.remote.webelement.WebElement (session=\"4f41e175abc82dd7c9f8f8b0f3f57e38\", element=\"fcbb2376-8a86-4910-9106-67c789e42796\")>,\n",
       " <selenium.webdriver.remote.webelement.WebElement (session=\"4f41e175abc82dd7c9f8f8b0f3f57e38\", element=\"6a1b6d3f-4178-47fe-bb0c-85d08a9c064d\")>,\n",
       " <selenium.webdriver.remote.webelement.WebElement (session=\"4f41e175abc82dd7c9f8f8b0f3f57e38\", element=\"9dd0cea5-142a-4519-9110-5c8db5824b5f\")>,\n",
       " <selenium.webdriver.remote.webelement.WebElement (session=\"4f41e175abc82dd7c9f8f8b0f3f57e38\", element=\"34af8917-fcc2-4778-8fad-04e940ad777e\")>,\n",
       " <selenium.webdriver.remote.webelement.WebElement (session=\"4f41e175abc82dd7c9f8f8b0f3f57e38\", element=\"0d30785c-774b-4379-8699-dca8484696b9\")>,\n",
       " <selenium.webdriver.remote.webelement.WebElement (session=\"4f41e175abc82dd7c9f8f8b0f3f57e38\", element=\"33de5634-0fbb-4083-b4e7-26c0e5235466\")>,\n",
       " <selenium.webdriver.remote.webelement.WebElement (session=\"4f41e175abc82dd7c9f8f8b0f3f57e38\", element=\"a7faeded-7ba0-40be-a0a7-668acea4ce0b\")>,\n",
       " <selenium.webdriver.remote.webelement.WebElement (session=\"4f41e175abc82dd7c9f8f8b0f3f57e38\", element=\"7f76d890-48f2-4586-a499-0ef5d7649346\")>,\n",
       " <selenium.webdriver.remote.webelement.WebElement (session=\"4f41e175abc82dd7c9f8f8b0f3f57e38\", element=\"f8df17a1-859c-42bc-9934-3fe73a288d73\")>,\n",
       " <selenium.webdriver.remote.webelement.WebElement (session=\"4f41e175abc82dd7c9f8f8b0f3f57e38\", element=\"26e5f184-fd9a-4ec2-9cd7-f25a1031ef48\")>,\n",
       " <selenium.webdriver.remote.webelement.WebElement (session=\"4f41e175abc82dd7c9f8f8b0f3f57e38\", element=\"0de85087-0373-46eb-beb1-a898a9afa1e7\")>,\n",
       " <selenium.webdriver.remote.webelement.WebElement (session=\"4f41e175abc82dd7c9f8f8b0f3f57e38\", element=\"71980343-670a-479e-9a61-14fc6df375e0\")>,\n",
       " <selenium.webdriver.remote.webelement.WebElement (session=\"4f41e175abc82dd7c9f8f8b0f3f57e38\", element=\"b32e96a3-ff86-42c8-876d-5fbea7e22f67\")>,\n",
       " <selenium.webdriver.remote.webelement.WebElement (session=\"4f41e175abc82dd7c9f8f8b0f3f57e38\", element=\"37b65736-0b8b-4f28-a9b7-c2e3205cf6bc\")>,\n",
       " <selenium.webdriver.remote.webelement.WebElement (session=\"4f41e175abc82dd7c9f8f8b0f3f57e38\", element=\"a4df85cd-808d-46cd-a0a0-d26366c5e5a6\")>,\n",
       " <selenium.webdriver.remote.webelement.WebElement (session=\"4f41e175abc82dd7c9f8f8b0f3f57e38\", element=\"aaa3f6ad-a5c5-4d6d-b65c-83149d26974e\")>,\n",
       " <selenium.webdriver.remote.webelement.WebElement (session=\"4f41e175abc82dd7c9f8f8b0f3f57e38\", element=\"d1a0a398-353f-4c7d-bf4a-9cc0f15b902b\")>,\n",
       " <selenium.webdriver.remote.webelement.WebElement (session=\"4f41e175abc82dd7c9f8f8b0f3f57e38\", element=\"d70ae502-ea3e-42cb-b84f-2f5efd015136\")>,\n",
       " <selenium.webdriver.remote.webelement.WebElement (session=\"4f41e175abc82dd7c9f8f8b0f3f57e38\", element=\"fe0fc45f-e045-4548-bfcb-3afd14504a04\")>,\n",
       " <selenium.webdriver.remote.webelement.WebElement (session=\"4f41e175abc82dd7c9f8f8b0f3f57e38\", element=\"b4abbeef-158b-420e-ad6b-0c3b496483bc\")>,\n",
       " <selenium.webdriver.remote.webelement.WebElement (session=\"4f41e175abc82dd7c9f8f8b0f3f57e38\", element=\"cb349a63-2e17-498f-a636-e402e03f624d\")>,\n",
       " <selenium.webdriver.remote.webelement.WebElement (session=\"4f41e175abc82dd7c9f8f8b0f3f57e38\", element=\"55e92f51-df6b-4890-b100-1f99e0f4cd38\")>,\n",
       " <selenium.webdriver.remote.webelement.WebElement (session=\"4f41e175abc82dd7c9f8f8b0f3f57e38\", element=\"88d422fe-c7c7-4a93-b21e-2a407ad66d22\")>,\n",
       " <selenium.webdriver.remote.webelement.WebElement (session=\"4f41e175abc82dd7c9f8f8b0f3f57e38\", element=\"842e1121-6c79-4de9-b36e-13fe766778fd\")>,\n",
       " <selenium.webdriver.remote.webelement.WebElement (session=\"4f41e175abc82dd7c9f8f8b0f3f57e38\", element=\"3d85a097-a811-4431-a2ab-fcda16f02da0\")>,\n",
       " <selenium.webdriver.remote.webelement.WebElement (session=\"4f41e175abc82dd7c9f8f8b0f3f57e38\", element=\"f6ffb5bf-7386-4afd-a007-801b049fa708\")>,\n",
       " <selenium.webdriver.remote.webelement.WebElement (session=\"4f41e175abc82dd7c9f8f8b0f3f57e38\", element=\"5789ac43-3e09-4108-ab05-fdd734579ad7\")>,\n",
       " <selenium.webdriver.remote.webelement.WebElement (session=\"4f41e175abc82dd7c9f8f8b0f3f57e38\", element=\"ce39058c-2903-463e-af74-cba9b963d89c\")>,\n",
       " <selenium.webdriver.remote.webelement.WebElement (session=\"4f41e175abc82dd7c9f8f8b0f3f57e38\", element=\"48ffd218-047c-4954-a1d0-deb3f25b6722\")>,\n",
       " <selenium.webdriver.remote.webelement.WebElement (session=\"4f41e175abc82dd7c9f8f8b0f3f57e38\", element=\"0351f945-00b6-412f-a915-ca1352a1b92d\")>,\n",
       " <selenium.webdriver.remote.webelement.WebElement (session=\"4f41e175abc82dd7c9f8f8b0f3f57e38\", element=\"81fb081a-4928-4511-8a27-f3ddda7c71ed\")>,\n",
       " <selenium.webdriver.remote.webelement.WebElement (session=\"4f41e175abc82dd7c9f8f8b0f3f57e38\", element=\"540d6697-1bc0-4755-a99a-fb4d71304290\")>,\n",
       " <selenium.webdriver.remote.webelement.WebElement (session=\"4f41e175abc82dd7c9f8f8b0f3f57e38\", element=\"d2225c0b-62ee-4df6-81e0-d80c154fd580\")>,\n",
       " <selenium.webdriver.remote.webelement.WebElement (session=\"4f41e175abc82dd7c9f8f8b0f3f57e38\", element=\"ab347b5c-1a88-4672-ab83-71ccc3dd79fd\")>,\n",
       " <selenium.webdriver.remote.webelement.WebElement (session=\"4f41e175abc82dd7c9f8f8b0f3f57e38\", element=\"7e28f342-d207-4eb6-9f35-2a2dbc0066e9\")>,\n",
       " <selenium.webdriver.remote.webelement.WebElement (session=\"4f41e175abc82dd7c9f8f8b0f3f57e38\", element=\"745fca26-0505-4f1f-b783-d92f9a2dfed1\")>,\n",
       " <selenium.webdriver.remote.webelement.WebElement (session=\"4f41e175abc82dd7c9f8f8b0f3f57e38\", element=\"6127e61b-fba6-4e1a-a4b2-ce3981d8456e\")>,\n",
       " <selenium.webdriver.remote.webelement.WebElement (session=\"4f41e175abc82dd7c9f8f8b0f3f57e38\", element=\"c391677a-0a9c-4512-9632-71e874ce3ca9\")>,\n",
       " <selenium.webdriver.remote.webelement.WebElement (session=\"4f41e175abc82dd7c9f8f8b0f3f57e38\", element=\"b22376ff-6128-4df8-9844-cc8aee0df0e7\")>,\n",
       " <selenium.webdriver.remote.webelement.WebElement (session=\"4f41e175abc82dd7c9f8f8b0f3f57e38\", element=\"8eaee747-0305-4fc1-b628-1c0d13cb0b5c\")>]"
      ]
     },
     "execution_count": 66,
     "metadata": {},
     "output_type": "execute_result"
    }
   ],
   "source": [
    "description_tags=driver.find_elements_by_xpath(\"//a[@class='IRpwTa']\")\n",
    "description_tags[0:100]"
   ]
  },
  {
   "cell_type": "code",
   "execution_count": 67,
   "id": "9a4eb86c",
   "metadata": {},
   "outputs": [
    {
     "data": {
      "text/plain": [
       "['UV Protection Aviator Sunglasses (60)',\n",
       " 'Polarized, UV Protection Sports Sunglasses (Free Size)',\n",
       " 'UV Protection Oval Sunglasses (57)',\n",
       " 'UV Protection Round Sunglasses (54)',\n",
       " 'UV Protection Aviator Sunglasses (54)',\n",
       " 'UV Protection Rectangular Sunglasses (Free Size)',\n",
       " 'UV Protection Rectangular Sunglasses (Free Size)',\n",
       " 'UV Protection Sports Sunglasses (Free Size)',\n",
       " 'UV Protection Wayfarer Sunglasses (50)',\n",
       " 'Riding Glasses Wrap-around Sunglasses (Free Size)',\n",
       " 'Polarized, Riding Glasses Sports, Wrap-around Sunglasse...',\n",
       " 'UV Protection Wayfarer Sunglasses (55)',\n",
       " 'UV Protection, Polarized Wayfarer Sunglasses (Free Size...',\n",
       " 'UV Protection Rectangular Sunglasses (Free Size)',\n",
       " 'UV Protection, Polarized, Mirrored Retro Square Sunglas...',\n",
       " 'UV Protection Aviator Sunglasses (62)',\n",
       " 'UV Protection Aviator Sunglasses (54)',\n",
       " 'UV Protection Wayfarer Sunglasses (32)',\n",
       " 'Gradient, UV Protection Wayfarer Sunglasses (Free Size)',\n",
       " 'by Lenskart Polarized, UV Protection Wayfarer Sunglasse...',\n",
       " 'UV Protection Aviator Sunglasses (54)',\n",
       " 'UV Protection, Gradient, Mirrored, Riding Glasses Aviat...',\n",
       " 'UV Protection, Polarized, Mirrored Round Sunglasses (Fr...',\n",
       " 'UV Protection Cat-eye Sunglasses (60)',\n",
       " 'UV Protection, Riding Glasses, Mirrored Wayfarer Sungla...',\n",
       " 'UV Protection Wayfarer Sunglasses (Free Size)',\n",
       " 'UV Protection Aviator Sunglasses (60)',\n",
       " 'UV Protection, Gradient Oval Sunglasses (58)',\n",
       " 'Mirrored, UV Protection Aviator Sunglasses (56)',\n",
       " 'Mirrored, UV Protection, Gradient Round Sunglasses (55)',\n",
       " 'Mirrored, UV Protection Wayfarer Sunglasses (Free Size)',\n",
       " 'by Lenskart UV Protection Wayfarer Sunglasses (51)',\n",
       " 'UV Protection Retro Square Sunglasses (53)',\n",
       " 'UV Protection Wayfarer Sunglasses (53)',\n",
       " 'UV Protection, Polarized, Mirrored Rectangular Sunglass...',\n",
       " 'UV Protection Wayfarer Sunglasses (59)',\n",
       " 'Mirrored Wayfarer Sunglasses (55)',\n",
       " 'UV Protection, Riding Glasses Wayfarer Sunglasses (53)',\n",
       " 'Riding Glasses, UV Protection, Others Aviator Sunglasse...',\n",
       " 'by Lenskart Polarized, UV Protection Aviator Sunglasses...',\n",
       " 'UV Protection Aviator Sunglasses (60)',\n",
       " 'Polarized, UV Protection Sports Sunglasses (Free Size)',\n",
       " 'UV Protection Oval Sunglasses (57)',\n",
       " 'UV Protection Round Sunglasses (54)',\n",
       " 'UV Protection Aviator Sunglasses (54)',\n",
       " 'UV Protection Rectangular Sunglasses (Free Size)',\n",
       " 'UV Protection Rectangular Sunglasses (Free Size)',\n",
       " 'UV Protection Sports Sunglasses (Free Size)',\n",
       " 'UV Protection Wayfarer Sunglasses (50)',\n",
       " 'Riding Glasses Wrap-around Sunglasses (Free Size)',\n",
       " 'Polarized, Riding Glasses Sports, Wrap-around Sunglasse...',\n",
       " 'UV Protection Wayfarer Sunglasses (55)',\n",
       " 'UV Protection, Polarized Wayfarer Sunglasses (Free Size...',\n",
       " 'UV Protection Rectangular Sunglasses (Free Size)',\n",
       " 'UV Protection, Polarized, Mirrored Retro Square Sunglas...',\n",
       " 'UV Protection Aviator Sunglasses (62)',\n",
       " 'UV Protection Aviator Sunglasses (54)',\n",
       " 'UV Protection Wayfarer Sunglasses (32)',\n",
       " 'Gradient, UV Protection Wayfarer Sunglasses (Free Size)',\n",
       " 'by Lenskart Polarized, UV Protection Wayfarer Sunglasse...',\n",
       " 'UV Protection Aviator Sunglasses (54)',\n",
       " 'UV Protection, Gradient, Mirrored, Riding Glasses Aviat...',\n",
       " 'UV Protection, Polarized, Mirrored Round Sunglasses (Fr...',\n",
       " 'UV Protection Cat-eye Sunglasses (60)',\n",
       " 'UV Protection, Riding Glasses, Mirrored Wayfarer Sungla...',\n",
       " 'UV Protection Wayfarer Sunglasses (Free Size)',\n",
       " 'UV Protection Aviator Sunglasses (60)',\n",
       " 'UV Protection, Gradient Oval Sunglasses (58)',\n",
       " 'Mirrored, UV Protection Aviator Sunglasses (56)',\n",
       " 'Mirrored, UV Protection, Gradient Round Sunglasses (55)',\n",
       " 'Mirrored, UV Protection Wayfarer Sunglasses (Free Size)',\n",
       " 'by Lenskart UV Protection Wayfarer Sunglasses (51)',\n",
       " 'UV Protection Retro Square Sunglasses (53)',\n",
       " 'UV Protection Wayfarer Sunglasses (53)',\n",
       " 'UV Protection, Polarized, Mirrored Rectangular Sunglass...',\n",
       " 'UV Protection Wayfarer Sunglasses (59)',\n",
       " 'Mirrored Wayfarer Sunglasses (55)',\n",
       " 'UV Protection, Riding Glasses Wayfarer Sunglasses (53)',\n",
       " 'Riding Glasses, UV Protection, Others Aviator Sunglasse...',\n",
       " 'by Lenskart Polarized, UV Protection Aviator Sunglasses...',\n",
       " 'UV Protection Aviator Sunglasses (60)',\n",
       " 'Polarized, UV Protection Sports Sunglasses (Free Size)',\n",
       " 'UV Protection Oval Sunglasses (57)',\n",
       " 'UV Protection Round Sunglasses (54)',\n",
       " 'UV Protection Aviator Sunglasses (54)',\n",
       " 'UV Protection Rectangular Sunglasses (Free Size)',\n",
       " 'UV Protection Rectangular Sunglasses (Free Size)',\n",
       " 'UV Protection Sports Sunglasses (Free Size)',\n",
       " 'UV Protection Wayfarer Sunglasses (50)',\n",
       " 'Riding Glasses Wrap-around Sunglasses (Free Size)',\n",
       " 'Polarized, Riding Glasses Sports, Wrap-around Sunglasse...',\n",
       " 'UV Protection Wayfarer Sunglasses (55)',\n",
       " 'UV Protection, Polarized Wayfarer Sunglasses (Free Size...',\n",
       " 'UV Protection Rectangular Sunglasses (Free Size)',\n",
       " 'UV Protection, Polarized, Mirrored Retro Square Sunglas...',\n",
       " 'UV Protection Aviator Sunglasses (62)',\n",
       " 'UV Protection Aviator Sunglasses (54)',\n",
       " 'UV Protection Wayfarer Sunglasses (32)',\n",
       " 'Gradient, UV Protection Wayfarer Sunglasses (Free Size)',\n",
       " 'by Lenskart Polarized, UV Protection Wayfarer Sunglasse...']"
      ]
     },
     "execution_count": 67,
     "metadata": {},
     "output_type": "execute_result"
    }
   ],
   "source": [
    "for i in description_tags :\n",
    "    descriptions=i.text\n",
    "    product_description.append(descriptions)\n",
    "product_description[0:100]"
   ]
  },
  {
   "cell_type": "code",
   "execution_count": 68,
   "id": "23ce36b8",
   "metadata": {},
   "outputs": [
    {
     "data": {
      "text/plain": [
       "[<selenium.webdriver.remote.webelement.WebElement (session=\"4f41e175abc82dd7c9f8f8b0f3f57e38\", element=\"1bfca5ee-2fe4-42ca-a641-d6a175dddee0\")>,\n",
       " <selenium.webdriver.remote.webelement.WebElement (session=\"4f41e175abc82dd7c9f8f8b0f3f57e38\", element=\"b6d4d485-5731-44ea-9425-70bf038a7047\")>,\n",
       " <selenium.webdriver.remote.webelement.WebElement (session=\"4f41e175abc82dd7c9f8f8b0f3f57e38\", element=\"d7221c18-abbd-4dae-81cc-863d9eafb389\")>,\n",
       " <selenium.webdriver.remote.webelement.WebElement (session=\"4f41e175abc82dd7c9f8f8b0f3f57e38\", element=\"f32201b4-480d-438b-af47-ce4d4af36ba1\")>,\n",
       " <selenium.webdriver.remote.webelement.WebElement (session=\"4f41e175abc82dd7c9f8f8b0f3f57e38\", element=\"fc2dca4f-77ed-482f-bd59-cbe44698f003\")>,\n",
       " <selenium.webdriver.remote.webelement.WebElement (session=\"4f41e175abc82dd7c9f8f8b0f3f57e38\", element=\"1d2242b3-1d06-4d0c-9043-03a2354cd099\")>,\n",
       " <selenium.webdriver.remote.webelement.WebElement (session=\"4f41e175abc82dd7c9f8f8b0f3f57e38\", element=\"97cc7612-b82b-4609-be40-49a44e9a236d\")>,\n",
       " <selenium.webdriver.remote.webelement.WebElement (session=\"4f41e175abc82dd7c9f8f8b0f3f57e38\", element=\"0e3dfac5-03ff-4420-8384-9504921d4610\")>,\n",
       " <selenium.webdriver.remote.webelement.WebElement (session=\"4f41e175abc82dd7c9f8f8b0f3f57e38\", element=\"0f18d209-53dc-42c5-b94a-dccc70276ef1\")>,\n",
       " <selenium.webdriver.remote.webelement.WebElement (session=\"4f41e175abc82dd7c9f8f8b0f3f57e38\", element=\"8a046857-8647-4133-8dfc-95d17e8d5847\")>,\n",
       " <selenium.webdriver.remote.webelement.WebElement (session=\"4f41e175abc82dd7c9f8f8b0f3f57e38\", element=\"77832c4d-4a6c-4d0c-b760-7bbb5724acfb\")>,\n",
       " <selenium.webdriver.remote.webelement.WebElement (session=\"4f41e175abc82dd7c9f8f8b0f3f57e38\", element=\"41922f83-537f-4512-a751-e31d810339e4\")>,\n",
       " <selenium.webdriver.remote.webelement.WebElement (session=\"4f41e175abc82dd7c9f8f8b0f3f57e38\", element=\"8b8a30b7-46ed-4c74-b4ff-14ce29605002\")>,\n",
       " <selenium.webdriver.remote.webelement.WebElement (session=\"4f41e175abc82dd7c9f8f8b0f3f57e38\", element=\"555b4dc7-377b-49e3-8afc-8ea23972d284\")>,\n",
       " <selenium.webdriver.remote.webelement.WebElement (session=\"4f41e175abc82dd7c9f8f8b0f3f57e38\", element=\"c2691f57-8f17-49df-939f-9d676a39de03\")>,\n",
       " <selenium.webdriver.remote.webelement.WebElement (session=\"4f41e175abc82dd7c9f8f8b0f3f57e38\", element=\"44bef669-ee74-4b6f-898a-850ddcb9758b\")>,\n",
       " <selenium.webdriver.remote.webelement.WebElement (session=\"4f41e175abc82dd7c9f8f8b0f3f57e38\", element=\"eac7ad69-68b2-43bb-8999-970b952d99f4\")>,\n",
       " <selenium.webdriver.remote.webelement.WebElement (session=\"4f41e175abc82dd7c9f8f8b0f3f57e38\", element=\"a01b73a0-cbaf-47d7-ad23-04cb70c3326b\")>,\n",
       " <selenium.webdriver.remote.webelement.WebElement (session=\"4f41e175abc82dd7c9f8f8b0f3f57e38\", element=\"8666c99a-0d8d-4df9-a1b4-6a12dc4cfa6b\")>,\n",
       " <selenium.webdriver.remote.webelement.WebElement (session=\"4f41e175abc82dd7c9f8f8b0f3f57e38\", element=\"8546ace3-8171-452b-a55b-c3b42a8183f2\")>,\n",
       " <selenium.webdriver.remote.webelement.WebElement (session=\"4f41e175abc82dd7c9f8f8b0f3f57e38\", element=\"1fc7e33d-d6b1-4fa4-9a32-a53dd09bb124\")>,\n",
       " <selenium.webdriver.remote.webelement.WebElement (session=\"4f41e175abc82dd7c9f8f8b0f3f57e38\", element=\"737bb584-a05b-4dcb-8705-89c1c0466dc5\")>,\n",
       " <selenium.webdriver.remote.webelement.WebElement (session=\"4f41e175abc82dd7c9f8f8b0f3f57e38\", element=\"6082ef4e-c752-4538-94be-050138907971\")>,\n",
       " <selenium.webdriver.remote.webelement.WebElement (session=\"4f41e175abc82dd7c9f8f8b0f3f57e38\", element=\"9a51442a-f1d3-4554-b5ba-45dd1cd6f20d\")>,\n",
       " <selenium.webdriver.remote.webelement.WebElement (session=\"4f41e175abc82dd7c9f8f8b0f3f57e38\", element=\"be845bdd-7ede-446a-92ea-1cf54b769cee\")>,\n",
       " <selenium.webdriver.remote.webelement.WebElement (session=\"4f41e175abc82dd7c9f8f8b0f3f57e38\", element=\"dceb6224-8a67-40c0-9530-634c0d761ab9\")>,\n",
       " <selenium.webdriver.remote.webelement.WebElement (session=\"4f41e175abc82dd7c9f8f8b0f3f57e38\", element=\"168b9aac-077f-48d0-9e0a-6d3d92499548\")>,\n",
       " <selenium.webdriver.remote.webelement.WebElement (session=\"4f41e175abc82dd7c9f8f8b0f3f57e38\", element=\"9a9b3f25-f2a1-4df5-a39e-346b0fb4250e\")>,\n",
       " <selenium.webdriver.remote.webelement.WebElement (session=\"4f41e175abc82dd7c9f8f8b0f3f57e38\", element=\"c35bd526-44bf-45c7-9e72-6d96a077ff40\")>,\n",
       " <selenium.webdriver.remote.webelement.WebElement (session=\"4f41e175abc82dd7c9f8f8b0f3f57e38\", element=\"f6a7cf09-cee9-4faa-9d28-4d708910e1da\")>,\n",
       " <selenium.webdriver.remote.webelement.WebElement (session=\"4f41e175abc82dd7c9f8f8b0f3f57e38\", element=\"e6691ebe-5b19-4f59-9fd5-d1969c16cdb8\")>,\n",
       " <selenium.webdriver.remote.webelement.WebElement (session=\"4f41e175abc82dd7c9f8f8b0f3f57e38\", element=\"e529223c-2d5a-44e4-bd63-358665f8f9c7\")>,\n",
       " <selenium.webdriver.remote.webelement.WebElement (session=\"4f41e175abc82dd7c9f8f8b0f3f57e38\", element=\"b970652b-ee00-4fc4-bf5a-0898a2d033d1\")>,\n",
       " <selenium.webdriver.remote.webelement.WebElement (session=\"4f41e175abc82dd7c9f8f8b0f3f57e38\", element=\"faaeaf0b-972c-4c71-a156-c16a9020e533\")>,\n",
       " <selenium.webdriver.remote.webelement.WebElement (session=\"4f41e175abc82dd7c9f8f8b0f3f57e38\", element=\"729c139b-c9cd-4da9-ac69-72bdb14d7ad9\")>,\n",
       " <selenium.webdriver.remote.webelement.WebElement (session=\"4f41e175abc82dd7c9f8f8b0f3f57e38\", element=\"50a68ad1-a628-4b9c-8f2d-c7a181adc300\")>,\n",
       " <selenium.webdriver.remote.webelement.WebElement (session=\"4f41e175abc82dd7c9f8f8b0f3f57e38\", element=\"d563f74e-19eb-49ab-884f-fda6c32b7a01\")>,\n",
       " <selenium.webdriver.remote.webelement.WebElement (session=\"4f41e175abc82dd7c9f8f8b0f3f57e38\", element=\"3c959917-7531-43f7-9872-300768707671\")>,\n",
       " <selenium.webdriver.remote.webelement.WebElement (session=\"4f41e175abc82dd7c9f8f8b0f3f57e38\", element=\"906b55d7-c7de-4a2d-804a-3de854447f7d\")>,\n",
       " <selenium.webdriver.remote.webelement.WebElement (session=\"4f41e175abc82dd7c9f8f8b0f3f57e38\", element=\"8c426dce-2754-43bf-a5f4-7a6a9deb4955\")>]"
      ]
     },
     "execution_count": 68,
     "metadata": {},
     "output_type": "execute_result"
    }
   ],
   "source": [
    "price_tags=driver.find_elements_by_xpath(\"//div[@class='_30jeq3']\")\n",
    "price_tags[0:100]"
   ]
  },
  {
   "cell_type": "code",
   "execution_count": 69,
   "id": "bfa03970",
   "metadata": {},
   "outputs": [
    {
     "data": {
      "text/plain": [
       "['₹1,349',\n",
       " '₹472',\n",
       " '₹649',\n",
       " '₹295',\n",
       " '₹249',\n",
       " '₹265',\n",
       " '₹639',\n",
       " '₹242',\n",
       " '₹250',\n",
       " '₹275',\n",
       " '₹474',\n",
       " '₹949',\n",
       " '₹273',\n",
       " '₹199',\n",
       " '₹249',\n",
       " '₹616',\n",
       " '₹249',\n",
       " '₹225',\n",
       " '₹639',\n",
       " '₹799',\n",
       " '₹249',\n",
       " '₹233',\n",
       " '₹314',\n",
       " '₹375',\n",
       " '₹209',\n",
       " '₹719',\n",
       " '₹709',\n",
       " '₹458',\n",
       " '₹245',\n",
       " '₹210',\n",
       " '₹269',\n",
       " '₹749',\n",
       " '₹315',\n",
       " '₹246',\n",
       " '₹203',\n",
       " '₹799',\n",
       " '₹229',\n",
       " '₹221',\n",
       " '₹245',\n",
       " '₹999',\n",
       " '₹1,349',\n",
       " '₹472',\n",
       " '₹649',\n",
       " '₹295',\n",
       " '₹249',\n",
       " '₹265',\n",
       " '₹639',\n",
       " '₹242',\n",
       " '₹250',\n",
       " '₹275',\n",
       " '₹474',\n",
       " '₹949',\n",
       " '₹273',\n",
       " '₹199',\n",
       " '₹249',\n",
       " '₹616',\n",
       " '₹249',\n",
       " '₹225',\n",
       " '₹639',\n",
       " '₹799',\n",
       " '₹249',\n",
       " '₹233',\n",
       " '₹314',\n",
       " '₹375',\n",
       " '₹209',\n",
       " '₹719',\n",
       " '₹709',\n",
       " '₹458',\n",
       " '₹245',\n",
       " '₹210',\n",
       " '₹269',\n",
       " '₹749',\n",
       " '₹315',\n",
       " '₹246',\n",
       " '₹203',\n",
       " '₹799',\n",
       " '₹229',\n",
       " '₹221',\n",
       " '₹245',\n",
       " '₹999',\n",
       " '₹1,349',\n",
       " '₹472',\n",
       " '₹649',\n",
       " '₹295',\n",
       " '₹249',\n",
       " '₹265',\n",
       " '₹639',\n",
       " '₹242',\n",
       " '₹250',\n",
       " '₹275',\n",
       " '₹474',\n",
       " '₹949',\n",
       " '₹273',\n",
       " '₹199',\n",
       " '₹249',\n",
       " '₹616',\n",
       " '₹249',\n",
       " '₹225',\n",
       " '₹639',\n",
       " '₹799']"
      ]
     },
     "execution_count": 69,
     "metadata": {},
     "output_type": "execute_result"
    }
   ],
   "source": [
    "for i in price_tags :\n",
    "    prices=i.text\n",
    "    price_list.append(prices)\n",
    "price_list[0:100]"
   ]
  },
  {
   "cell_type": "markdown",
   "id": "b3bb3e91",
   "metadata": {},
   "source": [
    "# Q5: Scrape 100 reviews data from flipkart.com for iphone11 phone."
   ]
  },
  {
   "cell_type": "code",
   "execution_count": 71,
   "id": "9cb9c909",
   "metadata": {},
   "outputs": [],
   "source": [
    "driver=webdriver.Chrome(\"chromedriver.exe\")\n",
    "time.sleep(2)"
   ]
  },
  {
   "cell_type": "code",
   "execution_count": 72,
   "id": "4708d4a1",
   "metadata": {},
   "outputs": [],
   "source": [
    "driver.get(\"https://www.flipkart.com/apple-iphone-11-black-64-gb-includes-earpods-power-adapter/product-reviews/itm0f37c2240b217?pid=MOBFKCTSVZAXUHGR&lid=LSTMOBFKCTSVZAXUHGR3IXQLM&marketplace=FLIPKART/page/1/\")"
   ]
  },
  {
   "cell_type": "code",
   "execution_count": 73,
   "id": "1a4f0100",
   "metadata": {},
   "outputs": [],
   "source": [
    "rating=[]\n",
    "review_summary=[]\n",
    "full_review=[]"
   ]
  },
  {
   "cell_type": "code",
   "execution_count": 84,
   "id": "89475089",
   "metadata": {},
   "outputs": [
    {
     "data": {
      "text/plain": [
       "[<selenium.webdriver.remote.webelement.WebElement (session=\"dfd1873bfbf013ed51763eb731ba43d2\", element=\"d1b66078-991b-4daf-a4d7-4113345fdc95\")>,\n",
       " <selenium.webdriver.remote.webelement.WebElement (session=\"dfd1873bfbf013ed51763eb731ba43d2\", element=\"f15dabda-c0f8-4a3b-8a22-7989e71ff11c\")>,\n",
       " <selenium.webdriver.remote.webelement.WebElement (session=\"dfd1873bfbf013ed51763eb731ba43d2\", element=\"3ac299e1-2a5d-4466-b85c-bdbc8a2f3663\")>,\n",
       " <selenium.webdriver.remote.webelement.WebElement (session=\"dfd1873bfbf013ed51763eb731ba43d2\", element=\"eb93e83d-5292-468d-9bc0-af7fc1048347\")>,\n",
       " <selenium.webdriver.remote.webelement.WebElement (session=\"dfd1873bfbf013ed51763eb731ba43d2\", element=\"b5e14693-fa80-4161-955a-0165e48dad3a\")>,\n",
       " <selenium.webdriver.remote.webelement.WebElement (session=\"dfd1873bfbf013ed51763eb731ba43d2\", element=\"5a2ffc42-baf9-4a64-acca-bb082b003111\")>,\n",
       " <selenium.webdriver.remote.webelement.WebElement (session=\"dfd1873bfbf013ed51763eb731ba43d2\", element=\"396f5b64-23bf-46a6-9fda-8bfdc767f4f8\")>,\n",
       " <selenium.webdriver.remote.webelement.WebElement (session=\"dfd1873bfbf013ed51763eb731ba43d2\", element=\"230c154e-043e-43fd-8075-56526a9f60f1\")>,\n",
       " <selenium.webdriver.remote.webelement.WebElement (session=\"dfd1873bfbf013ed51763eb731ba43d2\", element=\"5a3706ce-486a-438b-8d97-dbcaafb45b71\")>,\n",
       " <selenium.webdriver.remote.webelement.WebElement (session=\"dfd1873bfbf013ed51763eb731ba43d2\", element=\"dbf56463-c33c-41c9-ac8b-4604c818e93d\")>]"
      ]
     },
     "execution_count": 84,
     "metadata": {},
     "output_type": "execute_result"
    }
   ],
   "source": [
    "rating_tags=driver.find_elements_by_xpath(\"//div[@class='_3LWZlK _1BLPMq']\")\n",
    "rating_tags[0:100]"
   ]
  },
  {
   "cell_type": "code",
   "execution_count": 86,
   "id": "b1e30584",
   "metadata": {},
   "outputs": [
    {
     "data": {
      "text/plain": [
       "['5',\n",
       " '5',\n",
       " '5',\n",
       " '5',\n",
       " '5',\n",
       " '5',\n",
       " '5',\n",
       " '4',\n",
       " '5',\n",
       " '5',\n",
       " '5',\n",
       " '5',\n",
       " '5',\n",
       " '5',\n",
       " '5',\n",
       " '5',\n",
       " '5',\n",
       " '4',\n",
       " '5',\n",
       " '5',\n",
       " '5',\n",
       " '5',\n",
       " '5',\n",
       " '5',\n",
       " '5',\n",
       " '5',\n",
       " '5',\n",
       " '4',\n",
       " '5',\n",
       " '5',\n",
       " '5',\n",
       " '5',\n",
       " '5',\n",
       " '5',\n",
       " '5',\n",
       " '5',\n",
       " '5',\n",
       " '4',\n",
       " '5',\n",
       " '5',\n",
       " '5',\n",
       " '5',\n",
       " '5',\n",
       " '5',\n",
       " '5',\n",
       " '5',\n",
       " '5',\n",
       " '4',\n",
       " '5',\n",
       " '5']"
      ]
     },
     "execution_count": 86,
     "metadata": {},
     "output_type": "execute_result"
    }
   ],
   "source": [
    "for i in rating_tags :\n",
    "    ratings=i.text\n",
    "    rating.append(ratings)\n",
    "rating[0:100]"
   ]
  },
  {
   "cell_type": "code",
   "execution_count": 88,
   "id": "9adde9aa",
   "metadata": {},
   "outputs": [
    {
     "data": {
      "text/plain": [
       "[<selenium.webdriver.remote.webelement.WebElement (session=\"dfd1873bfbf013ed51763eb731ba43d2\", element=\"93a74675-ac18-4bc4-8b36-c8dfff400727\")>,\n",
       " <selenium.webdriver.remote.webelement.WebElement (session=\"dfd1873bfbf013ed51763eb731ba43d2\", element=\"e8d3c794-e526-4d3d-ae36-2725ca09f5b8\")>,\n",
       " <selenium.webdriver.remote.webelement.WebElement (session=\"dfd1873bfbf013ed51763eb731ba43d2\", element=\"7a45e04d-362a-46ed-b11c-e4c607f178e9\")>,\n",
       " <selenium.webdriver.remote.webelement.WebElement (session=\"dfd1873bfbf013ed51763eb731ba43d2\", element=\"9d244e79-4d9c-4e1d-8645-b4de5d59bfd2\")>,\n",
       " <selenium.webdriver.remote.webelement.WebElement (session=\"dfd1873bfbf013ed51763eb731ba43d2\", element=\"88cce644-3c04-4b04-83f3-0af3be1e8160\")>,\n",
       " <selenium.webdriver.remote.webelement.WebElement (session=\"dfd1873bfbf013ed51763eb731ba43d2\", element=\"7d2f1620-f781-49da-a14f-c3c75850df0a\")>,\n",
       " <selenium.webdriver.remote.webelement.WebElement (session=\"dfd1873bfbf013ed51763eb731ba43d2\", element=\"e5de0da2-079b-4820-be77-2b7cc95729b6\")>,\n",
       " <selenium.webdriver.remote.webelement.WebElement (session=\"dfd1873bfbf013ed51763eb731ba43d2\", element=\"a15b5632-10a2-412d-84e1-1a179a15d472\")>,\n",
       " <selenium.webdriver.remote.webelement.WebElement (session=\"dfd1873bfbf013ed51763eb731ba43d2\", element=\"46497d8c-0ce6-4aeb-9298-fb2a84462681\")>,\n",
       " <selenium.webdriver.remote.webelement.WebElement (session=\"dfd1873bfbf013ed51763eb731ba43d2\", element=\"4b057488-9a7b-4302-a2dd-85476f140146\")>]"
      ]
     },
     "execution_count": 88,
     "metadata": {},
     "output_type": "execute_result"
    }
   ],
   "source": [
    "review_tags=driver.find_elements_by_xpath(\"//p[@class='_2-N8zT']\")\n",
    "review_tags[0:100]"
   ]
  },
  {
   "cell_type": "code",
   "execution_count": 38,
   "id": "386e165c",
   "metadata": {},
   "outputs": [
    {
     "data": {
      "text/plain": [
       "['Brilliant',\n",
       " 'Simply awesome',\n",
       " 'Best in the market!',\n",
       " 'Perfect product!',\n",
       " 'Fabulous!',\n",
       " 'Worth every penny',\n",
       " 'Great product',\n",
       " 'Good choice',\n",
       " 'Worth every penny',\n",
       " 'Highly recommended']"
      ]
     },
     "execution_count": 38,
     "metadata": {},
     "output_type": "execute_result"
    }
   ],
   "source": [
    "for i in review_tags :\n",
    "    reviews=i.text\n",
    "    review_summary.append(reviews)\n",
    "review_summary"
   ]
  },
  {
   "cell_type": "code",
   "execution_count": 36,
   "id": "610dc0de",
   "metadata": {},
   "outputs": [
    {
     "data": {
      "text/plain": [
       "[<selenium.webdriver.remote.webelement.WebElement (session=\"7ee4537f9eb6bdeca9c6b16b7cf9b537\", element=\"1b9bc9a2-9335-4f83-8932-0e4b349742bb\")>,\n",
       " <selenium.webdriver.remote.webelement.WebElement (session=\"7ee4537f9eb6bdeca9c6b16b7cf9b537\", element=\"434a6fec-39cd-457d-b564-ceecc27126e8\")>,\n",
       " <selenium.webdriver.remote.webelement.WebElement (session=\"7ee4537f9eb6bdeca9c6b16b7cf9b537\", element=\"4a5554d3-78fb-40b1-bb2c-4279c00ee638\")>,\n",
       " <selenium.webdriver.remote.webelement.WebElement (session=\"7ee4537f9eb6bdeca9c6b16b7cf9b537\", element=\"d63bf720-6584-4944-acaf-2f31cb85c6ea\")>,\n",
       " <selenium.webdriver.remote.webelement.WebElement (session=\"7ee4537f9eb6bdeca9c6b16b7cf9b537\", element=\"70b28207-c146-462e-86f9-7bc5e62f8382\")>,\n",
       " <selenium.webdriver.remote.webelement.WebElement (session=\"7ee4537f9eb6bdeca9c6b16b7cf9b537\", element=\"6ff794ab-6b23-477c-ad45-f9df0ab915b4\")>,\n",
       " <selenium.webdriver.remote.webelement.WebElement (session=\"7ee4537f9eb6bdeca9c6b16b7cf9b537\", element=\"4dad986c-7677-4681-a64e-a57f645d18d7\")>,\n",
       " <selenium.webdriver.remote.webelement.WebElement (session=\"7ee4537f9eb6bdeca9c6b16b7cf9b537\", element=\"dd4ecc88-781e-4680-92ca-035ba22d7dc7\")>,\n",
       " <selenium.webdriver.remote.webelement.WebElement (session=\"7ee4537f9eb6bdeca9c6b16b7cf9b537\", element=\"6cc8fa9a-cf3a-43fc-80b0-6e4f30ee95f6\")>,\n",
       " <selenium.webdriver.remote.webelement.WebElement (session=\"7ee4537f9eb6bdeca9c6b16b7cf9b537\", element=\"7c3a28b1-a41f-451e-89c1-28be39f6d2dc\")>]"
      ]
     },
     "execution_count": 36,
     "metadata": {},
     "output_type": "execute_result"
    }
   ],
   "source": [
    "full_stags=driver.find_elements_by_xpath(\"//div[@class='t-ZTKy']\")\n",
    "full_stags"
   ]
  },
  {
   "cell_type": "code",
   "execution_count": 70,
   "id": "2ab48a32",
   "metadata": {},
   "outputs": [
    {
     "ename": "NameError",
     "evalue": "name 'full_stags' is not defined",
     "output_type": "error",
     "traceback": [
      "\u001b[1;31m---------------------------------------------------------------------------\u001b[0m",
      "\u001b[1;31mNameError\u001b[0m                                 Traceback (most recent call last)",
      "\u001b[1;32m<ipython-input-70-037d9cf9990b>\u001b[0m in \u001b[0;36m<module>\u001b[1;34m\u001b[0m\n\u001b[1;32m----> 1\u001b[1;33m \u001b[1;32mfor\u001b[0m \u001b[0mi\u001b[0m \u001b[1;32min\u001b[0m \u001b[0mfull_stags\u001b[0m \u001b[1;33m:\u001b[0m\u001b[1;33m\u001b[0m\u001b[1;33m\u001b[0m\u001b[0m\n\u001b[0m\u001b[0;32m      2\u001b[0m     \u001b[0mreview\u001b[0m\u001b[1;33m=\u001b[0m\u001b[0mi\u001b[0m\u001b[1;33m.\u001b[0m\u001b[0mtext\u001b[0m\u001b[1;33m\u001b[0m\u001b[1;33m\u001b[0m\u001b[0m\n\u001b[0;32m      3\u001b[0m     \u001b[0mfull_review\u001b[0m\u001b[1;33m.\u001b[0m\u001b[0mappend\u001b[0m\u001b[1;33m(\u001b[0m\u001b[0mreview\u001b[0m\u001b[1;33m)\u001b[0m\u001b[1;33m\u001b[0m\u001b[1;33m\u001b[0m\u001b[0m\n\u001b[0;32m      4\u001b[0m \u001b[0mfull_review\u001b[0m\u001b[1;33m\u001b[0m\u001b[1;33m\u001b[0m\u001b[0m\n",
      "\u001b[1;31mNameError\u001b[0m: name 'full_stags' is not defined"
     ]
    }
   ],
   "source": [
    "for i in full_stags :\n",
    "    review=i.text\n",
    "    full_review.append(review)\n",
    "full_review"
   ]
  },
  {
   "cell_type": "code",
   "execution_count": 39,
   "id": "6b87e932",
   "metadata": {},
   "outputs": [
    {
     "data": {
      "text/plain": [
       "10"
      ]
     },
     "execution_count": 39,
     "metadata": {},
     "output_type": "execute_result"
    }
   ],
   "source": [
    "len(review_summary)"
   ]
  },
  {
   "cell_type": "code",
   "execution_count": 40,
   "id": "baabda38",
   "metadata": {},
   "outputs": [],
   "source": [
    "table=pd.DataFrame({'Rating':rating,'Review Summary':review_summary,'Full Review':full_review})"
   ]
  },
  {
   "cell_type": "code",
   "execution_count": 41,
   "id": "4781b599",
   "metadata": {},
   "outputs": [
    {
     "data": {
      "text/html": [
       "<div>\n",
       "<style scoped>\n",
       "    .dataframe tbody tr th:only-of-type {\n",
       "        vertical-align: middle;\n",
       "    }\n",
       "\n",
       "    .dataframe tbody tr th {\n",
       "        vertical-align: top;\n",
       "    }\n",
       "\n",
       "    .dataframe thead th {\n",
       "        text-align: right;\n",
       "    }\n",
       "</style>\n",
       "<table border=\"1\" class=\"dataframe\">\n",
       "  <thead>\n",
       "    <tr style=\"text-align: right;\">\n",
       "      <th></th>\n",
       "      <th>Rating</th>\n",
       "      <th>Review Summary</th>\n",
       "      <th>Full Review</th>\n",
       "    </tr>\n",
       "  </thead>\n",
       "  <tbody>\n",
       "    <tr>\n",
       "      <th>0</th>\n",
       "      <td>5</td>\n",
       "      <td>Brilliant</td>\n",
       "      <td>The Best Phone for the Money\\n\\nThe iPhone 11 ...</td>\n",
       "    </tr>\n",
       "    <tr>\n",
       "      <th>1</th>\n",
       "      <td>5</td>\n",
       "      <td>Simply awesome</td>\n",
       "      <td>Really satisfied with the Product I received.....</td>\n",
       "    </tr>\n",
       "    <tr>\n",
       "      <th>2</th>\n",
       "      <td>5</td>\n",
       "      <td>Best in the market!</td>\n",
       "      <td>Great iPhone very snappy experience as apple k...</td>\n",
       "    </tr>\n",
       "    <tr>\n",
       "      <th>3</th>\n",
       "      <td>5</td>\n",
       "      <td>Perfect product!</td>\n",
       "      <td>Amazing phone with great cameras and better ba...</td>\n",
       "    </tr>\n",
       "    <tr>\n",
       "      <th>4</th>\n",
       "      <td>5</td>\n",
       "      <td>Fabulous!</td>\n",
       "      <td>This is my first iOS phone. I am very happy wi...</td>\n",
       "    </tr>\n",
       "    <tr>\n",
       "      <th>5</th>\n",
       "      <td>5</td>\n",
       "      <td>Worth every penny</td>\n",
       "      <td>Previously I was using one plus 3t it was a gr...</td>\n",
       "    </tr>\n",
       "    <tr>\n",
       "      <th>6</th>\n",
       "      <td>5</td>\n",
       "      <td>Great product</td>\n",
       "      <td>Amazing Powerful and Durable Gadget.\\n\\nI’m am...</td>\n",
       "    </tr>\n",
       "    <tr>\n",
       "      <th>7</th>\n",
       "      <td>4</td>\n",
       "      <td>Good choice</td>\n",
       "      <td>So far it’s been an AMAZING experience coming ...</td>\n",
       "    </tr>\n",
       "    <tr>\n",
       "      <th>8</th>\n",
       "      <td>5</td>\n",
       "      <td>Worth every penny</td>\n",
       "      <td>i11 is worthy to buy, too much happy with the ...</td>\n",
       "    </tr>\n",
       "    <tr>\n",
       "      <th>9</th>\n",
       "      <td>5</td>\n",
       "      <td>Highly recommended</td>\n",
       "      <td>What a camera .....just awesome ..you can feel...</td>\n",
       "    </tr>\n",
       "  </tbody>\n",
       "</table>\n",
       "</div>"
      ],
      "text/plain": [
       "  Rating       Review Summary  \\\n",
       "0      5            Brilliant   \n",
       "1      5       Simply awesome   \n",
       "2      5  Best in the market!   \n",
       "3      5     Perfect product!   \n",
       "4      5            Fabulous!   \n",
       "5      5    Worth every penny   \n",
       "6      5        Great product   \n",
       "7      4          Good choice   \n",
       "8      5    Worth every penny   \n",
       "9      5   Highly recommended   \n",
       "\n",
       "                                         Full Review  \n",
       "0  The Best Phone for the Money\\n\\nThe iPhone 11 ...  \n",
       "1  Really satisfied with the Product I received.....  \n",
       "2  Great iPhone very snappy experience as apple k...  \n",
       "3  Amazing phone with great cameras and better ba...  \n",
       "4  This is my first iOS phone. I am very happy wi...  \n",
       "5  Previously I was using one plus 3t it was a gr...  \n",
       "6  Amazing Powerful and Durable Gadget.\\n\\nI’m am...  \n",
       "7  So far it’s been an AMAZING experience coming ...  \n",
       "8  i11 is worthy to buy, too much happy with the ...  \n",
       "9  What a camera .....just awesome ..you can feel...  "
      ]
     },
     "execution_count": 41,
     "metadata": {},
     "output_type": "execute_result"
    }
   ],
   "source": [
    "table"
   ]
  },
  {
   "cell_type": "markdown",
   "id": "d359c14a",
   "metadata": {},
   "source": [
    "# Q6: Scrape data for first 100 sneakers you find when you visit flipkart.com and search for sneakers in the search field"
   ]
  },
  {
   "cell_type": "code",
   "execution_count": 42,
   "id": "bf02c4a4",
   "metadata": {},
   "outputs": [],
   "source": [
    "driver=webdriver.Chrome(\"chromedriver.exe\")\n",
    "time.sleep(2)"
   ]
  },
  {
   "cell_type": "code",
   "execution_count": 47,
   "id": "996ff6bf",
   "metadata": {},
   "outputs": [],
   "source": [
    "driver.get(\"https://www.flipkart.com\")"
   ]
  },
  {
   "cell_type": "code",
   "execution_count": 48,
   "id": "4c160593",
   "metadata": {},
   "outputs": [],
   "source": [
    "search_field_designation=driver.find_element_by_class_name(\"_3704LK\") \n",
    "search_field_designation.send_keys(\"\")"
   ]
  },
  {
   "cell_type": "code",
   "execution_count": 51,
   "id": "0b2e1105",
   "metadata": {},
   "outputs": [],
   "source": [
    "search_button=driver.find_element_by_xpath(\"/html/body/div[1]/div/div[1]/div[1]/div[2]/div[2]/form/div/button\")\n",
    "search_button.click()"
   ]
  },
  {
   "cell_type": "code",
   "execution_count": 52,
   "id": "d60b9437",
   "metadata": {},
   "outputs": [],
   "source": [
    "driver.get(\"https://www.flipkart.com/search?q=sneakers&otracker=search&otracker1=search&marketplace=FLIPKART&as-show=on&as=off/page/1/\")"
   ]
  },
  {
   "cell_type": "code",
   "execution_count": 64,
   "id": "afd659df",
   "metadata": {},
   "outputs": [],
   "source": [
    "brand=[]\n",
    "description=[]\n",
    "price=[]"
   ]
  },
  {
   "cell_type": "code",
   "execution_count": 85,
   "id": "d2572a2c",
   "metadata": {},
   "outputs": [
    {
     "data": {
      "text/plain": [
       "[<selenium.webdriver.remote.webelement.WebElement (session=\"60e7644f5a82e21b2076e95b7346778a\", element=\"f5dc77cc-ac7f-4e39-b911-24ee82acd24e\")>,\n",
       " <selenium.webdriver.remote.webelement.WebElement (session=\"60e7644f5a82e21b2076e95b7346778a\", element=\"b34d1f2b-72c6-473f-b70b-ff00ab794c26\")>,\n",
       " <selenium.webdriver.remote.webelement.WebElement (session=\"60e7644f5a82e21b2076e95b7346778a\", element=\"19de3a49-7d88-4fdd-9ff0-b06b29b6fa1f\")>,\n",
       " <selenium.webdriver.remote.webelement.WebElement (session=\"60e7644f5a82e21b2076e95b7346778a\", element=\"48c659dc-07a6-4b8a-9b94-cb18ee68fc52\")>,\n",
       " <selenium.webdriver.remote.webelement.WebElement (session=\"60e7644f5a82e21b2076e95b7346778a\", element=\"2e3f04ab-8b4d-4e8b-acc9-603520f7abf9\")>,\n",
       " <selenium.webdriver.remote.webelement.WebElement (session=\"60e7644f5a82e21b2076e95b7346778a\", element=\"84204b66-6f05-4576-80d3-aabdc86af19a\")>,\n",
       " <selenium.webdriver.remote.webelement.WebElement (session=\"60e7644f5a82e21b2076e95b7346778a\", element=\"ee0eed4c-c7a4-4b93-9dbf-1056685acd9b\")>,\n",
       " <selenium.webdriver.remote.webelement.WebElement (session=\"60e7644f5a82e21b2076e95b7346778a\", element=\"c606a7bd-2aeb-4d50-b965-0ed85beb620b\")>,\n",
       " <selenium.webdriver.remote.webelement.WebElement (session=\"60e7644f5a82e21b2076e95b7346778a\", element=\"6f75a264-eb1a-42f7-a953-8c62d088c7ce\")>,\n",
       " <selenium.webdriver.remote.webelement.WebElement (session=\"60e7644f5a82e21b2076e95b7346778a\", element=\"7aab4be3-68d4-4b9e-9315-0c9fdc8df27c\")>]"
      ]
     },
     "execution_count": 85,
     "metadata": {},
     "output_type": "execute_result"
    }
   ],
   "source": [
    "brand_tags=driver.find_elements_by_xpath(\"//div[@class='_2WkVRV']\")\n",
    "brand_tags[0:10]"
   ]
  },
  {
   "cell_type": "code",
   "execution_count": 87,
   "id": "aa731702",
   "metadata": {},
   "outputs": [
    {
     "data": {
      "text/plain": [
       "['ADIDAS',\n",
       " 'ADIDAS',\n",
       " 'URBANBOX',\n",
       " 'corsac',\n",
       " 'D-SNEAKERZ',\n",
       " 'Chevit',\n",
       " 'aadi',\n",
       " 'Brothers Gift',\n",
       " 'World Wear Footwear',\n",
       " 'BRUTON']"
      ]
     },
     "execution_count": 87,
     "metadata": {},
     "output_type": "execute_result"
    }
   ],
   "source": [
    "for i in brand_tags:\n",
    "    brands=i.text\n",
    "    brand.append(brands)\n",
    "    \n",
    "brand[0:10]   "
   ]
  },
  {
   "cell_type": "code",
   "execution_count": 88,
   "id": "b5e58209",
   "metadata": {},
   "outputs": [
    {
     "data": {
      "text/plain": [
       "[<selenium.webdriver.remote.webelement.WebElement (session=\"60e7644f5a82e21b2076e95b7346778a\", element=\"691998bf-107f-48bc-a481-a47747218085\")>,\n",
       " <selenium.webdriver.remote.webelement.WebElement (session=\"60e7644f5a82e21b2076e95b7346778a\", element=\"c8bfa2a9-63f6-4bdd-8588-6f35e3612b0f\")>,\n",
       " <selenium.webdriver.remote.webelement.WebElement (session=\"60e7644f5a82e21b2076e95b7346778a\", element=\"0851c57c-5990-4e92-a227-c5a72d08a0d9\")>,\n",
       " <selenium.webdriver.remote.webelement.WebElement (session=\"60e7644f5a82e21b2076e95b7346778a\", element=\"3c1c582c-c87a-4c96-bded-b229d1fc9b24\")>,\n",
       " <selenium.webdriver.remote.webelement.WebElement (session=\"60e7644f5a82e21b2076e95b7346778a\", element=\"53f84ba7-5d2c-43b0-95fc-aa87fbe7b3e4\")>,\n",
       " <selenium.webdriver.remote.webelement.WebElement (session=\"60e7644f5a82e21b2076e95b7346778a\", element=\"39362364-f271-4fc2-a8a8-4e79749e3c00\")>,\n",
       " <selenium.webdriver.remote.webelement.WebElement (session=\"60e7644f5a82e21b2076e95b7346778a\", element=\"9a9dd14c-1a82-42e9-8008-5ca445b0b7f0\")>,\n",
       " <selenium.webdriver.remote.webelement.WebElement (session=\"60e7644f5a82e21b2076e95b7346778a\", element=\"5636a050-be15-42cd-bae7-58102415dd8c\")>,\n",
       " <selenium.webdriver.remote.webelement.WebElement (session=\"60e7644f5a82e21b2076e95b7346778a\", element=\"c02bd7c2-6c26-4062-a15c-f0b7250845f2\")>,\n",
       " <selenium.webdriver.remote.webelement.WebElement (session=\"60e7644f5a82e21b2076e95b7346778a\", element=\"cac7b9ab-4d14-408d-a0ba-7054aec17b4d\")>]"
      ]
     },
     "execution_count": 88,
     "metadata": {},
     "output_type": "execute_result"
    }
   ],
   "source": [
    "description_tags= driver.find_elements_by_xpath(\"//a[@class='IRpwTa']\")\n",
    "description_tags[0:10]"
   ]
  },
  {
   "cell_type": "code",
   "execution_count": 89,
   "id": "688862f3",
   "metadata": {},
   "outputs": [
    {
     "data": {
      "text/plain": [
       "['Easy Vulc 2.0 Sneakers For Men',\n",
       " 'Advantage Base Sneakers For Men',\n",
       " 'STYLISH MENS BLACK SNEAKER Sneakers For Men',\n",
       " \"Casual , Partywear Sneakers Shoes For Men's And Boys Wh...\",\n",
       " '516 Trendy Star Perfect Sneakers For Men',\n",
       " 'Sneakers For Men',\n",
       " '5011-Latest Collection Stylish & Trendy Casual Sneakers...',\n",
       " 'Modern Trendy Sneakers Shoes Sneakers For Men',\n",
       " 'Sneakers For Men',\n",
       " 'Kwik FIT casual sneaker shoes and partywear shoes Casua...']"
      ]
     },
     "execution_count": 89,
     "metadata": {},
     "output_type": "execute_result"
    }
   ],
   "source": [
    "for i in description_tags:\n",
    "    descript=i.text\n",
    "    description.append(descript)\n",
    "    \n",
    "description[0:10]    "
   ]
  },
  {
   "cell_type": "code",
   "execution_count": 90,
   "id": "09b7024b",
   "metadata": {},
   "outputs": [
    {
     "data": {
      "text/plain": [
       "105"
      ]
     },
     "execution_count": 90,
     "metadata": {},
     "output_type": "execute_result"
    }
   ],
   "source": [
    "len(description)"
   ]
  },
  {
   "cell_type": "code",
   "execution_count": 91,
   "id": "c95d563c",
   "metadata": {},
   "outputs": [
    {
     "data": {
      "text/plain": [
       "[<selenium.webdriver.remote.webelement.WebElement (session=\"60e7644f5a82e21b2076e95b7346778a\", element=\"aee7d831-0f0b-4fab-b947-831cc80f8d3f\")>,\n",
       " <selenium.webdriver.remote.webelement.WebElement (session=\"60e7644f5a82e21b2076e95b7346778a\", element=\"ca1fb0de-0765-40ef-83f9-8889418c5987\")>,\n",
       " <selenium.webdriver.remote.webelement.WebElement (session=\"60e7644f5a82e21b2076e95b7346778a\", element=\"f201b2d2-ae6b-4be7-b85d-d17e8759fc11\")>,\n",
       " <selenium.webdriver.remote.webelement.WebElement (session=\"60e7644f5a82e21b2076e95b7346778a\", element=\"f4b95d05-1b73-4087-b683-f6b6545b10e3\")>,\n",
       " <selenium.webdriver.remote.webelement.WebElement (session=\"60e7644f5a82e21b2076e95b7346778a\", element=\"ab25d61e-dd5f-48a5-9d4b-7d9da3665096\")>,\n",
       " <selenium.webdriver.remote.webelement.WebElement (session=\"60e7644f5a82e21b2076e95b7346778a\", element=\"7e4ae4b5-3ea5-40b5-ae4e-654f021ea5cb\")>,\n",
       " <selenium.webdriver.remote.webelement.WebElement (session=\"60e7644f5a82e21b2076e95b7346778a\", element=\"26cf2501-b641-4d9c-bec8-2b3116392aa9\")>,\n",
       " <selenium.webdriver.remote.webelement.WebElement (session=\"60e7644f5a82e21b2076e95b7346778a\", element=\"c493b000-d890-43a6-b65d-c895ead9fdeb\")>,\n",
       " <selenium.webdriver.remote.webelement.WebElement (session=\"60e7644f5a82e21b2076e95b7346778a\", element=\"64a7054c-301c-485f-8aca-9675faf4a6dc\")>,\n",
       " <selenium.webdriver.remote.webelement.WebElement (session=\"60e7644f5a82e21b2076e95b7346778a\", element=\"e03c13d0-7bf7-48d7-a57a-a481c81e54c6\")>]"
      ]
     },
     "execution_count": 91,
     "metadata": {},
     "output_type": "execute_result"
    }
   ],
   "source": [
    "price_tags=driver.find_elements_by_xpath(\"//div[@class='_30jeq3']\")\n",
    "price_tags[0:10]"
   ]
  },
  {
   "cell_type": "code",
   "execution_count": 92,
   "id": "8415788d",
   "metadata": {},
   "outputs": [
    {
     "data": {
      "text/plain": [
       "['₹1,612',\n",
       " '₹2,936',\n",
       " '₹158',\n",
       " '₹449',\n",
       " '₹249',\n",
       " '₹249',\n",
       " '₹269',\n",
       " '₹449',\n",
       " '₹199',\n",
       " '₹249']"
      ]
     },
     "execution_count": 92,
     "metadata": {},
     "output_type": "execute_result"
    }
   ],
   "source": [
    "for i in price_tags:\n",
    "    prices=i.text\n",
    "    price.append(prices)\n",
    "    \n",
    "price[0:10]    "
   ]
  },
  {
   "cell_type": "markdown",
   "id": "a3c8dca3",
   "metadata": {},
   "source": [
    "# Q7: Myntra "
   ]
  },
  {
   "cell_type": "code",
   "execution_count": 100,
   "id": "d18ba5ba",
   "metadata": {},
   "outputs": [],
   "source": [
    "driver=webdriver.Chrome(\"chromedriver.exe\")\n",
    "time.sleep(2)"
   ]
  },
  {
   "cell_type": "code",
   "execution_count": 101,
   "id": "57cad94a",
   "metadata": {},
   "outputs": [],
   "source": [
    "driver.get(\"https://www.myntra.com/shoes\")"
   ]
  },
  {
   "cell_type": "code",
   "execution_count": 104,
   "id": "a10d6e30",
   "metadata": {},
   "outputs": [],
   "source": [
    "price_checkbox=driver.find_element_by_xpath(\"/html/body/div[2]/div/div[1]/main/div[3]/div[1]/section/div/div[5]/ul/li[2]/label/div\")\n",
    "price_checkbox.click()"
   ]
  },
  {
   "cell_type": "code",
   "execution_count": 105,
   "id": "b6bdb778",
   "metadata": {},
   "outputs": [],
   "source": [
    "colour_checkbox=driver.find_element_by_xpath(\"/html/body/div[2]/div/div[1]/main/div[3]/div[1]/section/div/div[6]/ul/li[1]/label/div\")\n",
    "colour_checkbox.click()"
   ]
  },
  {
   "cell_type": "code",
   "execution_count": 106,
   "id": "8d6bbeb5",
   "metadata": {},
   "outputs": [],
   "source": [
    "brand=[]\n",
    "description=[]\n",
    "price=[]"
   ]
  },
  {
   "cell_type": "code",
   "execution_count": 108,
   "id": "67b0c307",
   "metadata": {},
   "outputs": [
    {
     "data": {
      "text/plain": [
       "[<selenium.webdriver.remote.webelement.WebElement (session=\"02907ef86ec1c35b0c65675394ea9269\", element=\"12bf5412-582b-4031-92b7-332a3ea79cd1\")>,\n",
       " <selenium.webdriver.remote.webelement.WebElement (session=\"02907ef86ec1c35b0c65675394ea9269\", element=\"12fa60ee-43ed-42c6-9417-f97654423e34\")>,\n",
       " <selenium.webdriver.remote.webelement.WebElement (session=\"02907ef86ec1c35b0c65675394ea9269\", element=\"6b8a4780-ff4e-43fa-920b-18f3f0b266e0\")>,\n",
       " <selenium.webdriver.remote.webelement.WebElement (session=\"02907ef86ec1c35b0c65675394ea9269\", element=\"787df437-bb2e-4d5b-abd3-645607070d32\")>,\n",
       " <selenium.webdriver.remote.webelement.WebElement (session=\"02907ef86ec1c35b0c65675394ea9269\", element=\"d4254fc0-8616-454d-93bd-f42d462aa612\")>,\n",
       " <selenium.webdriver.remote.webelement.WebElement (session=\"02907ef86ec1c35b0c65675394ea9269\", element=\"038caa0a-8f3e-45e9-80ac-a40c6f3fc984\")>,\n",
       " <selenium.webdriver.remote.webelement.WebElement (session=\"02907ef86ec1c35b0c65675394ea9269\", element=\"58d6ce27-b7e3-4bd6-ab65-45237eb6ef59\")>,\n",
       " <selenium.webdriver.remote.webelement.WebElement (session=\"02907ef86ec1c35b0c65675394ea9269\", element=\"7dfae1a9-a9e4-4a47-bbe8-d0d0135f6379\")>,\n",
       " <selenium.webdriver.remote.webelement.WebElement (session=\"02907ef86ec1c35b0c65675394ea9269\", element=\"06c367b7-aab4-4413-89da-300e407a83a7\")>,\n",
       " <selenium.webdriver.remote.webelement.WebElement (session=\"02907ef86ec1c35b0c65675394ea9269\", element=\"1f5540eb-851e-49a5-97a6-d91d5d7b9ac3\")>]"
      ]
     },
     "execution_count": 108,
     "metadata": {},
     "output_type": "execute_result"
    }
   ],
   "source": [
    "brand_tags=driver.find_elements_by_xpath(\"//h3[@class='product-brand']\")\n",
    "brand_tags[0:10]"
   ]
  },
  {
   "cell_type": "code",
   "execution_count": 113,
   "id": "4245a94e",
   "metadata": {},
   "outputs": [
    {
     "data": {
      "text/plain": [
       "['Nike',\n",
       " 'Nike',\n",
       " 'ALDO',\n",
       " 'Skechers',\n",
       " 'Skechers',\n",
       " 'ADIDAS',\n",
       " 'ALDO',\n",
       " 'Hush Puppies',\n",
       " 'ALDO',\n",
       " 'Puma',\n",
       " 'one8 x PUMA',\n",
       " 'PUMA Motorsport',\n",
       " 'ALDO',\n",
       " 'Skechers',\n",
       " 'Puma',\n",
       " 'PUMA Motorsport',\n",
       " 'ADIDAS',\n",
       " 'Columbia',\n",
       " 'Reebok',\n",
       " 'Nike',\n",
       " 'Puma',\n",
       " 'Bugatti',\n",
       " 'ADIDAS',\n",
       " 'DAVINCHI',\n",
       " 'Clarks',\n",
       " 'Hush Puppies',\n",
       " 'Puma',\n",
       " 'Bugatti',\n",
       " 'PUMA Motorsport',\n",
       " 'Puma',\n",
       " 'Bugatti',\n",
       " 'Hush Puppies',\n",
       " 'Hush Puppies',\n",
       " 'Tommy Hilfiger',\n",
       " 'Tommy Hilfiger',\n",
       " 'Tommy Hilfiger',\n",
       " 'ADIDAS Originals',\n",
       " 'ADIDAS',\n",
       " 'PUMA Motorsport',\n",
       " 'PUMA Motorsport',\n",
       " 'PUMA Motorsport',\n",
       " 'PUMA Motorsport',\n",
       " 'Puma',\n",
       " 'DEL MONDO',\n",
       " 'Saint G',\n",
       " 'PUMA Hoops',\n",
       " 'FILA',\n",
       " 'Bugatti',\n",
       " 'DAVINCHI',\n",
       " 'ADIDAS',\n",
       " 'Nike',\n",
       " 'Nike',\n",
       " 'ALDO',\n",
       " 'Skechers',\n",
       " 'Skechers',\n",
       " 'ADIDAS',\n",
       " 'ALDO',\n",
       " 'Hush Puppies',\n",
       " 'ALDO',\n",
       " 'Puma',\n",
       " 'one8 x PUMA',\n",
       " 'PUMA Motorsport',\n",
       " 'ALDO',\n",
       " 'Skechers',\n",
       " 'Puma',\n",
       " 'PUMA Motorsport',\n",
       " 'ADIDAS',\n",
       " 'Columbia',\n",
       " 'Reebok',\n",
       " 'Nike',\n",
       " 'Puma',\n",
       " 'Bugatti',\n",
       " 'ADIDAS',\n",
       " 'DAVINCHI',\n",
       " 'Clarks',\n",
       " 'Hush Puppies',\n",
       " 'Puma',\n",
       " 'Bugatti',\n",
       " 'PUMA Motorsport',\n",
       " 'Puma',\n",
       " 'Bugatti',\n",
       " 'Hush Puppies',\n",
       " 'Hush Puppies',\n",
       " 'Tommy Hilfiger',\n",
       " 'Tommy Hilfiger',\n",
       " 'Tommy Hilfiger',\n",
       " 'ADIDAS Originals',\n",
       " 'ADIDAS',\n",
       " 'PUMA Motorsport',\n",
       " 'PUMA Motorsport',\n",
       " 'PUMA Motorsport',\n",
       " 'PUMA Motorsport',\n",
       " 'Puma',\n",
       " 'DEL MONDO',\n",
       " 'Saint G',\n",
       " 'PUMA Hoops',\n",
       " 'FILA',\n",
       " 'Bugatti',\n",
       " 'DAVINCHI',\n",
       " 'ADIDAS']"
      ]
     },
     "execution_count": 113,
     "metadata": {},
     "output_type": "execute_result"
    }
   ],
   "source": [
    "for i in brand_tags:\n",
    "    brands=i.text\n",
    "    brand.append(brands)\n",
    "    \n",
    "brand[0:100]  "
   ]
  },
  {
   "cell_type": "code",
   "execution_count": 116,
   "id": "b8461820",
   "metadata": {},
   "outputs": [
    {
     "data": {
      "text/plain": [
       "[<selenium.webdriver.remote.webelement.WebElement (session=\"02907ef86ec1c35b0c65675394ea9269\", element=\"a335fde2-f541-47dc-885c-2492d8ffdf13\")>,\n",
       " <selenium.webdriver.remote.webelement.WebElement (session=\"02907ef86ec1c35b0c65675394ea9269\", element=\"81249cbc-bf0c-43e2-9866-1efd767ef0ff\")>,\n",
       " <selenium.webdriver.remote.webelement.WebElement (session=\"02907ef86ec1c35b0c65675394ea9269\", element=\"a9be5bfc-4629-4834-8dbb-f050e5f1ab3c\")>,\n",
       " <selenium.webdriver.remote.webelement.WebElement (session=\"02907ef86ec1c35b0c65675394ea9269\", element=\"857705b6-af8e-4683-8a79-b099ef7fd243\")>,\n",
       " <selenium.webdriver.remote.webelement.WebElement (session=\"02907ef86ec1c35b0c65675394ea9269\", element=\"e71d4e71-b035-46d9-8cab-b15c12cd5900\")>,\n",
       " <selenium.webdriver.remote.webelement.WebElement (session=\"02907ef86ec1c35b0c65675394ea9269\", element=\"e58a45cd-59d7-443c-8c05-fccae77fc988\")>,\n",
       " <selenium.webdriver.remote.webelement.WebElement (session=\"02907ef86ec1c35b0c65675394ea9269\", element=\"bf1d4fff-552c-4c7f-9657-fe31a7503d6a\")>,\n",
       " <selenium.webdriver.remote.webelement.WebElement (session=\"02907ef86ec1c35b0c65675394ea9269\", element=\"a761bf02-e0c2-411a-8ae0-52d731f6ef23\")>,\n",
       " <selenium.webdriver.remote.webelement.WebElement (session=\"02907ef86ec1c35b0c65675394ea9269\", element=\"95108cb6-f2d0-4d6d-8083-7613044e48a6\")>,\n",
       " <selenium.webdriver.remote.webelement.WebElement (session=\"02907ef86ec1c35b0c65675394ea9269\", element=\"a3d6ac05-65ec-41a1-b95a-7d6c47ff5fa9\")>]"
      ]
     },
     "execution_count": 116,
     "metadata": {},
     "output_type": "execute_result"
    }
   ],
   "source": [
    "description_tags= driver.find_elements_by_xpath(\"//h4[@class='product-product']\")\n",
    "description_tags[0:10]"
   ]
  },
  {
   "cell_type": "code",
   "execution_count": 118,
   "id": "0b537d69",
   "metadata": {},
   "outputs": [
    {
     "data": {
      "text/plain": [
       "[\"AIRFORCE 1'07 LV8 EMB Sneakers\",\n",
       " \"AIR FORCE 1 '07 LV8 Sneakers\",\n",
       " 'Men Leather Driving Shoes',\n",
       " 'Men Max Cushioning Running',\n",
       " 'Men Walking Shoes',\n",
       " 'Men Dropset Training Shoes',\n",
       " 'Men Printed Sneakers',\n",
       " 'Men Solid Leather Formal Slip-Ons',\n",
       " 'Men Woven Design Sneakers',\n",
       " 'Electrify Nitro Running Shoes',\n",
       " 'Men Fuse One8 Training Shoes',\n",
       " 'Unisex Ferrari IONSpeed',\n",
       " 'Men Leather Loafers',\n",
       " 'Men Sky Vault Walking Shoes',\n",
       " 'Eternity Nitro Running Shoes',\n",
       " 'Ferrari X-Ray Speed Sneakers',\n",
       " 'Men Sl20.3 Running Shoes',\n",
       " 'Men FACET OUTDRY Trekking Shoe',\n",
       " 'Men Zig Dynamica 2.0 Running',\n",
       " 'Men Air Max Dawn Sneakers',\n",
       " 'Men Deviate Nitro Shoes',\n",
       " 'Men Solid Sneakers',\n",
       " 'Men Solar Glide 5 Running Shoe',\n",
       " 'Men Solid Leather Formal Loafers',\n",
       " 'Men Leather Derbys',\n",
       " 'Men Formal Derbys',\n",
       " 'Men Golf Shoes',\n",
       " 'Men Leather Driving Shoes',\n",
       " 'Unisex Ferrari Drift Cat Delta',\n",
       " 'Women Kosmo Rider DC5 Sneakers',\n",
       " 'Men Black Formal Derby Shoes',\n",
       " 'Men Solid Leather Formal Slip-Ons',\n",
       " 'Men Solid Formal Slip-Ons',\n",
       " 'Men Textured Loafers',\n",
       " 'Men Leather Sneakers',\n",
       " 'Men Flexi Sneakers',\n",
       " 'Men Solid Retropy F2 Sneakers',\n",
       " 'Women Supernova Running Shoes',\n",
       " 'Men ZenonSpeed Sneakers',\n",
       " 'Unisex Mercedes F1 R-Cat',\n",
       " 'Unisex Ferrari Neo Cat Sneaker',\n",
       " 'Ferrari R-Cat Machina Sneakers',\n",
       " 'Unisex KING Top FG Shoes',\n",
       " 'Men Leather Sneakers',\n",
       " 'Leather Block Sandals',\n",
       " 'Men Basketball Shoes',\n",
       " 'Men Printed Trekking Shoes',\n",
       " 'Men Leather Monks',\n",
       " 'Men Textured Formal Leather Loafers',\n",
       " 'Women KarlieKlossX9000 Running',\n",
       " \"AIRFORCE 1'07 LV8 EMB Sneakers\",\n",
       " \"AIR FORCE 1 '07 LV8 Sneakers\",\n",
       " 'Men Leather Driving Shoes',\n",
       " 'Men Max Cushioning Running',\n",
       " 'Men Walking Shoes',\n",
       " 'Men Dropset Training Shoes',\n",
       " 'Men Printed Sneakers',\n",
       " 'Men Solid Leather Formal Slip-Ons',\n",
       " 'Men Woven Design Sneakers',\n",
       " 'Electrify Nitro Running Shoes',\n",
       " 'Men Fuse One8 Training Shoes',\n",
       " 'Unisex Ferrari IONSpeed',\n",
       " 'Men Leather Loafers',\n",
       " 'Men Sky Vault Walking Shoes',\n",
       " 'Eternity Nitro Running Shoes',\n",
       " 'Ferrari X-Ray Speed Sneakers',\n",
       " 'Men Sl20.3 Running Shoes',\n",
       " 'Men FACET OUTDRY Trekking Shoe',\n",
       " 'Men Zig Dynamica 2.0 Running',\n",
       " 'Men Air Max Dawn Sneakers',\n",
       " 'Men Deviate Nitro Shoes',\n",
       " 'Men Solid Sneakers',\n",
       " 'Men Solar Glide 5 Running Shoe',\n",
       " 'Men Solid Leather Formal Loafers',\n",
       " 'Men Leather Derbys',\n",
       " 'Men Formal Derbys',\n",
       " 'Men Golf Shoes',\n",
       " 'Men Leather Driving Shoes',\n",
       " 'Unisex Ferrari Drift Cat Delta',\n",
       " 'Women Kosmo Rider DC5 Sneakers',\n",
       " 'Men Black Formal Derby Shoes',\n",
       " 'Men Solid Leather Formal Slip-Ons',\n",
       " 'Men Solid Formal Slip-Ons',\n",
       " 'Men Textured Loafers',\n",
       " 'Men Leather Sneakers',\n",
       " 'Men Flexi Sneakers',\n",
       " 'Men Solid Retropy F2 Sneakers',\n",
       " 'Women Supernova Running Shoes',\n",
       " 'Men ZenonSpeed Sneakers',\n",
       " 'Unisex Mercedes F1 R-Cat',\n",
       " 'Unisex Ferrari Neo Cat Sneaker',\n",
       " 'Ferrari R-Cat Machina Sneakers',\n",
       " 'Unisex KING Top FG Shoes',\n",
       " 'Men Leather Sneakers',\n",
       " 'Leather Block Sandals',\n",
       " 'Men Basketball Shoes',\n",
       " 'Men Printed Trekking Shoes',\n",
       " 'Men Leather Monks',\n",
       " 'Men Textured Formal Leather Loafers',\n",
       " 'Women KarlieKlossX9000 Running']"
      ]
     },
     "execution_count": 118,
     "metadata": {},
     "output_type": "execute_result"
    }
   ],
   "source": [
    "for i in description_tags:\n",
    "    descript=i.text\n",
    "    description.append(descript)\n",
    "    \n",
    "description[0:100]"
   ]
  },
  {
   "cell_type": "code",
   "execution_count": 119,
   "id": "0cdb843d",
   "metadata": {},
   "outputs": [
    {
     "data": {
      "text/plain": [
       "[<selenium.webdriver.remote.webelement.WebElement (session=\"02907ef86ec1c35b0c65675394ea9269\", element=\"1a72e816-3649-468c-bea8-56a7a8466f48\")>,\n",
       " <selenium.webdriver.remote.webelement.WebElement (session=\"02907ef86ec1c35b0c65675394ea9269\", element=\"d7a0cca9-9892-43c0-b209-812fb738380f\")>,\n",
       " <selenium.webdriver.remote.webelement.WebElement (session=\"02907ef86ec1c35b0c65675394ea9269\", element=\"6ddabde4-a17c-4b3c-bba8-be625ba6bafa\")>,\n",
       " <selenium.webdriver.remote.webelement.WebElement (session=\"02907ef86ec1c35b0c65675394ea9269\", element=\"fccb4344-d106-49fe-9581-b46efffaa0ce\")>,\n",
       " <selenium.webdriver.remote.webelement.WebElement (session=\"02907ef86ec1c35b0c65675394ea9269\", element=\"528b5380-a2a2-4acf-9fc6-955714c91a75\")>,\n",
       " <selenium.webdriver.remote.webelement.WebElement (session=\"02907ef86ec1c35b0c65675394ea9269\", element=\"c0b53866-e25c-49ca-b2d5-c0cb8f54e216\")>,\n",
       " <selenium.webdriver.remote.webelement.WebElement (session=\"02907ef86ec1c35b0c65675394ea9269\", element=\"0a67aff5-3c3a-4ab9-b807-504eae34fbc6\")>,\n",
       " <selenium.webdriver.remote.webelement.WebElement (session=\"02907ef86ec1c35b0c65675394ea9269\", element=\"a497afda-bcce-4b49-9d5b-1c215d963396\")>,\n",
       " <selenium.webdriver.remote.webelement.WebElement (session=\"02907ef86ec1c35b0c65675394ea9269\", element=\"0aa77249-fc13-4000-a195-0296324fd225\")>,\n",
       " <selenium.webdriver.remote.webelement.WebElement (session=\"02907ef86ec1c35b0c65675394ea9269\", element=\"77542be2-c076-4e81-8a34-29ce2f163be4\")>]"
      ]
     },
     "execution_count": 119,
     "metadata": {},
     "output_type": "execute_result"
    }
   ],
   "source": [
    "price_tags=driver.find_elements_by_xpath(\"//span[@class='product-discountedPrice']\")\n",
    "price_tags[0:10]"
   ]
  },
  {
   "cell_type": "code",
   "execution_count": 131,
   "id": "fed745a2",
   "metadata": {},
   "outputs": [
    {
     "data": {
      "text/plain": [
       "['Rs. 8725',\n",
       " 'Rs. 8725',\n",
       " 'Rs. 7649',\n",
       " 'Rs. 7649',\n",
       " 'Rs. 9099',\n",
       " 'Rs. 7649',\n",
       " 'Rs. 7199',\n",
       " 'Rs. 7436',\n",
       " 'Rs. 12749',\n",
       " 'Rs. 8499',\n",
       " 'Rs. 8499',\n",
       " 'Rs. 8499',\n",
       " 'Rs. 8099',\n",
       " 'Rs. 8999',\n",
       " 'Rs. 9810',\n",
       " 'Rs. 8725',\n",
       " 'Rs. 8725',\n",
       " 'Rs. 7649',\n",
       " 'Rs. 7649',\n",
       " 'Rs. 9099',\n",
       " 'Rs. 7649',\n",
       " 'Rs. 7199',\n",
       " 'Rs. 7436',\n",
       " 'Rs. 12749',\n",
       " 'Rs. 8499',\n",
       " 'Rs. 8499',\n",
       " 'Rs. 8499',\n",
       " 'Rs. 8099',\n",
       " 'Rs. 8999',\n",
       " 'Rs. 9810',\n",
       " 'Rs. 8725',\n",
       " 'Rs. 8725',\n",
       " 'Rs. 7649',\n",
       " 'Rs. 7649',\n",
       " 'Rs. 9099',\n",
       " 'Rs. 7649',\n",
       " 'Rs. 7199',\n",
       " 'Rs. 7436',\n",
       " 'Rs. 12749',\n",
       " 'Rs. 8499',\n",
       " 'Rs. 8499',\n",
       " 'Rs. 8499',\n",
       " 'Rs. 8099',\n",
       " 'Rs. 8999',\n",
       " 'Rs. 9810',\n",
       " 'Rs. 8725',\n",
       " 'Rs. 8725',\n",
       " 'Rs. 7649',\n",
       " 'Rs. 7649',\n",
       " 'Rs. 9099',\n",
       " 'Rs. 7649',\n",
       " 'Rs. 7199',\n",
       " 'Rs. 7436',\n",
       " 'Rs. 12749',\n",
       " 'Rs. 8499',\n",
       " 'Rs. 8499',\n",
       " 'Rs. 8499',\n",
       " 'Rs. 8099',\n",
       " 'Rs. 8999',\n",
       " 'Rs. 9810',\n",
       " 'Rs. 8725',\n",
       " 'Rs. 8725',\n",
       " 'Rs. 7649',\n",
       " 'Rs. 7649',\n",
       " 'Rs. 9099',\n",
       " 'Rs. 7649',\n",
       " 'Rs. 7199',\n",
       " 'Rs. 7436',\n",
       " 'Rs. 12749',\n",
       " 'Rs. 8499',\n",
       " 'Rs. 8499',\n",
       " 'Rs. 8499',\n",
       " 'Rs. 8099',\n",
       " 'Rs. 8999',\n",
       " 'Rs. 9810',\n",
       " 'Rs. 8725',\n",
       " 'Rs. 8725',\n",
       " 'Rs. 7649',\n",
       " 'Rs. 7649',\n",
       " 'Rs. 9099',\n",
       " 'Rs. 7649',\n",
       " 'Rs. 7199',\n",
       " 'Rs. 7436',\n",
       " 'Rs. 12749',\n",
       " 'Rs. 8499',\n",
       " 'Rs. 8499',\n",
       " 'Rs. 8499',\n",
       " 'Rs. 8099',\n",
       " 'Rs. 8999',\n",
       " 'Rs. 9810',\n",
       " 'Rs. 8725',\n",
       " 'Rs. 8725',\n",
       " 'Rs. 7649',\n",
       " 'Rs. 7649',\n",
       " 'Rs. 9099',\n",
       " 'Rs. 7649',\n",
       " 'Rs. 7199',\n",
       " 'Rs. 7436',\n",
       " 'Rs. 12749',\n",
       " 'Rs. 8499']"
      ]
     },
     "execution_count": 131,
     "metadata": {},
     "output_type": "execute_result"
    }
   ],
   "source": [
    "for i in price_tags:\n",
    "    prices=i.text\n",
    "    price.append(prices)\n",
    "    \n",
    "price[0:100] "
   ]
  },
  {
   "cell_type": "markdown",
   "id": "3ba5a423",
   "metadata": {},
   "source": [
    "# Q8: Amazon Laptop"
   ]
  },
  {
   "cell_type": "code",
   "execution_count": 168,
   "id": "6a2a5a7b",
   "metadata": {},
   "outputs": [],
   "source": [
    "driver=webdriver.Chrome(\"chromedriver.exe\")\n",
    "time.sleep(2)"
   ]
  },
  {
   "cell_type": "code",
   "execution_count": 169,
   "id": "6aea6d78",
   "metadata": {},
   "outputs": [],
   "source": [
    "driver.get(\"https://www.amazon.com\")"
   ]
  },
  {
   "cell_type": "code",
   "execution_count": 170,
   "id": "7af5d887",
   "metadata": {},
   "outputs": [],
   "source": [
    "search_field_designation=driver.find_element_by_xpath(\"/html/body/div[1]/header/div/div[1]/div[2]/div/form/div[2]/div[1]/input\") \n",
    "search_field_designation.send_keys(\"laptop\")"
   ]
  },
  {
   "cell_type": "code",
   "execution_count": 171,
   "id": "ab63225d",
   "metadata": {},
   "outputs": [],
   "source": [
    "search_button=driver.find_element_by_xpath(\"/html/body/div[1]/header/div/div[1]/div[2]/div/form/div[3]/div\")\n",
    "search_button.click()"
   ]
  },
  {
   "cell_type": "code",
   "execution_count": 172,
   "id": "f6297282",
   "metadata": {},
   "outputs": [],
   "source": [
    "inteli7_checkbox=driver.find_element_by_xpath(\"/html/body/div[1]/div[2]/div[1]/div[2]/div/div[3]/span/div[1]/div/div/div[6]/ul[6]/li[6]/span/div/div/ul/li[14]/span/a/div/label/i\")\n",
    "inteli7_checkbox.click()\n",
    "\n"
   ]
  },
  {
   "cell_type": "code",
   "execution_count": 173,
   "id": "a6b0f716",
   "metadata": {},
   "outputs": [],
   "source": [
    "title=[]\n",
    "rating=[]\n",
    "price=[]"
   ]
  },
  {
   "cell_type": "code",
   "execution_count": 174,
   "id": "0caa1949",
   "metadata": {},
   "outputs": [
    {
     "data": {
      "text/plain": [
       "[<selenium.webdriver.remote.webelement.WebElement (session=\"5c00680777841bc559c41c24c3937535\", element=\"6cf6dc66-98a9-40d9-9a70-d96ff9f407e1\")>,\n",
       " <selenium.webdriver.remote.webelement.WebElement (session=\"5c00680777841bc559c41c24c3937535\", element=\"6cf00b51-2c0d-4837-b5d3-bb9faa8cf1aa\")>,\n",
       " <selenium.webdriver.remote.webelement.WebElement (session=\"5c00680777841bc559c41c24c3937535\", element=\"33ed93ab-5f2b-4511-87f8-e8044b6addec\")>,\n",
       " <selenium.webdriver.remote.webelement.WebElement (session=\"5c00680777841bc559c41c24c3937535\", element=\"3cf718f1-855b-46da-86d6-8df5177f2bec\")>,\n",
       " <selenium.webdriver.remote.webelement.WebElement (session=\"5c00680777841bc559c41c24c3937535\", element=\"aa4a6889-5c59-4c0f-802a-0e83febeac91\")>,\n",
       " <selenium.webdriver.remote.webelement.WebElement (session=\"5c00680777841bc559c41c24c3937535\", element=\"ff41c3c7-e9c1-4f92-bee5-f18704f90035\")>,\n",
       " <selenium.webdriver.remote.webelement.WebElement (session=\"5c00680777841bc559c41c24c3937535\", element=\"57ec1760-0465-4437-bf1b-071bcd49bbfe\")>,\n",
       " <selenium.webdriver.remote.webelement.WebElement (session=\"5c00680777841bc559c41c24c3937535\", element=\"09f2d866-76ff-446b-9930-819433cfcafd\")>,\n",
       " <selenium.webdriver.remote.webelement.WebElement (session=\"5c00680777841bc559c41c24c3937535\", element=\"d07a89af-fd7d-4365-b016-71c4e5acaf48\")>,\n",
       " <selenium.webdriver.remote.webelement.WebElement (session=\"5c00680777841bc559c41c24c3937535\", element=\"e01d92f8-ae25-4b5d-9d67-8fc9240dc330\")>]"
      ]
     },
     "execution_count": 174,
     "metadata": {},
     "output_type": "execute_result"
    }
   ],
   "source": [
    "title_tags=driver.find_elements_by_xpath(\"//span[@class='a-size-medium a-color-base a-text-normal']\")\n",
    "title_tags[0:10]"
   ]
  },
  {
   "cell_type": "code",
   "execution_count": 178,
   "id": "ccba6f4e",
   "metadata": {},
   "outputs": [
    {
     "data": {
      "text/plain": [
       "['HP Pavilion Business 15.6 FHD Touch IPS Micro-Edge Laptop, 11th Gen Intel Quad-core i7-1195G7, GeForce MX350 2GB Dedicated, Backlit Keyboard, Silver (16G RAM | 1TB PCIE SSD, Windows 11 Professional)',\n",
       " 'Newest ASUS Vivobook Laptop, 15.6\" Full HD Touchscreen, Intel Core i7-1065G7 Processor, 20GB RAM, 512GB PCIe NVMe SSD+1TB HDD, Backlit Keyboard, Wi-Fi, Webcam, HDMI, Windows 10 Home, 32GB ES USB',\n",
       " 'Acer Predator Helios 300 PH315-54-760S Gaming Laptop | Intel i7-11800H | NVIDIA GeForce RTX 3060 Laptop GPU | 15.6\" Full HD 144Hz 3ms IPS Display | 16GB DDR4 | 512GB SSD | Killer WiFi 6 | RGB Keyboard',\n",
       " 'Acer Nitro 5 AN517-54-79L1 Gaming Laptop | Intel Core i7-11800H | NVIDIA GeForce RTX 3050Ti Laptop GPU | 17.3\" FHD 144Hz IPS Display | 16GB DDR4 | 1TB NVMe SSD | Killer Wi-Fi 6 | Backlit KB | Win 11',\n",
       " 'MSI Stealth 15M Gaming Laptop: 15.6\" 144Hz FHD 1080p Display, Intel Core i7-11375H, NVIDIA GeForce RTX 3060, 16GB, 512GB SSD, Thunderbolt 4, WiFi 6, Win10, Carbon Gray (A11UEK-009)',\n",
       " 'ASUS TUF Dash 15 (2021) Ultra Slim Gaming Laptop, 15.6” 144Hz FHD, GeForce RTX 3050 Ti, Intel Core i7-11370H, 8GB DDR4, 512GB PCIe NVMe SSD, Wi-Fi 6, Windows 10, Eclipse Grey Color, TUF516PE-AB73',\n",
       " 'MSI Pulse GL66 Gaming Laptop: 15.6\" 144Hz FHD 1080p Display, Intel Core i7-11800H, NVIDIA GeForce RTX 3070, 16GB, 512GB SSD, Win10, Black (11UGK-001)',\n",
       " 'HP Pavilion 15 Laptop, 11th Gen Intel Core i7-1165G7 Processor, 16 GB RAM, 512 GB SSD Storage, Full HD IPS micro-edge Display, Windows 11 Pro, Compact Design, Long Battery Life (15-eg0025nr, 2021)',\n",
       " 'HP Envy 17 Laptop, 11th Gen Intel Core i7-1165G7, 12 GB RAM, 1 TB SATA Hard Drive & 256 GB SSD Storage, 17.3-inch Full HD IPS Touchscreen, Windows 10 Home, HD Webcam, Audio by B&O (17-cg1010nr, 2021)',\n",
       " 'HP Pavilion 15 Laptop, 11th Gen Intel Core i7-1165G7 Processor, 16 GB RAM, 512 GB SSD Storage, Full HD IPS micro-edge Display, Windows 10 Pro, Compact Design, Long Battery Life (15-eg0021nr, 2020)']"
      ]
     },
     "execution_count": 178,
     "metadata": {},
     "output_type": "execute_result"
    }
   ],
   "source": [
    "for i in title_tags:\n",
    "    titles=i.text\n",
    "    title.append(titles)\n",
    "    \n",
    "title[0:10]"
   ]
  },
  {
   "cell_type": "code",
   "execution_count": 193,
   "id": "21745147",
   "metadata": {},
   "outputs": [
    {
     "data": {
      "text/plain": [
       "[<selenium.webdriver.remote.webelement.WebElement (session=\"5c00680777841bc559c41c24c3937535\", element=\"c7619c72-bc01-4e77-a1c9-7ce3b37e7364\")>,\n",
       " <selenium.webdriver.remote.webelement.WebElement (session=\"5c00680777841bc559c41c24c3937535\", element=\"4a610515-0f1f-488e-b04f-47c7f321a5bb\")>,\n",
       " <selenium.webdriver.remote.webelement.WebElement (session=\"5c00680777841bc559c41c24c3937535\", element=\"3e4d7439-bf3d-4cd1-b947-9a4887cc41bb\")>,\n",
       " <selenium.webdriver.remote.webelement.WebElement (session=\"5c00680777841bc559c41c24c3937535\", element=\"9009adbd-6073-4cad-9cb7-e928c8e9f6f8\")>,\n",
       " <selenium.webdriver.remote.webelement.WebElement (session=\"5c00680777841bc559c41c24c3937535\", element=\"24586dc7-93a2-43e4-a68d-3a33740bcbce\")>,\n",
       " <selenium.webdriver.remote.webelement.WebElement (session=\"5c00680777841bc559c41c24c3937535\", element=\"e79a468f-0320-462a-83d6-3baea394c4d1\")>,\n",
       " <selenium.webdriver.remote.webelement.WebElement (session=\"5c00680777841bc559c41c24c3937535\", element=\"7aa9d953-c2b0-4f5d-abe9-8dafef55c593\")>,\n",
       " <selenium.webdriver.remote.webelement.WebElement (session=\"5c00680777841bc559c41c24c3937535\", element=\"8e1b03e7-2c7d-4778-8d1e-40df9e707770\")>,\n",
       " <selenium.webdriver.remote.webelement.WebElement (session=\"5c00680777841bc559c41c24c3937535\", element=\"8cfc85ce-d87d-423d-9cf2-12fdd16bd1fd\")>,\n",
       " <selenium.webdriver.remote.webelement.WebElement (session=\"5c00680777841bc559c41c24c3937535\", element=\"490923f0-2edc-4ead-bdb5-551eb5be78d5\")>]"
      ]
     },
     "execution_count": 193,
     "metadata": {},
     "output_type": "execute_result"
    }
   ],
   "source": [
    "rating_tags=driver.find_elements_by_xpath(\"//span[@class='a-icon-alt']\")\n",
    "rating_tags[0:10]"
   ]
  },
  {
   "cell_type": "code",
   "execution_count": 197,
   "id": "e2399fa0",
   "metadata": {},
   "outputs": [
    {
     "data": {
      "text/plain": [
       "['', '', '', '', '', '', '', '', '', '']"
      ]
     },
     "execution_count": 197,
     "metadata": {},
     "output_type": "execute_result"
    }
   ],
   "source": [
    "for i in rating_tags:\n",
    "    ratings=i.text\n",
    "    rating.append(ratings)\n",
    "    \n",
    "rating[0:10]"
   ]
  },
  {
   "cell_type": "code",
   "execution_count": 190,
   "id": "457fe637",
   "metadata": {},
   "outputs": [
    {
     "data": {
      "text/plain": [
       "[<selenium.webdriver.remote.webelement.WebElement (session=\"5c00680777841bc559c41c24c3937535\", element=\"0eae6a83-ee87-4761-be6a-4f51d019ec7b\")>,\n",
       " <selenium.webdriver.remote.webelement.WebElement (session=\"5c00680777841bc559c41c24c3937535\", element=\"59a96617-f6aa-426c-bc56-78c3664e3e02\")>,\n",
       " <selenium.webdriver.remote.webelement.WebElement (session=\"5c00680777841bc559c41c24c3937535\", element=\"e9553445-d9c2-4dee-9632-e6459fba7bd4\")>,\n",
       " <selenium.webdriver.remote.webelement.WebElement (session=\"5c00680777841bc559c41c24c3937535\", element=\"60e9094a-0876-4a64-a7cf-40ea335b8c36\")>,\n",
       " <selenium.webdriver.remote.webelement.WebElement (session=\"5c00680777841bc559c41c24c3937535\", element=\"f2f05b00-ea9f-4b7d-9a21-01628658f0d5\")>,\n",
       " <selenium.webdriver.remote.webelement.WebElement (session=\"5c00680777841bc559c41c24c3937535\", element=\"7ae9ffe9-bea2-4a65-a830-3144626a0ba0\")>,\n",
       " <selenium.webdriver.remote.webelement.WebElement (session=\"5c00680777841bc559c41c24c3937535\", element=\"20230a0f-5e24-4131-aedb-c134bc73e076\")>,\n",
       " <selenium.webdriver.remote.webelement.WebElement (session=\"5c00680777841bc559c41c24c3937535\", element=\"93162d6b-38f1-43c4-b36b-ddd0b6b06144\")>,\n",
       " <selenium.webdriver.remote.webelement.WebElement (session=\"5c00680777841bc559c41c24c3937535\", element=\"63a21eec-c1ad-4a07-b261-7f35a8219c8e\")>,\n",
       " <selenium.webdriver.remote.webelement.WebElement (session=\"5c00680777841bc559c41c24c3937535\", element=\"9e76d923-26db-42d8-b068-e885c8b04491\")>]"
      ]
     },
     "execution_count": 190,
     "metadata": {},
     "output_type": "execute_result"
    }
   ],
   "source": [
    "price_tags=driver.find_elements_by_xpath(\"//span[@class='a-price-whole']\")\n",
    "price_tags[0:10]"
   ]
  },
  {
   "cell_type": "code",
   "execution_count": 191,
   "id": "58e5e243",
   "metadata": {},
   "outputs": [
    {
     "data": {
      "text/plain": [
       "['1,029',\n",
       " '969',\n",
       " '1,184',\n",
       " '1,049',\n",
       " '1,099',\n",
       " '849',\n",
       " '1,229',\n",
       " '833',\n",
       " '1,119',\n",
       " '884']"
      ]
     },
     "execution_count": 191,
     "metadata": {},
     "output_type": "execute_result"
    }
   ],
   "source": [
    "for i in price_tags:\n",
    "    prices=i.text\n",
    "    price.append(prices)\n",
    "    \n",
    "price[0:10]"
   ]
  },
  {
   "cell_type": "markdown",
   "id": "b4dbce53",
   "metadata": {},
   "source": [
    "# Q9: Write a python program to scrape data for first 10 job results for Data Scientist from Ambition Box"
   ]
  },
  {
   "cell_type": "code",
   "execution_count": 2,
   "id": "6985a09d",
   "metadata": {},
   "outputs": [],
   "source": [
    "driver=webdriver.Chrome(\"chromedriver.exe\")\n",
    "time.sleep(2)"
   ]
  },
  {
   "cell_type": "code",
   "execution_count": 3,
   "id": "ef74c164",
   "metadata": {},
   "outputs": [],
   "source": [
    "driver.get(\"https://www.ambitionbox.com\")"
   ]
  },
  {
   "cell_type": "code",
   "execution_count": 5,
   "id": "8b90c70c",
   "metadata": {},
   "outputs": [],
   "source": [
    "job_button=driver.find_element_by_xpath(\"/html/body/div[1]/nav/nav/a[6]\") \n",
    "job_button.click()"
   ]
  },
  {
   "cell_type": "code",
   "execution_count": 6,
   "id": "c7a4b8ee",
   "metadata": {},
   "outputs": [],
   "source": [
    "search_field_designation=driver.find_element_by_xpath(\"/html/body/div/div/div/div[2]/div[1]/div[1]/div/div/div/div/span/input\") \n",
    "search_field_designation.send_keys(\"Data Scientist\")"
   ]
  },
  {
   "cell_type": "code",
   "execution_count": 7,
   "id": "b06f453f",
   "metadata": {},
   "outputs": [],
   "source": [
    "search_button=driver.find_element_by_xpath(\"/html/body/div/div/div/div[2]/div[1]/div[1]/div/div/div/button/span\") \n",
    "search_button.click()"
   ]
  },
  {
   "cell_type": "code",
   "execution_count": 11,
   "id": "9ab043c3",
   "metadata": {},
   "outputs": [],
   "source": [
    "location_button=driver.find_element_by_xpath(\"/html/body/div/div/div/div[2]/div[1]/div[2]/div[1]/div/div/div/div[2]/div[1]/p\") \n",
    "location_button.click()"
   ]
  },
  {
   "cell_type": "code",
   "execution_count": 13,
   "id": "9c765030",
   "metadata": {},
   "outputs": [],
   "source": [
    "search_designation=driver.find_element_by_xpath(\"/html/body/div/div/div/div[2]/div[1]/div[2]/div[1]/div/div/div/div[2]/div[2]/div/div[2]/input\") \n",
    "search_designation.send_keys(\"Noida\")"
   ]
  },
  {
   "cell_type": "code",
   "execution_count": 14,
   "id": "eb79ade3",
   "metadata": {},
   "outputs": [],
   "source": [
    "noida_button=driver.find_element_by_xpath(\"/html/body/div/div/div/div[2]/div[1]/div[2]/div[1]/div/div/div/div[2]/div[2]/div/div[3]/div[1]/div[1]/div/label\") \n",
    "noida_button.click()\n"
   ]
  },
  {
   "cell_type": "code",
   "execution_count": 15,
   "id": "5179ed62",
   "metadata": {},
   "outputs": [],
   "source": [
    "job_title=[]\n",
    "company_name=[]\n",
    "rating=[]"
   ]
  },
  {
   "cell_type": "code",
   "execution_count": 246,
   "id": "90d599b1",
   "metadata": {},
   "outputs": [
    {
     "data": {
      "text/plain": [
       "[<selenium.webdriver.remote.webelement.WebElement (session=\"441a446050617feedecbf5af76b787df\", element=\"91a2249f-318f-4de0-a2ed-03d1bed09cf6\")>,\n",
       " <selenium.webdriver.remote.webelement.WebElement (session=\"441a446050617feedecbf5af76b787df\", element=\"99dd190a-cdf9-4143-97ea-4c97cc53c6bc\")>,\n",
       " <selenium.webdriver.remote.webelement.WebElement (session=\"441a446050617feedecbf5af76b787df\", element=\"2f93b220-78f9-419f-86f8-2910efee0b74\")>,\n",
       " <selenium.webdriver.remote.webelement.WebElement (session=\"441a446050617feedecbf5af76b787df\", element=\"e960ed05-5cf7-43d0-a66c-08af3985ba06\")>,\n",
       " <selenium.webdriver.remote.webelement.WebElement (session=\"441a446050617feedecbf5af76b787df\", element=\"a7f7a5cf-4827-4377-8784-d2d1b398fc3a\")>,\n",
       " <selenium.webdriver.remote.webelement.WebElement (session=\"441a446050617feedecbf5af76b787df\", element=\"ab99ca8d-958b-4e4c-9a7f-924ac540409f\")>,\n",
       " <selenium.webdriver.remote.webelement.WebElement (session=\"441a446050617feedecbf5af76b787df\", element=\"001dfdba-380d-410b-8344-8a14dc6101b5\")>,\n",
       " <selenium.webdriver.remote.webelement.WebElement (session=\"441a446050617feedecbf5af76b787df\", element=\"631498d5-64d7-4209-9ecd-b2b87be79d76\")>,\n",
       " <selenium.webdriver.remote.webelement.WebElement (session=\"441a446050617feedecbf5af76b787df\", element=\"089b2b5b-8315-4dd2-993e-2a6242dc0fee\")>,\n",
       " <selenium.webdriver.remote.webelement.WebElement (session=\"441a446050617feedecbf5af76b787df\", element=\"7ce4143a-c384-498e-84b1-2c6db2ef35b7\")>]"
      ]
     },
     "execution_count": 246,
     "metadata": {},
     "output_type": "execute_result"
    }
   ],
   "source": [
    "title_tags=driver.find_elements_by_xpath(\"//a[@class='title noclick']\")\n",
    "title_tags[0:10]"
   ]
  },
  {
   "cell_type": "code",
   "execution_count": 247,
   "id": "fd0a80a6",
   "metadata": {},
   "outputs": [
    {
     "data": {
      "text/plain": [
       "['Machine Learning Engineer',\n",
       " 'Data Scientist',\n",
       " 'Data Scientist with SAS',\n",
       " 'Hiring For Data Scientist + Python/R+ Predictive Modeling',\n",
       " 'Urgent Requirement || Data Scientist || Noida',\n",
       " 'Data Scientist - Machine Learning (5-14 yrs)',\n",
       " 'Data Scientist- Fresher Opening - Newgen Software Technologies',\n",
       " 'Senior Data Scientist',\n",
       " 'Data Analyst / Data Scientist',\n",
       " 'Data Scientist-II']"
      ]
     },
     "execution_count": 247,
     "metadata": {},
     "output_type": "execute_result"
    }
   ],
   "source": [
    "for i in title_tags:\n",
    "    titles=i.text\n",
    "    job_title.append(titles)\n",
    "    \n",
    "job_title[0:10]"
   ]
  },
  {
   "cell_type": "code",
   "execution_count": 230,
   "id": "dc3f296d",
   "metadata": {},
   "outputs": [
    {
     "data": {
      "text/plain": [
       "[<selenium.webdriver.remote.webelement.WebElement (session=\"441a446050617feedecbf5af76b787df\", element=\"e0618ed8-86b7-4de4-bb54-62cdc95390d3\")>,\n",
       " <selenium.webdriver.remote.webelement.WebElement (session=\"441a446050617feedecbf5af76b787df\", element=\"895487e8-b66c-4443-9379-999c9123b933\")>,\n",
       " <selenium.webdriver.remote.webelement.WebElement (session=\"441a446050617feedecbf5af76b787df\", element=\"5c55e9c6-f86f-41c3-9dc8-0098ec9f92a5\")>,\n",
       " <selenium.webdriver.remote.webelement.WebElement (session=\"441a446050617feedecbf5af76b787df\", element=\"0867c5fe-0592-462b-92ae-ac90b4a62036\")>,\n",
       " <selenium.webdriver.remote.webelement.WebElement (session=\"441a446050617feedecbf5af76b787df\", element=\"3b5bbfcb-bfc3-4ae2-89f7-7be5a5ab02b4\")>,\n",
       " <selenium.webdriver.remote.webelement.WebElement (session=\"441a446050617feedecbf5af76b787df\", element=\"63afc2ea-c86d-4107-a89c-366309180888\")>,\n",
       " <selenium.webdriver.remote.webelement.WebElement (session=\"441a446050617feedecbf5af76b787df\", element=\"ccd6a650-a6f4-4b06-8bc5-e7912417d6f1\")>,\n",
       " <selenium.webdriver.remote.webelement.WebElement (session=\"441a446050617feedecbf5af76b787df\", element=\"8fb71c94-b879-4bfd-8eaa-7c4669623529\")>,\n",
       " <selenium.webdriver.remote.webelement.WebElement (session=\"441a446050617feedecbf5af76b787df\", element=\"864209e9-dd21-434a-9371-55bf7cd7bff8\")>,\n",
       " <selenium.webdriver.remote.webelement.WebElement (session=\"441a446050617feedecbf5af76b787df\", element=\"f3d966e9-7242-46ca-a1ff-57afef359f49\")>]"
      ]
     },
     "execution_count": 230,
     "metadata": {},
     "output_type": "execute_result"
    }
   ],
   "source": [
    "company_tags=driver.find_elements_by_xpath(\"//div[@class='company-info']\")\n",
    "company_tags[0:10]"
   ]
  },
  {
   "cell_type": "code",
   "execution_count": 233,
   "id": "cd65a5e4",
   "metadata": {},
   "outputs": [
    {
     "data": {
      "text/plain": [
       "['GENPACT India Private Limited\\n · \\n4.0\\nbased on 16.9k Reviews',\n",
       " 'GENPACT India Private Limited\\n4.0\\n(16.8k Reviews)',\n",
       " 'GENPACT India Private Limited\\n4.0\\n(16.8k Reviews)',\n",
       " 'Tech Mahindra Ltd\\n3.7\\n(17.2k Reviews)',\n",
       " 'GENPACT India Private Limited\\n4.0\\n(16.8k Reviews)',\n",
       " 'HCL Technologies\\n3.8\\n(18.1k Reviews)',\n",
       " 'Zyoin\\n4.1\\n(72 Reviews)',\n",
       " 'Newgen Software Technologies Ltd.\\n3.5\\n(490 Reviews)',\n",
       " 'Pitney Bowes India Pvt Ltd\\n4.2\\n(114 Reviews)',\n",
       " 'JK Technosoft Ltd\\n3.6\\n(301 Reviews)']"
      ]
     },
     "execution_count": 233,
     "metadata": {},
     "output_type": "execute_result"
    }
   ],
   "source": [
    "for i in company_tags:\n",
    "    companies=i.text\n",
    "    company_name.append(companies)\n",
    "    \n",
    "company_name[0:10]"
   ]
  },
  {
   "cell_type": "code",
   "execution_count": 234,
   "id": "9618f534",
   "metadata": {},
   "outputs": [
    {
     "data": {
      "text/plain": [
       "[<selenium.webdriver.remote.webelement.WebElement (session=\"441a446050617feedecbf5af76b787df\", element=\"2c6de424-0a74-4c71-9b0c-cd1318c8a39d\")>,\n",
       " <selenium.webdriver.remote.webelement.WebElement (session=\"441a446050617feedecbf5af76b787df\", element=\"483853c0-79f2-4d6c-898d-4400c574355c\")>,\n",
       " <selenium.webdriver.remote.webelement.WebElement (session=\"441a446050617feedecbf5af76b787df\", element=\"1d05aefd-703e-4e07-af8f-81a95135031b\")>,\n",
       " <selenium.webdriver.remote.webelement.WebElement (session=\"441a446050617feedecbf5af76b787df\", element=\"50dfed30-7760-466b-9e01-fd6e18b495f3\")>,\n",
       " <selenium.webdriver.remote.webelement.WebElement (session=\"441a446050617feedecbf5af76b787df\", element=\"5335916b-07ab-4946-8315-5592f91c2078\")>,\n",
       " <selenium.webdriver.remote.webelement.WebElement (session=\"441a446050617feedecbf5af76b787df\", element=\"eda60309-6835-49d3-b615-b22253f17de3\")>,\n",
       " <selenium.webdriver.remote.webelement.WebElement (session=\"441a446050617feedecbf5af76b787df\", element=\"efd1e0a8-4d50-40c2-9ba2-eefc983187a3\")>,\n",
       " <selenium.webdriver.remote.webelement.WebElement (session=\"441a446050617feedecbf5af76b787df\", element=\"8305eba7-7b8f-4934-98c4-1f0bab0b68f2\")>,\n",
       " <selenium.webdriver.remote.webelement.WebElement (session=\"441a446050617feedecbf5af76b787df\", element=\"3cc8cecb-e931-4e3b-91fb-a5bec573a137\")>,\n",
       " <selenium.webdriver.remote.webelement.WebElement (session=\"441a446050617feedecbf5af76b787df\", element=\"b0b19fb2-5097-4519-8e3b-87d6ac177990\")>]"
      ]
     },
     "execution_count": 234,
     "metadata": {},
     "output_type": "execute_result"
    }
   ],
   "source": [
    "rating_tags=driver.find_elements_by_xpath(\"//div[@class='rating-wrapper']\")\n",
    "rating_tags[0:10]"
   ]
  },
  {
   "cell_type": "code",
   "execution_count": 242,
   "id": "0fa445f3",
   "metadata": {},
   "outputs": [
    {
     "data": {
      "text/plain": [
       "['',\n",
       " '',\n",
       " '',\n",
       " '4.0\\nbased on 16.9k Reviews',\n",
       " '4.0\\n(16.8k Reviews)',\n",
       " '4.0\\n(16.8k Reviews)',\n",
       " '3.7\\n(17.2k Reviews)',\n",
       " '4.0\\n(16.8k Reviews)',\n",
       " '3.8\\n(18.1k Reviews)',\n",
       " '4.1\\n(72 Reviews)']"
      ]
     },
     "execution_count": 242,
     "metadata": {},
     "output_type": "execute_result"
    }
   ],
   "source": [
    "for i in rating_tags:\n",
    "    ratings=i.text\n",
    "    rating.append(ratings)\n",
    "    \n",
    "rating[3:13]"
   ]
  },
  {
   "cell_type": "code",
   "execution_count": 248,
   "id": "12c4e3ba",
   "metadata": {},
   "outputs": [
    {
     "name": "stdout",
     "output_type": "stream",
     "text": [
      "20 11 70\n"
     ]
    }
   ],
   "source": [
    "print(len(job_title),len(company_name),len(rating))"
   ]
  },
  {
   "cell_type": "code",
   "execution_count": 249,
   "id": "a9b7a519",
   "metadata": {},
   "outputs": [],
   "source": [
    "dataframe=pd.DataFrame({'Job Titles':job_title[0:10],'Company Names':company_name[0:10],'Rating':rating[3:13]})"
   ]
  },
  {
   "cell_type": "code",
   "execution_count": 250,
   "id": "90bcd640",
   "metadata": {},
   "outputs": [
    {
     "data": {
      "text/html": [
       "<div>\n",
       "<style scoped>\n",
       "    .dataframe tbody tr th:only-of-type {\n",
       "        vertical-align: middle;\n",
       "    }\n",
       "\n",
       "    .dataframe tbody tr th {\n",
       "        vertical-align: top;\n",
       "    }\n",
       "\n",
       "    .dataframe thead th {\n",
       "        text-align: right;\n",
       "    }\n",
       "</style>\n",
       "<table border=\"1\" class=\"dataframe\">\n",
       "  <thead>\n",
       "    <tr style=\"text-align: right;\">\n",
       "      <th></th>\n",
       "      <th>Job Titles</th>\n",
       "      <th>Company Names</th>\n",
       "      <th>Rating</th>\n",
       "    </tr>\n",
       "  </thead>\n",
       "  <tbody>\n",
       "    <tr>\n",
       "      <th>0</th>\n",
       "      <td>Machine Learning Engineer</td>\n",
       "      <td>GENPACT India Private Limited\\n · \\n4.0\\nbased...</td>\n",
       "      <td>4.0\\nbased on 16.9k Reviews</td>\n",
       "    </tr>\n",
       "    <tr>\n",
       "      <th>1</th>\n",
       "      <td>Data Scientist</td>\n",
       "      <td>GENPACT India Private Limited\\n4.0\\n(16.8k Rev...</td>\n",
       "      <td>4.0\\n(16.8k Reviews)</td>\n",
       "    </tr>\n",
       "    <tr>\n",
       "      <th>2</th>\n",
       "      <td>Data Scientist with SAS</td>\n",
       "      <td>GENPACT India Private Limited\\n4.0\\n(16.8k Rev...</td>\n",
       "      <td>4.0\\n(16.8k Reviews)</td>\n",
       "    </tr>\n",
       "    <tr>\n",
       "      <th>3</th>\n",
       "      <td>Hiring For Data Scientist + Python/R+ Predicti...</td>\n",
       "      <td>Tech Mahindra Ltd\\n3.7\\n(17.2k Reviews)</td>\n",
       "      <td>3.7\\n(17.2k Reviews)</td>\n",
       "    </tr>\n",
       "    <tr>\n",
       "      <th>4</th>\n",
       "      <td>Urgent Requirement || Data Scientist || Noida</td>\n",
       "      <td>GENPACT India Private Limited\\n4.0\\n(16.8k Rev...</td>\n",
       "      <td>4.0\\n(16.8k Reviews)</td>\n",
       "    </tr>\n",
       "    <tr>\n",
       "      <th>5</th>\n",
       "      <td>Data Scientist - Machine Learning (5-14 yrs)</td>\n",
       "      <td>HCL Technologies\\n3.8\\n(18.1k Reviews)</td>\n",
       "      <td>3.8\\n(18.1k Reviews)</td>\n",
       "    </tr>\n",
       "    <tr>\n",
       "      <th>6</th>\n",
       "      <td>Data Scientist- Fresher Opening - Newgen Softw...</td>\n",
       "      <td>Zyoin\\n4.1\\n(72 Reviews)</td>\n",
       "      <td>4.1\\n(72 Reviews)</td>\n",
       "    </tr>\n",
       "    <tr>\n",
       "      <th>7</th>\n",
       "      <td>Senior Data Scientist</td>\n",
       "      <td>Newgen Software Technologies Ltd.\\n3.5\\n(490 R...</td>\n",
       "      <td>3.5\\n(490 Reviews)</td>\n",
       "    </tr>\n",
       "    <tr>\n",
       "      <th>8</th>\n",
       "      <td>Data Analyst / Data Scientist</td>\n",
       "      <td>Pitney Bowes India Pvt Ltd\\n4.2\\n(114 Reviews)</td>\n",
       "      <td>4.2\\n(114 Reviews)</td>\n",
       "    </tr>\n",
       "    <tr>\n",
       "      <th>9</th>\n",
       "      <td>Data Scientist-II</td>\n",
       "      <td>JK Technosoft Ltd\\n3.6\\n(301 Reviews)</td>\n",
       "      <td>3.6\\n(301 Reviews)</td>\n",
       "    </tr>\n",
       "  </tbody>\n",
       "</table>\n",
       "</div>"
      ],
      "text/plain": [
       "                                          Job Titles  \\\n",
       "0                          Machine Learning Engineer   \n",
       "1                                     Data Scientist   \n",
       "2                            Data Scientist with SAS   \n",
       "3  Hiring For Data Scientist + Python/R+ Predicti...   \n",
       "4      Urgent Requirement || Data Scientist || Noida   \n",
       "5       Data Scientist - Machine Learning (5-14 yrs)   \n",
       "6  Data Scientist- Fresher Opening - Newgen Softw...   \n",
       "7                              Senior Data Scientist   \n",
       "8                      Data Analyst / Data Scientist   \n",
       "9                                  Data Scientist-II   \n",
       "\n",
       "                                       Company Names  \\\n",
       "0  GENPACT India Private Limited\\n · \\n4.0\\nbased...   \n",
       "1  GENPACT India Private Limited\\n4.0\\n(16.8k Rev...   \n",
       "2  GENPACT India Private Limited\\n4.0\\n(16.8k Rev...   \n",
       "3            Tech Mahindra Ltd\\n3.7\\n(17.2k Reviews)   \n",
       "4  GENPACT India Private Limited\\n4.0\\n(16.8k Rev...   \n",
       "5             HCL Technologies\\n3.8\\n(18.1k Reviews)   \n",
       "6                           Zyoin\\n4.1\\n(72 Reviews)   \n",
       "7  Newgen Software Technologies Ltd.\\n3.5\\n(490 R...   \n",
       "8     Pitney Bowes India Pvt Ltd\\n4.2\\n(114 Reviews)   \n",
       "9              JK Technosoft Ltd\\n3.6\\n(301 Reviews)   \n",
       "\n",
       "                        Rating  \n",
       "0  4.0\\nbased on 16.9k Reviews  \n",
       "1         4.0\\n(16.8k Reviews)  \n",
       "2         4.0\\n(16.8k Reviews)  \n",
       "3         3.7\\n(17.2k Reviews)  \n",
       "4         4.0\\n(16.8k Reviews)  \n",
       "5         3.8\\n(18.1k Reviews)  \n",
       "6            4.1\\n(72 Reviews)  \n",
       "7           3.5\\n(490 Reviews)  \n",
       "8           4.2\\n(114 Reviews)  \n",
       "9           3.6\\n(301 Reviews)  "
      ]
     },
     "execution_count": 250,
     "metadata": {},
     "output_type": "execute_result"
    }
   ],
   "source": [
    "dataframe"
   ]
  },
  {
   "cell_type": "markdown",
   "id": "6900a7e7",
   "metadata": {},
   "source": [
    "# Q10  Write a python program to scrape data for first 10 job results for Data Scientist from Ambition Box"
   ]
  },
  {
   "cell_type": "code",
   "execution_count": 89,
   "id": "63c13286",
   "metadata": {},
   "outputs": [],
   "source": [
    "driver=webdriver.Chrome(\"chromedriver.exe\")\n",
    "time.sleep(2)"
   ]
  },
  {
   "cell_type": "code",
   "execution_count": 90,
   "id": "42052061",
   "metadata": {},
   "outputs": [],
   "source": [
    "driver.get(\"https://www.ambitionbox.com\")"
   ]
  },
  {
   "cell_type": "code",
   "execution_count": 91,
   "id": "3c7027dc",
   "metadata": {},
   "outputs": [],
   "source": [
    "salary_button=driver.find_element_by_xpath(\"/html/body/div[1]/nav/nav/a[4]\") \n",
    "salary_button.click()"
   ]
  },
  {
   "cell_type": "code",
   "execution_count": 92,
   "id": "f0b592ab",
   "metadata": {},
   "outputs": [],
   "source": [
    "search_field_designation=driver.find_element_by_xpath(\"/html/body/div/div/div/div[2]/div/div/div/div[1]/span/input\") \n",
    "search_field_designation.send_keys(\"Data Scientist\")\n"
   ]
  },
  {
   "cell_type": "code",
   "execution_count": 93,
   "id": "69657cbb",
   "metadata": {},
   "outputs": [],
   "source": [
    "company=[]\n",
    "average=[]\n",
    "minimum=[]\n",
    "maximum=[]\n",
    "experience=[]"
   ]
  },
  {
   "cell_type": "code",
   "execution_count": 94,
   "id": "27b8a0a8",
   "metadata": {},
   "outputs": [
    {
     "data": {
      "text/plain": [
       "[<selenium.webdriver.remote.webelement.WebElement (session=\"9651c55dd58a47725f4ec586e897f916\", element=\"e3754cbf-e4ff-42b9-a113-c68c046983c5\")>,\n",
       " <selenium.webdriver.remote.webelement.WebElement (session=\"9651c55dd58a47725f4ec586e897f916\", element=\"62c2c6d4-70bf-4843-9e97-bfa496364ed5\")>,\n",
       " <selenium.webdriver.remote.webelement.WebElement (session=\"9651c55dd58a47725f4ec586e897f916\", element=\"c24eafaf-20b5-4b1c-a555-93d42f7f7676\")>,\n",
       " <selenium.webdriver.remote.webelement.WebElement (session=\"9651c55dd58a47725f4ec586e897f916\", element=\"8a1458f1-7953-45d4-a81d-142ce9885833\")>,\n",
       " <selenium.webdriver.remote.webelement.WebElement (session=\"9651c55dd58a47725f4ec586e897f916\", element=\"df781a4f-0c2f-40c2-8e83-3cf4d5f577af\")>,\n",
       " <selenium.webdriver.remote.webelement.WebElement (session=\"9651c55dd58a47725f4ec586e897f916\", element=\"f1c6bb09-6692-4075-a104-8cd76dc3ff4b\")>,\n",
       " <selenium.webdriver.remote.webelement.WebElement (session=\"9651c55dd58a47725f4ec586e897f916\", element=\"cd958c02-14b4-4a15-bb32-eb58cfd29b4c\")>,\n",
       " <selenium.webdriver.remote.webelement.WebElement (session=\"9651c55dd58a47725f4ec586e897f916\", element=\"01852ee5-9e2e-424a-b52f-5ef38a5ed598\")>,\n",
       " <selenium.webdriver.remote.webelement.WebElement (session=\"9651c55dd58a47725f4ec586e897f916\", element=\"91b23661-5535-4933-b946-9109ae694236\")>,\n",
       " <selenium.webdriver.remote.webelement.WebElement (session=\"9651c55dd58a47725f4ec586e897f916\", element=\"82999fe4-a013-4270-b688-6e823dbfa3be\")>]"
      ]
     },
     "execution_count": 94,
     "metadata": {},
     "output_type": "execute_result"
    }
   ],
   "source": [
    "name_tags=driver.find_elements_by_xpath(\"//div[@class='name']\")\n",
    "name_tags[0:10]"
   ]
  },
  {
   "cell_type": "code",
   "execution_count": 95,
   "id": "cc631381",
   "metadata": {},
   "outputs": [
    {
     "data": {
      "text/plain": [
       "['Google\\nbased on 11 salaries',\n",
       " 'Arista Networks\\nbased on 12 salaries',\n",
       " 'Microsoft Corporation\\nbased on 252 salaries',\n",
       " 'Goldman Sachs\\nbased on 16 salaries',\n",
       " 'Tekion\\nbased on 31 salaries',\n",
       " 'Flipkart\\nbased on 60 salaries',\n",
       " 'Servicenow Software Development India\\nbased on 52 salaries',\n",
       " 'Walmart\\nbased on 81 salaries',\n",
       " 'PayPal\\nbased on 26 salaries',\n",
       " 'Amazon\\nbased on 102 salaries']"
      ]
     },
     "execution_count": 95,
     "metadata": {},
     "output_type": "execute_result"
    }
   ],
   "source": [
    "for i in name_tags:\n",
    "    names=i.text\n",
    "    company.append(names)\n",
    "company[0:10]    "
   ]
  },
  {
   "cell_type": "code",
   "execution_count": 96,
   "id": "e8742730",
   "metadata": {},
   "outputs": [
    {
     "data": {
      "text/plain": [
       "[<selenium.webdriver.remote.webelement.WebElement (session=\"9651c55dd58a47725f4ec586e897f916\", element=\"797391bd-a944-47b0-829a-954e0cb372b0\")>,\n",
       " <selenium.webdriver.remote.webelement.WebElement (session=\"9651c55dd58a47725f4ec586e897f916\", element=\"69a29bc6-39d1-4aa6-a036-e511151f39fa\")>,\n",
       " <selenium.webdriver.remote.webelement.WebElement (session=\"9651c55dd58a47725f4ec586e897f916\", element=\"a80092d2-c782-4fa4-8518-d261f626ecdd\")>,\n",
       " <selenium.webdriver.remote.webelement.WebElement (session=\"9651c55dd58a47725f4ec586e897f916\", element=\"69b21fdf-37a5-482c-a336-1e98b8575374\")>,\n",
       " <selenium.webdriver.remote.webelement.WebElement (session=\"9651c55dd58a47725f4ec586e897f916\", element=\"6eae018b-4bbb-41d3-b318-72a2559cd198\")>,\n",
       " <selenium.webdriver.remote.webelement.WebElement (session=\"9651c55dd58a47725f4ec586e897f916\", element=\"57a25dd2-67b7-4943-bd28-5eb938198aa3\")>,\n",
       " <selenium.webdriver.remote.webelement.WebElement (session=\"9651c55dd58a47725f4ec586e897f916\", element=\"23b09068-6d5c-46c5-b4bc-0af41187ac14\")>,\n",
       " <selenium.webdriver.remote.webelement.WebElement (session=\"9651c55dd58a47725f4ec586e897f916\", element=\"14136dfc-d36f-4de0-9692-f2b8fe750e4f\")>,\n",
       " <selenium.webdriver.remote.webelement.WebElement (session=\"9651c55dd58a47725f4ec586e897f916\", element=\"9211bc2e-dcba-4f1b-8dc7-57f4f2ab12ef\")>,\n",
       " <selenium.webdriver.remote.webelement.WebElement (session=\"9651c55dd58a47725f4ec586e897f916\", element=\"0c0e1869-ae53-45da-a37b-8b1b15583514\")>]"
      ]
     },
     "execution_count": 96,
     "metadata": {},
     "output_type": "execute_result"
    }
   ],
   "source": [
    "average_tags=driver.find_elements_by_xpath(\"//div[@class='average-indicator-wrapper']\")\n",
    "average_tags[0:10]"
   ]
  },
  {
   "cell_type": "code",
   "execution_count": 97,
   "id": "2bb63531",
   "metadata": {},
   "outputs": [
    {
     "data": {
      "text/plain": [
       "['₹ 26.9L',\n",
       " '₹ 25.0L',\n",
       " '₹ 23.7L',\n",
       " '₹ 22.3L',\n",
       " '₹ 21.3L',\n",
       " '₹ 20.5L',\n",
       " '₹ 20.0L',\n",
       " '₹ 19.8L',\n",
       " '₹ 19.8L',\n",
       " '₹ 19.7L']"
      ]
     },
     "execution_count": 97,
     "metadata": {},
     "output_type": "execute_result"
    }
   ],
   "source": [
    "for i in average_tags:\n",
    "    averages=i.text\n",
    "    average.append(averages)\n",
    "average[0:10] "
   ]
  },
  {
   "cell_type": "code",
   "execution_count": 98,
   "id": "ae7789b1",
   "metadata": {},
   "outputs": [
    {
     "data": {
      "text/plain": [
       "[<selenium.webdriver.remote.webelement.WebElement (session=\"9651c55dd58a47725f4ec586e897f916\", element=\"a06d72bb-be54-4563-9092-9af5435bf4f7\")>,\n",
       " <selenium.webdriver.remote.webelement.WebElement (session=\"9651c55dd58a47725f4ec586e897f916\", element=\"506aed54-1dd5-47a7-83ff-ce0f3581586d\")>,\n",
       " <selenium.webdriver.remote.webelement.WebElement (session=\"9651c55dd58a47725f4ec586e897f916\", element=\"641d1095-5bec-4062-bc39-c0c5b6d26688\")>,\n",
       " <selenium.webdriver.remote.webelement.WebElement (session=\"9651c55dd58a47725f4ec586e897f916\", element=\"6d7823d7-ce9b-4147-a993-da31b613a56d\")>,\n",
       " <selenium.webdriver.remote.webelement.WebElement (session=\"9651c55dd58a47725f4ec586e897f916\", element=\"6776d4aa-98ad-4736-b358-8c90bab6c79d\")>,\n",
       " <selenium.webdriver.remote.webelement.WebElement (session=\"9651c55dd58a47725f4ec586e897f916\", element=\"cf038dd4-63f1-499c-b57b-d2564643f055\")>,\n",
       " <selenium.webdriver.remote.webelement.WebElement (session=\"9651c55dd58a47725f4ec586e897f916\", element=\"cd3abdee-9787-483d-81b1-394c3a157b46\")>,\n",
       " <selenium.webdriver.remote.webelement.WebElement (session=\"9651c55dd58a47725f4ec586e897f916\", element=\"4f07efbc-377f-4235-a627-ca18e24888bc\")>,\n",
       " <selenium.webdriver.remote.webelement.WebElement (session=\"9651c55dd58a47725f4ec586e897f916\", element=\"8036ae06-733e-40a0-87dc-fe9531da35a1\")>,\n",
       " <selenium.webdriver.remote.webelement.WebElement (session=\"9651c55dd58a47725f4ec586e897f916\", element=\"f75d82dd-2bc3-4764-900d-77739348f221\")>]"
      ]
     },
     "execution_count": 98,
     "metadata": {},
     "output_type": "execute_result"
    }
   ],
   "source": [
    "minimum_tags=driver.find_elements_by_xpath(\"//div[@class='salary-values']/div[1]\")\n",
    "minimum_tags[0:10]"
   ]
  },
  {
   "cell_type": "code",
   "execution_count": 99,
   "id": "67da9b88",
   "metadata": {},
   "outputs": [
    {
     "data": {
      "text/plain": [
       "['₹ 10.4L',\n",
       " '₹ 10.7L',\n",
       " '₹ 13.0L',\n",
       " '₹ 12.0L',\n",
       " '₹ 12.0L',\n",
       " '₹ 7.5L',\n",
       " '₹ 13.0L',\n",
       " '₹ 11.0L',\n",
       " '₹ 12.0L',\n",
       " '₹ 8.0L']"
      ]
     },
     "execution_count": 99,
     "metadata": {},
     "output_type": "execute_result"
    }
   ],
   "source": [
    "for i in minimum_tags:\n",
    "    minimums=i.text\n",
    "    minimum.append(minimums)\n",
    "    \n",
    "minimum[0:10]    "
   ]
  },
  {
   "cell_type": "code",
   "execution_count": 100,
   "id": "92397d5c",
   "metadata": {},
   "outputs": [
    {
     "data": {
      "text/plain": [
       "[<selenium.webdriver.remote.webelement.WebElement (session=\"9651c55dd58a47725f4ec586e897f916\", element=\"2d288c9b-716f-4ef6-abc8-f8015bb85990\")>,\n",
       " <selenium.webdriver.remote.webelement.WebElement (session=\"9651c55dd58a47725f4ec586e897f916\", element=\"3aa16b3a-ec77-40f4-8cbc-7ebb1de90f49\")>,\n",
       " <selenium.webdriver.remote.webelement.WebElement (session=\"9651c55dd58a47725f4ec586e897f916\", element=\"4d486e69-bf4d-41aa-9422-2ac44544c5a1\")>,\n",
       " <selenium.webdriver.remote.webelement.WebElement (session=\"9651c55dd58a47725f4ec586e897f916\", element=\"e66cd524-4343-4057-b154-e7010ae11b2a\")>,\n",
       " <selenium.webdriver.remote.webelement.WebElement (session=\"9651c55dd58a47725f4ec586e897f916\", element=\"cb472c9c-736d-4258-8a78-93c5d028ede2\")>,\n",
       " <selenium.webdriver.remote.webelement.WebElement (session=\"9651c55dd58a47725f4ec586e897f916\", element=\"6bbaa4a0-9dc0-4c93-9b16-05819d166a97\")>,\n",
       " <selenium.webdriver.remote.webelement.WebElement (session=\"9651c55dd58a47725f4ec586e897f916\", element=\"b83205a1-e9fa-4016-a551-3ddbd278311a\")>,\n",
       " <selenium.webdriver.remote.webelement.WebElement (session=\"9651c55dd58a47725f4ec586e897f916\", element=\"b0b18d83-e231-465c-95d0-e4ed7e065629\")>,\n",
       " <selenium.webdriver.remote.webelement.WebElement (session=\"9651c55dd58a47725f4ec586e897f916\", element=\"df8d7f57-0055-4648-900e-73c99258106d\")>,\n",
       " <selenium.webdriver.remote.webelement.WebElement (session=\"9651c55dd58a47725f4ec586e897f916\", element=\"49ebb1bd-4176-4bb3-baad-cb5eb9347d63\")>]"
      ]
     },
     "execution_count": 100,
     "metadata": {},
     "output_type": "execute_result"
    }
   ],
   "source": [
    "maximum_tags=driver.find_elements_by_xpath(\"//div[@class='salary-values']/div[2]\")\n",
    "maximum_tags[0:10]"
   ]
  },
  {
   "cell_type": "code",
   "execution_count": 101,
   "id": "1310dfd3",
   "metadata": {},
   "outputs": [
    {
     "data": {
      "text/plain": [
       "['₹ 40.0L',\n",
       " '₹ 38.0L',\n",
       " '₹ 45.0L',\n",
       " '₹ 34.0L',\n",
       " '₹ 33.0L',\n",
       " '₹ 31.0L',\n",
       " '₹ 26.3L',\n",
       " '₹ 32.5L',\n",
       " '₹ 30.0L',\n",
       " '₹ 43.0L']"
      ]
     },
     "execution_count": 101,
     "metadata": {},
     "output_type": "execute_result"
    }
   ],
   "source": [
    "for i in maximum_tags:\n",
    "    maximums=i.text\n",
    "    maximum.append(maximums)\n",
    "    \n",
    "maximum[0:10]"
   ]
  },
  {
   "cell_type": "code",
   "execution_count": 102,
   "id": "4ccd3bdb",
   "metadata": {},
   "outputs": [],
   "source": [
    "jobs=pd.DataFrame({'Company/SalaryRecords':company[0:10],'Average Salary':average[0:10],'Minimum salary':minimum[0:10],'Maximum Salary':maximum[0:10],})"
   ]
  },
  {
   "cell_type": "code",
   "execution_count": 103,
   "id": "da8cec61",
   "metadata": {},
   "outputs": [
    {
     "data": {
      "text/html": [
       "<div>\n",
       "<style scoped>\n",
       "    .dataframe tbody tr th:only-of-type {\n",
       "        vertical-align: middle;\n",
       "    }\n",
       "\n",
       "    .dataframe tbody tr th {\n",
       "        vertical-align: top;\n",
       "    }\n",
       "\n",
       "    .dataframe thead th {\n",
       "        text-align: right;\n",
       "    }\n",
       "</style>\n",
       "<table border=\"1\" class=\"dataframe\">\n",
       "  <thead>\n",
       "    <tr style=\"text-align: right;\">\n",
       "      <th></th>\n",
       "      <th>Company/SalaryRecords</th>\n",
       "      <th>Average Salary</th>\n",
       "      <th>Minimum salary</th>\n",
       "      <th>Maximum Salary</th>\n",
       "    </tr>\n",
       "  </thead>\n",
       "  <tbody>\n",
       "    <tr>\n",
       "      <th>0</th>\n",
       "      <td>Google\\nbased on 11 salaries</td>\n",
       "      <td>₹ 26.9L</td>\n",
       "      <td>₹ 10.4L</td>\n",
       "      <td>₹ 40.0L</td>\n",
       "    </tr>\n",
       "    <tr>\n",
       "      <th>1</th>\n",
       "      <td>Arista Networks\\nbased on 12 salaries</td>\n",
       "      <td>₹ 25.0L</td>\n",
       "      <td>₹ 10.7L</td>\n",
       "      <td>₹ 38.0L</td>\n",
       "    </tr>\n",
       "    <tr>\n",
       "      <th>2</th>\n",
       "      <td>Microsoft Corporation\\nbased on 252 salaries</td>\n",
       "      <td>₹ 23.7L</td>\n",
       "      <td>₹ 13.0L</td>\n",
       "      <td>₹ 45.0L</td>\n",
       "    </tr>\n",
       "    <tr>\n",
       "      <th>3</th>\n",
       "      <td>Goldman Sachs\\nbased on 16 salaries</td>\n",
       "      <td>₹ 22.3L</td>\n",
       "      <td>₹ 12.0L</td>\n",
       "      <td>₹ 34.0L</td>\n",
       "    </tr>\n",
       "    <tr>\n",
       "      <th>4</th>\n",
       "      <td>Tekion\\nbased on 31 salaries</td>\n",
       "      <td>₹ 21.3L</td>\n",
       "      <td>₹ 12.0L</td>\n",
       "      <td>₹ 33.0L</td>\n",
       "    </tr>\n",
       "    <tr>\n",
       "      <th>5</th>\n",
       "      <td>Flipkart\\nbased on 60 salaries</td>\n",
       "      <td>₹ 20.5L</td>\n",
       "      <td>₹ 7.5L</td>\n",
       "      <td>₹ 31.0L</td>\n",
       "    </tr>\n",
       "    <tr>\n",
       "      <th>6</th>\n",
       "      <td>Servicenow Software Development India\\nbased o...</td>\n",
       "      <td>₹ 20.0L</td>\n",
       "      <td>₹ 13.0L</td>\n",
       "      <td>₹ 26.3L</td>\n",
       "    </tr>\n",
       "    <tr>\n",
       "      <th>7</th>\n",
       "      <td>Walmart\\nbased on 81 salaries</td>\n",
       "      <td>₹ 19.8L</td>\n",
       "      <td>₹ 11.0L</td>\n",
       "      <td>₹ 32.5L</td>\n",
       "    </tr>\n",
       "    <tr>\n",
       "      <th>8</th>\n",
       "      <td>PayPal\\nbased on 26 salaries</td>\n",
       "      <td>₹ 19.8L</td>\n",
       "      <td>₹ 12.0L</td>\n",
       "      <td>₹ 30.0L</td>\n",
       "    </tr>\n",
       "    <tr>\n",
       "      <th>9</th>\n",
       "      <td>Amazon\\nbased on 102 salaries</td>\n",
       "      <td>₹ 19.7L</td>\n",
       "      <td>₹ 8.0L</td>\n",
       "      <td>₹ 43.0L</td>\n",
       "    </tr>\n",
       "  </tbody>\n",
       "</table>\n",
       "</div>"
      ],
      "text/plain": [
       "                               Company/SalaryRecords Average Salary  \\\n",
       "0                       Google\\nbased on 11 salaries        ₹ 26.9L   \n",
       "1              Arista Networks\\nbased on 12 salaries        ₹ 25.0L   \n",
       "2       Microsoft Corporation\\nbased on 252 salaries        ₹ 23.7L   \n",
       "3                Goldman Sachs\\nbased on 16 salaries        ₹ 22.3L   \n",
       "4                       Tekion\\nbased on 31 salaries        ₹ 21.3L   \n",
       "5                     Flipkart\\nbased on 60 salaries        ₹ 20.5L   \n",
       "6  Servicenow Software Development India\\nbased o...        ₹ 20.0L   \n",
       "7                      Walmart\\nbased on 81 salaries        ₹ 19.8L   \n",
       "8                       PayPal\\nbased on 26 salaries        ₹ 19.8L   \n",
       "9                      Amazon\\nbased on 102 salaries        ₹ 19.7L   \n",
       "\n",
       "  Minimum salary Maximum Salary  \n",
       "0        ₹ 10.4L        ₹ 40.0L  \n",
       "1        ₹ 10.7L        ₹ 38.0L  \n",
       "2        ₹ 13.0L        ₹ 45.0L  \n",
       "3        ₹ 12.0L        ₹ 34.0L  \n",
       "4        ₹ 12.0L        ₹ 33.0L  \n",
       "5         ₹ 7.5L        ₹ 31.0L  \n",
       "6        ₹ 13.0L        ₹ 26.3L  \n",
       "7        ₹ 11.0L        ₹ 32.5L  \n",
       "8        ₹ 12.0L        ₹ 30.0L  \n",
       "9         ₹ 8.0L        ₹ 43.0L  "
      ]
     },
     "execution_count": 103,
     "metadata": {},
     "output_type": "execute_result"
    }
   ],
   "source": [
    "jobs"
   ]
  },
  {
   "cell_type": "code",
   "execution_count": null,
   "id": "0d3f51b1",
   "metadata": {},
   "outputs": [],
   "source": []
  }
 ],
 "metadata": {
  "kernelspec": {
   "display_name": "Python 3",
   "language": "python",
   "name": "python3"
  },
  "language_info": {
   "codemirror_mode": {
    "name": "ipython",
    "version": 3
   },
   "file_extension": ".py",
   "mimetype": "text/x-python",
   "name": "python",
   "nbconvert_exporter": "python",
   "pygments_lexer": "ipython3",
   "version": "3.8.8"
  }
 },
 "nbformat": 4,
 "nbformat_minor": 5
}
