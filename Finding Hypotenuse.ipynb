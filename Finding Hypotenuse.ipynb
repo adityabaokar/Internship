{
 "cells": [
  {
   "cell_type": "markdown",
   "id": "9cd13976",
   "metadata": {},
   "source": [
    "# Finding Hypotenuse"
   ]
  },
  {
   "cell_type": "code",
   "execution_count": 5,
   "id": "33ca7a07",
   "metadata": {},
   "outputs": [
    {
     "name": "stdout",
     "output_type": "stream",
     "text": [
      "Value of Side 1 : 20\n",
      "Value of Side 2 : 10\n",
      "Value of hypotenuse :  22.360679774997898\n"
     ]
    }
   ],
   "source": [
    "def findHypotenuse(side1, side2):\n",
    " \n",
    "    h = (((side1 * side1) + (side2 * side2))**(1/2));\n",
    "    return h;\n",
    " \n",
    "\n",
    "side1 = int(input(\"Value of Side 1 : \"));\n",
    "side2 = int(input(\"Value of Side 2 : \"));\n",
    " \n",
    "print(\"Value of hypotenuse : \",findHypotenuse(side1, side2));"
   ]
  },
  {
   "cell_type": "code",
   "execution_count": null,
   "id": "4ef7ddd9",
   "metadata": {},
   "outputs": [],
   "source": []
  }
 ],
 "metadata": {
  "kernelspec": {
   "display_name": "Python 3",
   "language": "python",
   "name": "python3"
  },
  "language_info": {
   "codemirror_mode": {
    "name": "ipython",
    "version": 3
   },
   "file_extension": ".py",
   "mimetype": "text/x-python",
   "name": "python",
   "nbconvert_exporter": "python",
   "pygments_lexer": "ipython3",
   "version": "3.8.8"
  }
 },
 "nbformat": 4,
 "nbformat_minor": 5
}
